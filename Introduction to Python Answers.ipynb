{
  "cells": [
    {
      "metadata": {},
      "cell_type": "markdown",
      "source": "# Introduction To Python\n## Section 1 - Data Types"
    },
    {
      "metadata": {},
      "cell_type": "markdown",
      "source": "Welcome to Azure Notebooks!  \nYou can write and run your own python code here without installing anything.  \nHave a go at printing a string.  \nHold shift and press return to run the cell below or press the 'Run' button above to run the cell.  \nYou can insert more cells or delete cells using functions in the menus above.  "
    },
    {
      "metadata": {
        "trusted": true
      },
      "cell_type": "code",
      "source": "print(\"Welcome to Introduction to Python\")",
      "execution_count": 1,
      "outputs": [
        {
          "output_type": "stream",
          "text": "Welcome to Introduction to Python\n",
          "name": "stdout"
        }
      ]
    },
    {
      "metadata": {},
      "cell_type": "markdown",
      "source": "Have a go at printing your own string here.  \nWrite your code below then hold shift and press return.  "
    },
    {
      "metadata": {
        "trusted": true
      },
      "cell_type": "code",
      "source": "print(\"This is my own string\")",
      "execution_count": 2,
      "outputs": [
        {
          "output_type": "stream",
          "text": "This is my own string\n",
          "name": "stdout"
        }
      ]
    },
    {
      "metadata": {},
      "cell_type": "markdown",
      "source": "You can assign a string to a variable and print the variable"
    },
    {
      "metadata": {
        "trusted": true
      },
      "cell_type": "code",
      "source": "# You can assign a string to a variable and print the variable\na = \"This is the first half of a sentence, \"\nb = \"and this is its second half\"\nprint(a)\nprint(a + b)",
      "execution_count": 3,
      "outputs": [
        {
          "output_type": "stream",
          "text": "This is the first half of a sentence, \nThis is the first half of a sentence, and this is its second half\n",
          "name": "stdout"
        }
      ]
    },
    {
      "metadata": {},
      "cell_type": "markdown",
      "source": "Assign the string \"Empowering every person and every organisation on the planet to achieve more\" to the variable `mission`, then print this variable"
    },
    {
      "metadata": {
        "trusted": true
      },
      "cell_type": "code",
      "source": "mission = \"Empowering every person and every organisation on the planet to achieve more\"\nprint(mission)",
      "execution_count": 4,
      "outputs": [
        {
          "output_type": "stream",
          "text": "Empowering every person and every organisation on the planet to achieve more\n",
          "name": "stdout"
        }
      ]
    },
    {
      "metadata": {},
      "cell_type": "markdown",
      "source": "Assign variables `a` and `b` to integers of your choice, then add them together and print the results"
    },
    {
      "metadata": {
        "trusted": true
      },
      "cell_type": "code",
      "source": "a = 12\nb = 4\n\nprint(a + b)",
      "execution_count": 5,
      "outputs": [
        {
          "output_type": "stream",
          "text": "16\n",
          "name": "stdout"
        }
      ]
    },
    {
      "metadata": {},
      "cell_type": "markdown",
      "source": "Now subtract b from a, and print the result"
    },
    {
      "metadata": {
        "trusted": true
      },
      "cell_type": "code",
      "source": "print(a - b)",
      "execution_count": 6,
      "outputs": [
        {
          "output_type": "stream",
          "text": "8\n",
          "name": "stdout"
        }
      ]
    },
    {
      "metadata": {},
      "cell_type": "markdown",
      "source": "Now print a multiplied by b"
    },
    {
      "metadata": {
        "trusted": true
      },
      "cell_type": "code",
      "source": "print(a * b)",
      "execution_count": 7,
      "outputs": [
        {
          "output_type": "stream",
          "text": "48\n",
          "name": "stdout"
        }
      ]
    },
    {
      "metadata": {},
      "cell_type": "markdown",
      "source": "Now print a divided by b"
    },
    {
      "metadata": {
        "trusted": true
      },
      "cell_type": "code",
      "source": "# Divide a by b and print the result\nprint(a / b)",
      "execution_count": 8,
      "outputs": [
        {
          "output_type": "stream",
          "text": "3\n",
          "name": "stdout"
        }
      ]
    },
    {
      "metadata": {},
      "cell_type": "markdown",
      "source": "Print the remainder of a divided by b"
    },
    {
      "metadata": {
        "trusted": true
      },
      "cell_type": "code",
      "source": "print(a % b)",
      "execution_count": 9,
      "outputs": [
        {
          "output_type": "stream",
          "text": "0\n",
          "name": "stdout"
        }
      ]
    },
    {
      "metadata": {},
      "cell_type": "markdown",
      "source": "Print a squared plus b to the power of 3"
    },
    {
      "metadata": {
        "trusted": true
      },
      "cell_type": "code",
      "source": "print(a ** 2 + b ** 3)",
      "execution_count": 10,
      "outputs": [
        {
          "output_type": "stream",
          "text": "208\n",
          "name": "stdout"
        }
      ]
    },
    {
      "metadata": {},
      "cell_type": "markdown",
      "source": "Run the cell below:"
    },
    {
      "metadata": {
        "trusted": true
      },
      "cell_type": "code",
      "source": "# This is an unformatted string\nmy_str = \"I have {} apples and {} pears\"\n\n# We can format it as follows\napples = 5\npears = 4\n\nprint(my_str.format(apples, pears))",
      "execution_count": 11,
      "outputs": [
        {
          "output_type": "stream",
          "text": "I have 5 apples and 4 pears\n",
          "name": "stdout"
        }
      ]
    },
    {
      "metadata": {},
      "cell_type": "markdown",
      "source": "Now try it for yourself, define your own unformatted string and format it using the format function or an f string"
    },
    {
      "metadata": {
        "trusted": true
      },
      "cell_type": "code",
      "source": "# Now define your own unformatted string and format it using the format function or an f string\nmy_unformatted_string = \"I have {} cars and they are all {}\"\n\nquant = 5\ncolour = 'blue'\n\nprint(my_unformatted_string.format(quant, colour))",
      "execution_count": 12,
      "outputs": [
        {
          "output_type": "stream",
          "text": "I have 5 cars and they are all blue\n",
          "name": "stdout"
        }
      ]
    },
    {
      "metadata": {},
      "cell_type": "markdown",
      "source": "You can re-assign a variable, and even change its type.  \nRun this cell and follow what is happening on each line."
    },
    {
      "metadata": {
        "trusted": true
      },
      "cell_type": "code",
      "source": "x = 5\nprint(x)\nx = x + 4\nprint(x)\ny = 12\nx = y + 10\nprint(x)\nx = \"X is now a string\"\nprint(x)",
      "execution_count": 13,
      "outputs": [
        {
          "output_type": "stream",
          "text": "5\n9\n22\nX is now a string\n",
          "name": "stdout"
        }
      ]
    },
    {
      "metadata": {},
      "cell_type": "markdown",
      "source": "This is an example of a list.  \nUsing integer indexing print crackle from this list:"
    },
    {
      "metadata": {
        "trusted": true
      },
      "cell_type": "code",
      "source": "example_list = [\"Snap\", \"Crackle\", \"Pop\"]\n\nexample_list[1]",
      "execution_count": 14,
      "outputs": [
        {
          "output_type": "execute_result",
          "execution_count": 14,
          "data": {
            "text/plain": "'Crackle'"
          },
          "metadata": {}
        }
      ]
    },
    {
      "metadata": {},
      "cell_type": "markdown",
      "source": "Create your own list of 6 different items and set it to the variable `my_list`.  \nHave a go at printing the first item."
    },
    {
      "metadata": {
        "trusted": true
      },
      "cell_type": "code",
      "source": "my_list = ['one', 'two', 'three', 'four', 'five', 'six']\nprint(my_list[0])",
      "execution_count": 15,
      "outputs": [
        {
          "output_type": "stream",
          "text": "one\n",
          "name": "stdout"
        }
      ]
    },
    {
      "metadata": {},
      "cell_type": "markdown",
      "source": "Now print the last item of the list (without using the number 5)"
    },
    {
      "metadata": {
        "trusted": true
      },
      "cell_type": "code",
      "source": "print(my_list[-1])",
      "execution_count": 16,
      "outputs": [
        {
          "output_type": "stream",
          "text": "six\n",
          "name": "stdout"
        }
      ]
    },
    {
      "metadata": {},
      "cell_type": "markdown",
      "source": "In one line of code, print the 2nd, 3rd and 4th items from your list."
    },
    {
      "metadata": {
        "trusted": true
      },
      "cell_type": "code",
      "source": "print(my_list[1:4])",
      "execution_count": 17,
      "outputs": [
        {
          "output_type": "stream",
          "text": "['two', 'three', 'four']\n",
          "name": "stdout"
        }
      ]
    },
    {
      "metadata": {},
      "cell_type": "markdown",
      "source": "Now print all the items in the list from the 3rd item onwards"
    },
    {
      "metadata": {
        "trusted": true
      },
      "cell_type": "code",
      "source": "print(my_list[2:])",
      "execution_count": 18,
      "outputs": [
        {
          "output_type": "stream",
          "text": "['three', 'four', 'five', 'six']\n",
          "name": "stdout"
        }
      ]
    },
    {
      "metadata": {},
      "cell_type": "markdown",
      "source": "What do you get if you add the 2nd number in the list_of_numbers below to the 4th Number?"
    },
    {
      "metadata": {
        "trusted": true
      },
      "cell_type": "code",
      "source": "list_of_numbers = [4, 2.5, 7, 19, 12, 1, 0, 22]",
      "execution_count": 19,
      "outputs": []
    },
    {
      "metadata": {
        "collapsed": true
      },
      "cell_type": "markdown",
      "source": "What do you get if you divide the 5th number in the `list_of_numbers` by the 1st number?"
    },
    {
      "metadata": {
        "trusted": true
      },
      "cell_type": "code",
      "source": "list_of_numbers[4] / list_of_numbers[0]",
      "execution_count": 20,
      "outputs": [
        {
          "output_type": "execute_result",
          "execution_count": 20,
          "data": {
            "text/plain": "3"
          },
          "metadata": {}
        }
      ]
    },
    {
      "metadata": {},
      "cell_type": "markdown",
      "source": "What do you get if you raise the last number in the `list_of_numbers` by the penultimate number?"
    },
    {
      "metadata": {
        "trusted": true
      },
      "cell_type": "code",
      "source": "list_of_numbers[-1] ** list_of_numbers[-2]",
      "execution_count": 21,
      "outputs": [
        {
          "output_type": "execute_result",
          "execution_count": 21,
          "data": {
            "text/plain": "1"
          },
          "metadata": {}
        }
      ]
    },
    {
      "metadata": {},
      "cell_type": "markdown",
      "source": "Assign the example dict below to the variable `microsoft`"
    },
    {
      "metadata": {
        "trusted": true
      },
      "cell_type": "code",
      "source": "microsoft = { \n    \"Name\": \"Microsoft\",\n    \"Employees\": 134944,\n    \"Revenue_2018_USD_bns\": 110.36,\n    \"Founders\": [\"Bill Gates\", \"Paul Allen\"],\n    \"HQ\": \"Redmond, Washington, Seattle, USA\",\n    \"Founding_Year\": 1975,\n    \"Products\": [\"Azure\", \"Windows\", \"Surface\", \"Xbox\"]\n}",
      "execution_count": 22,
      "outputs": []
    },
    {
      "metadata": {},
      "cell_type": "markdown",
      "source": "If $1 is €0.88, print out what Microsoft's revenue is in Euros."
    },
    {
      "metadata": {
        "trusted": true
      },
      "cell_type": "code",
      "source": "(microsoft['Revenue_2018_USD_bns'] * 10 ** 9) * 0.88",
      "execution_count": 23,
      "outputs": [
        {
          "output_type": "execute_result",
          "execution_count": 23,
          "data": {
            "text/plain": "97116800000.0"
          },
          "metadata": {}
        }
      ]
    },
    {
      "metadata": {},
      "cell_type": "markdown",
      "source": "How many years old is Microsoft?"
    },
    {
      "metadata": {
        "trusted": true
      },
      "cell_type": "code",
      "source": "print(\"Microsoft is {} years old\".format(2019 - microsoft['Founding_Year']))",
      "execution_count": 24,
      "outputs": [
        {
          "output_type": "stream",
          "text": "Microsoft is 44 years old\n",
          "name": "stdout"
        }
      ]
    },
    {
      "metadata": {},
      "cell_type": "markdown",
      "source": "Have a go at defining your own dict and select some values from it"
    },
    {
      "metadata": {
        "trusted": true
      },
      "cell_type": "code",
      "source": "my_dict = {'key1': 'val1', 'key2': 33, 'key3': 42}\nprint(my_dict['key2'] + my_dict['key3'])",
      "execution_count": 25,
      "outputs": [
        {
          "output_type": "stream",
          "text": "75\n",
          "name": "stdout"
        }
      ]
    },
    {
      "metadata": {},
      "cell_type": "markdown",
      "source": "## Section 2 - Functions"
    },
    {
      "metadata": {},
      "cell_type": "markdown",
      "source": "Defining functions, remember that python is indentation-significant.  \nThis function takes two numbers as parameters, adds them together and prints the result.  "
    },
    {
      "metadata": {
        "trusted": true
      },
      "cell_type": "code",
      "source": "def add_numbers(x1, x2):\n    y = x1 + x2\n    print(y)",
      "execution_count": 26,
      "outputs": []
    },
    {
      "metadata": {
        "trusted": true
      },
      "cell_type": "code",
      "source": "# try calling the function\nadd_numbers(10, 15)",
      "execution_count": 27,
      "outputs": [
        {
          "output_type": "stream",
          "text": "25\n",
          "name": "stdout"
        }
      ]
    },
    {
      "metadata": {
        "trusted": true
      },
      "cell_type": "code",
      "source": "# Choose some numbers and call the function yourself\nadd_numbers(12, 76)",
      "execution_count": 28,
      "outputs": [
        {
          "output_type": "stream",
          "text": "88\n",
          "name": "stdout"
        }
      ]
    },
    {
      "metadata": {},
      "cell_type": "markdown",
      "source": "Call the function below with your own name as the parameter"
    },
    {
      "metadata": {
        "trusted": true
      },
      "cell_type": "code",
      "source": "def happy_birthday(name):\n    print(\"Happy Birthday to you\")\n    print(\"Happy Birthday to you\")\n    print(\"Happy Birthday dear \" + name)\n    print(\"Happy Birthday to you\")\n\nhappy_birthday('Ben')",
      "execution_count": 29,
      "outputs": [
        {
          "output_type": "stream",
          "text": "Happy Birthday to you\nHappy Birthday to you\nHappy Birthday dear Ben\nHappy Birthday to you\n",
          "name": "stdout"
        }
      ]
    },
    {
      "metadata": {},
      "cell_type": "markdown",
      "source": "Have a go at defining a function that multiplies two numbers together, adds 5, and prints the result.  \nThen call it with some numbers to test it out."
    },
    {
      "metadata": {
        "trusted": true
      },
      "cell_type": "code",
      "source": "def multiply_and_add_5(x, y):\n    z = (x * y) + 5\n    print (z)\n\nmultiply_and_add_5(3, 2)\nmultiply_and_add_5(9, 9)",
      "execution_count": 30,
      "outputs": [
        {
          "output_type": "stream",
          "text": "11\n86\n",
          "name": "stdout"
        }
      ]
    },
    {
      "metadata": {},
      "cell_type": "markdown",
      "source": "#### Logical Operators\n\nThe following statement should evaluate to True, run this cell to make sure:"
    },
    {
      "metadata": {
        "trusted": true
      },
      "cell_type": "code",
      "source": "print(1 + 2 == 3)",
      "execution_count": 31,
      "outputs": [
        {
          "output_type": "stream",
          "text": "True\n",
          "name": "stdout"
        }
      ]
    },
    {
      "metadata": {},
      "cell_type": "markdown",
      "source": "The following statement should evaluate to False, run this cell to make sure:"
    },
    {
      "metadata": {
        "trusted": true
      },
      "cell_type": "code",
      "source": "print(1 + 2 == 5)",
      "execution_count": 32,
      "outputs": [
        {
          "output_type": "stream",
          "text": "False\n",
          "name": "stdout"
        }
      ]
    },
    {
      "metadata": {},
      "cell_type": "markdown",
      "source": "Have a go at writing statements that evaluate to True.  \nFill in the right hand and left hand sides of these statements so that they evaluate to True:"
    },
    {
      "metadata": {
        "trusted": true
      },
      "cell_type": "code",
      "source": "print(True == True)\nprint(False != True)\nprint(4 < 5)\nprint(5 > 4)\nprint(5 >= 5)\nprint(10 <= 100)",
      "execution_count": 33,
      "outputs": [
        {
          "output_type": "stream",
          "text": "True\nTrue\nTrue\nTrue\nTrue\nTrue\n",
          "name": "stdout"
        }
      ]
    },
    {
      "metadata": {},
      "cell_type": "markdown",
      "source": "Have a go at writing statements that evaluate to False.  \nFill in the right hand and left hand sides of these statements so that they evaluate to False:"
    },
    {
      "metadata": {
        "trusted": true
      },
      "cell_type": "code",
      "source": "print(True == False)\nprint(False != False)\nprint(1000 < 0)\nprint(1 > 1)\nprint(1 >= 1.00001)\nprint(2 <= 1)",
      "execution_count": 34,
      "outputs": [
        {
          "output_type": "stream",
          "text": "False\nFalse\nFalse\nFalse\nFalse\nFalse\n",
          "name": "stdout"
        }
      ]
    },
    {
      "metadata": {},
      "cell_type": "markdown",
      "source": "Choose a number:"
    },
    {
      "metadata": {
        "trusted": true
      },
      "cell_type": "code",
      "source": "num = 5",
      "execution_count": 35,
      "outputs": []
    },
    {
      "metadata": {},
      "cell_type": "markdown",
      "source": "Run this cell to describe your number"
    },
    {
      "metadata": {
        "trusted": true
      },
      "cell_type": "code",
      "source": "if num < 0:\n    print(\"{} is negative\".format(num))\nelif num > 0:\n    print(\"{} is positive\".format(num))\nelse:\n    print(\"{} is zero\".format(num))\n\nif num != 5:\n    print(\"{} is not five\".format(num))\nelse:\n    print(\"{} is five\".format(num))",
      "execution_count": 36,
      "outputs": [
        {
          "output_type": "stream",
          "text": "5 is positive\n5 is five\n",
          "name": "stdout"
        }
      ]
    },
    {
      "metadata": {},
      "cell_type": "markdown",
      "source": "Have a go at defining your own if/elif/else clauses to describe `num`"
    },
    {
      "metadata": {
        "trusted": true
      },
      "cell_type": "code",
      "source": "if num % 2 == 0:\n    print(\"{} is even\".format(num))\nelse:\n    print(\"{} is odd\".format(num))\n\nif 3 < num < 50:\n    print(\"{} is between 3 and 50\".format(num))\nelif num == 1:\n    print(\"{} is one\".format(one))\nelse:\n    print(\"{} is neither one, nor is it between 3 or 50\")",
      "execution_count": 37,
      "outputs": [
        {
          "output_type": "stream",
          "text": "5 is odd\n5 is between 3 and 50\n",
          "name": "stdout"
        }
      ]
    },
    {
      "metadata": {},
      "cell_type": "markdown",
      "source": "Choose a type of swallow out of `\"European\"` or `\"African\"`, then call the function below with that type to find its unladen air speed velocity"
    },
    {
      "metadata": {
        "trusted": true
      },
      "cell_type": "code",
      "source": "def swallow_velocity(type):\n    if type == \"European\":\n        print(\"12 m/s\")\n    elif type == \"African\":\n        print(\"10 m/s\")\n    else:\n        print(\"I don't know that type of swallow\")\n\nswallow_velocity(\"European\")",
      "execution_count": 38,
      "outputs": [
        {
          "output_type": "stream",
          "text": "12 m/s\n",
          "name": "stdout"
        }
      ]
    },
    {
      "metadata": {},
      "cell_type": "markdown",
      "source": "Fill in the function below.  \nDo some error checking to make sure the number passed isn't negative.  \nThen print the square root of the number.  \n_Hint: Square root of a number is the number raised to the power of 0.5_  "
    },
    {
      "metadata": {
        "trusted": true
      },
      "cell_type": "code",
      "source": "def print_square_root(x):\n    if x < 0:\n        print('{} is less than zero')\n    else:\n        print(x ** 0.5)",
      "execution_count": 39,
      "outputs": []
    },
    {
      "metadata": {},
      "cell_type": "markdown",
      "source": "Using your function, check the square root of 41370624"
    },
    {
      "metadata": {
        "trusted": true
      },
      "cell_type": "code",
      "source": "print_square_root(41370624)",
      "execution_count": 40,
      "outputs": [
        {
          "output_type": "stream",
          "text": "6432.0\n",
          "name": "stdout"
        }
      ]
    },
    {
      "metadata": {},
      "cell_type": "markdown",
      "source": "We can chain logical operators together using \"and\".  \nDefine a new variable `num` with a float or integer.  \nTry running this cell to describe `num`.  "
    },
    {
      "metadata": {
        "trusted": true
      },
      "cell_type": "code",
      "source": "num = 6\n\nif (num % 2 == 0) and (num % 3 == 0):\n    print(\"{} is divisible by six\".format(num))\nelse:\n    print(\"{} is not divisible by six\".format(num))\n\nif isinstance(num, int) and (num > 0) and (num < 10):\n    print(\"{} is a positive single digit\".format(num))",
      "execution_count": 41,
      "outputs": [
        {
          "output_type": "stream",
          "text": "6 is divisible by six\n6 is a positive single digit\n",
          "name": "stdout"
        }
      ]
    },
    {
      "metadata": {},
      "cell_type": "markdown",
      "source": "We can also chain logical operators together using \"or\".  \nChoose a halogen.  \nThen run this cell to print the state of the halogen at room temperature.  "
    },
    {
      "metadata": {
        "trusted": true
      },
      "cell_type": "code",
      "source": "halogen = \"astatine\"\n\nif halogen == \"chlorine\" or halogen == \"fluorine\":\n    state = \"gas\"\nelif halogen == \"iodine\" or halogen == \"astatine\":\n    state = \"solid\"\nelif halogen == \"bromine\":\n    state = \"liquid\"\nelse:\n    state = None\n\nif state is not None:\n    print(\"{} is a {} at room temperature\".format(halogen, state))\nelse:\n    print(\"{} is not a halogen\".format(halogen))",
      "execution_count": 42,
      "outputs": [
        {
          "output_type": "stream",
          "text": "astatine is a solid at room temperature\n",
          "name": "stdout"
        }
      ]
    },
    {
      "metadata": {},
      "cell_type": "markdown",
      "source": "Now have a go at this yourself!   \nDefine a variable and test it out with   \nyour own \"or\" and \"and\" conditional statements  "
    },
    {
      "metadata": {
        "trusted": true
      },
      "cell_type": "code",
      "source": "my_int = 5\n\nif not isinstance(my_int, int):\n    print(\"{} is not an integer\")\nelif isinstance(my_int, int) and (my_int <= -10 or my_int >= 10):\n    print(\"{} is not a single digit\".format(my_int))\nelse:\n    print(\"{} is a single digit\".format(my_int))",
      "execution_count": 43,
      "outputs": [
        {
          "output_type": "stream",
          "text": "5 is a single digit\n",
          "name": "stdout"
        }
      ]
    },
    {
      "metadata": {},
      "cell_type": "markdown",
      "source": "You can check whether something is in a string or a list, or if a key is in a dict, using the `in` keyword.  \nTry this out by running the three cells below."
    },
    {
      "metadata": {
        "trusted": true
      },
      "cell_type": "code",
      "source": "# String\nstring_1 = \"Ni\"\nstring_2 = \"We are the knights who say 'Ni!'\"\n\nif string_1 in string_2:\n    print(\"String 1 is a substring of String 2\")\nelse:\n    print(\"String 1 is not a substring of String 2\")",
      "execution_count": 44,
      "outputs": [
        {
          "output_type": "stream",
          "text": "String 1 is a substring of String 2\n",
          "name": "stdout"
        }
      ]
    },
    {
      "metadata": {
        "trusted": true
      },
      "cell_type": "code",
      "source": "# List\nmost_common_pets = ['dog', 'cat', 'hamster', 'fish', 'mouse', 'guinea pig', 'bird', 'lizard', 'snake']\n\nmy_pet = 'ferret'\n\nif my_pet in most_common_pets:\n    print(\"Your {} is a regular pet\".format(my_pet))\nelif my_pet == '':\n    print(\"You don't have a pet\")\nelse:\n    print(\"Your {} is an odd pet\".format(my_pet))",
      "execution_count": 45,
      "outputs": [
        {
          "output_type": "stream",
          "text": "Your ferret is an odd pet\n",
          "name": "stdout"
        }
      ]
    },
    {
      "metadata": {
        "trusted": true
      },
      "cell_type": "code",
      "source": "# Dict\nstadia = {\n    'Arsenal': 'Emirates Stadium',\n    'Chelsea': 'Stamford Bridge',\n    'Everton': 'Goodison Park',\n    'Liverpool': 'Anfield',\n    'Manchester United': 'Old Trafford',\n    'Manchester City': 'Etihad Stadium'\n}\n\n# Fill in the variable with your favourite team\nmy_fave_team = 'Arsenal'\n\nif my_fave_team in stadia:\n    print(\"The stadium for {} is {}\".format(my_fave_team, stadia[my_fave_team]))\nelse:\n    print(\"Sorry I don't have the stadium for {}\".format(my_fave_team))",
      "execution_count": 46,
      "outputs": [
        {
          "output_type": "stream",
          "text": "The stadium for Arsenal is Emirates Stadium\n",
          "name": "stdout"
        }
      ]
    },
    {
      "metadata": {},
      "cell_type": "markdown",
      "source": "The `append()` method will append an item to a list.  \nDefine a function that will check if the item is in the list.  \nIf the item is not in the list, append it to the list.  \nThen print the list. Try this out with a few items.  "
    },
    {
      "metadata": {
        "trusted": true
      },
      "cell_type": "code",
      "source": "def append_to_list_if_not_present(current_list, item):\n    if item not in current_list:\n        current_list.append(item)\n    print(current_list)\n    return current_list\n\nmy_list = ['This', 'is', 'my', 'list']\nmy_list = append_to_list_if_not_present(my_list, 'hello')\nmy_list = append_to_list_if_not_present(my_list, 'world')\nmy_list = append_to_list_if_not_present(my_list, 'hello')\nmy_list = append_to_list_if_not_present(my_list, 'is')\nmy_list = append_to_list_if_not_present(my_list, 1459)",
      "execution_count": 47,
      "outputs": [
        {
          "output_type": "stream",
          "text": "['This', 'is', 'my', 'list', 'hello']\n['This', 'is', 'my', 'list', 'hello', 'world']\n['This', 'is', 'my', 'list', 'hello', 'world']\n['This', 'is', 'my', 'list', 'hello', 'world']\n['This', 'is', 'my', 'list', 'hello', 'world', 1459]\n",
          "name": "stdout"
        }
      ]
    },
    {
      "metadata": {},
      "cell_type": "markdown",
      "source": "## Section 3 - Loops"
    },
    {
      "metadata": {},
      "cell_type": "markdown",
      "source": "The range function will give you a list of numbers between two given numbers.  \nAssign integers to two variables `x` and `y`.  \nThen call range on these numbers to get the integers between x and y.  \nThen loop through this range and print each number between x and y.  "
    },
    {
      "metadata": {
        "trusted": true
      },
      "cell_type": "code",
      "source": "x = 5\ny = 10\nfor i in range(x, y):\n    print(i)",
      "execution_count": 48,
      "outputs": [
        {
          "output_type": "stream",
          "text": "5\n6\n7\n8\n9\n",
          "name": "stdout"
        }
      ]
    },
    {
      "metadata": {},
      "cell_type": "markdown",
      "source": "Now loop through this range and print the square of each number between x and y"
    },
    {
      "metadata": {
        "trusted": true
      },
      "cell_type": "code",
      "source": "for i in range(x, y):\n    print(i ** 2)",
      "execution_count": 49,
      "outputs": [
        {
          "output_type": "stream",
          "text": "25\n36\n49\n64\n81\n",
          "name": "stdout"
        }
      ]
    },
    {
      "metadata": {},
      "cell_type": "markdown",
      "source": "You can loop through a list and run conditionals on each number."
    },
    {
      "metadata": {
        "trusted": true
      },
      "cell_type": "code",
      "source": "# You can loop through the list and run conditionals on each number\nfor missing_limbs in range(0, 5):\n    if missing_limbs == 0:\n        print(\"None Shall Pass\")\n    elif missing_limbs == 1:\n        print(\"Tis but a scratch\")\n    elif missing_limbs == 2:\n        print(\"It's just a flesh wound\")\n    elif missing_limbs == 3:\n        print(\"I'm Invincible\")\n    elif missing_limbs == 4:\n        print(\"All right, we'll call it a draw.\")",
      "execution_count": 50,
      "outputs": [
        {
          "output_type": "stream",
          "text": "None Shall Pass\nTis but a scratch\nIt's just a flesh wound\nI'm Invincible\nAll right, we'll call it a draw.\n",
          "name": "stdout"
        }
      ]
    },
    {
      "metadata": {},
      "cell_type": "markdown",
      "source": "Assign two variables to integers, then have a go at looping through each integer between these numbers are exactly divisible by 4.   \n\nIf the number is divisible by 4, print out one quarter of this number."
    },
    {
      "metadata": {
        "trusted": true
      },
      "cell_type": "code",
      "source": "for i in range(150, 175):\n    if i % 4 == 0:\n        print(\"One quarter of {} is {}\".format(i, i * 0.25))",
      "execution_count": 51,
      "outputs": [
        {
          "output_type": "stream",
          "text": "One quarter of 152 is 38.0\nOne quarter of 156 is 39.0\nOne quarter of 160 is 40.0\nOne quarter of 164 is 41.0\nOne quarter of 168 is 42.0\nOne quarter of 172 is 43.0\n",
          "name": "stdout"
        }
      ]
    },
    {
      "metadata": {},
      "cell_type": "markdown",
      "source": "You can iterate through a list and break when a requirement is met, run the cell below to see this in action."
    },
    {
      "metadata": {
        "trusted": true
      },
      "cell_type": "code",
      "source": "food_list = [\"Spaghetti\", \"Coconuts\", \"Spam\", \"Eggs\"]\n\nfor food in food_list:\n    if food == \"Spam\":\n        print(\"Yum, spam!\")\n        break\n    else:\n        print(\"I don't want \" + food + \", I want spam\")",
      "execution_count": 52,
      "outputs": [
        {
          "output_type": "stream",
          "text": "I don't want Spaghetti, I want spam\nI don't want Coconuts, I want spam\nYum, spam!\n",
          "name": "stdout"
        }
      ]
    },
    {
      "metadata": {},
      "cell_type": "markdown",
      "source": "If you iterate through a dict, you actually iterate through the keys in the dict."
    },
    {
      "metadata": {
        "trusted": true
      },
      "cell_type": "code",
      "source": "stock_prices = {'IBM': 131.80, 'MSFT': 105.66, 'CSCO': 45.26, 'AAPL': 152.21, 'HTHIY': 67.76}\nfor stock in stock_prices:\n    print(\"The price of {} is ${}\".format(stock, stock_prices[stock]))",
      "execution_count": 53,
      "outputs": [
        {
          "output_type": "stream",
          "text": "The price of AAPL is $152.21\nThe price of HTHIY is $67.76\nThe price of CSCO is $45.26\nThe price of IBM is $131.8\nThe price of MSFT is $105.66\n",
          "name": "stdout"
        }
      ]
    },
    {
      "metadata": {},
      "cell_type": "markdown",
      "source": "Have a go at this yourself, define your own key-value pairs in a dict.  \nIterate through the keys and print the key and the value."
    },
    {
      "metadata": {
        "trusted": true
      },
      "cell_type": "code",
      "source": "my_key_pairs = {'key1': 14, 'key2': 'Hello', 'key3': 'World'}\n\nfor key in my_key_pairs:\n    print(\"The Value of {} is {}\".format(key, my_key_pairs[key]))",
      "execution_count": 54,
      "outputs": [
        {
          "output_type": "stream",
          "text": "The Value of key3 is World\nThe Value of key2 is Hello\nThe Value of key1 is 14\n",
          "name": "stdout"
        }
      ]
    },
    {
      "metadata": {},
      "cell_type": "markdown",
      "source": "While loops allow you to iterate through until a condition is met.\nRun the cell below to see an example."
    },
    {
      "metadata": {
        "trusted": true
      },
      "cell_type": "code",
      "source": "a = 5\nb = 1\nwhile b < a:\n    print(\"{} is less than {}\".format(b, a))\n    b += 1\nprint(\"{} is not less than {}\".format(b, a))",
      "execution_count": 55,
      "outputs": [
        {
          "output_type": "stream",
          "text": "1 is less than 5\n2 is less than 5\n3 is less than 5\n4 is less than 5\n5 is not less than 5\n",
          "name": "stdout"
        }
      ]
    },
    {
      "metadata": {},
      "cell_type": "markdown",
      "source": "Have a go at defining your own while loop.  \nDefine a string and try adding full stops to it until the length of the string is 20."
    },
    {
      "metadata": {
        "trusted": true
      },
      "cell_type": "code",
      "source": "my_str = \"Hello, World\"\nwhile len(my_str) < 20:\n    my_str += '.'\nprint(my_str)",
      "execution_count": 56,
      "outputs": [
        {
          "output_type": "stream",
          "text": "Hello, World........\n",
          "name": "stdout"
        }
      ]
    },
    {
      "metadata": {},
      "cell_type": "markdown",
      "source": "#### List comprehensions\n\nIf we have a list defined as follows:"
    },
    {
      "metadata": {
        "trusted": true
      },
      "cell_type": "code",
      "source": "my_list = [1, 4, 5, 7, 8, 10, 12, 15, 16, 20, 24, 28, 30, 35, 38]",
      "execution_count": 57,
      "outputs": []
    },
    {
      "metadata": {},
      "cell_type": "markdown",
      "source": "Instead of doing the following:"
    },
    {
      "metadata": {
        "trusted": true
      },
      "cell_type": "code",
      "source": "odd_numbers_from_my_list = []\nfor i in my_list:\n    if i % 2 == 1:\n        odd_numbers_from_my_list.append(i)\n        \nodd_numbers_from_my_list",
      "execution_count": 58,
      "outputs": [
        {
          "output_type": "execute_result",
          "execution_count": 58,
          "data": {
            "text/plain": "[1, 5, 7, 15, 35]"
          },
          "metadata": {}
        }
      ]
    },
    {
      "metadata": {},
      "cell_type": "markdown",
      "source": "We can write:"
    },
    {
      "metadata": {
        "trusted": true
      },
      "cell_type": "code",
      "source": "odd_numbers_from_my_list = [i for i in my_list if i % 2 == 1]\n\nodd_numbers_from_my_list",
      "execution_count": 59,
      "outputs": [
        {
          "output_type": "execute_result",
          "execution_count": 59,
          "data": {
            "text/plain": "[1, 5, 7, 15, 35]"
          },
          "metadata": {}
        }
      ]
    },
    {
      "metadata": {},
      "cell_type": "markdown",
      "source": "Write a list comprehension that does the same as the following statement:"
    },
    {
      "metadata": {
        "trusted": true
      },
      "cell_type": "code",
      "source": "cubed_even_numbers = []\n\nfor i in my_list:\n    if i % 2 == 0:\n        cubed_even_numbers.append(i ** 3)\n\ncubed_even_numbers",
      "execution_count": 60,
      "outputs": [
        {
          "output_type": "execute_result",
          "execution_count": 60,
          "data": {
            "text/plain": "[64, 512, 1000, 1728, 4096, 8000, 13824, 21952, 27000, 54872]"
          },
          "metadata": {}
        }
      ]
    },
    {
      "metadata": {
        "trusted": true
      },
      "cell_type": "code",
      "source": "cubed_even_numbers = [i ** 3 for i in my_list if i % 2 == 0]\n\ncubed_even_numbers",
      "execution_count": 61,
      "outputs": [
        {
          "output_type": "execute_result",
          "execution_count": 61,
          "data": {
            "text/plain": "[64, 512, 1000, 1728, 4096, 8000, 13824, 21952, 27000, 54872]"
          },
          "metadata": {}
        }
      ]
    },
    {
      "metadata": {},
      "cell_type": "markdown",
      "source": "## Section 4 - Exercises"
    },
    {
      "metadata": {},
      "cell_type": "markdown",
      "source": "__For each of the exercises below, carry out the instructions then try out your functions with the test cases given and make sure you don't get an assertion error__"
    },
    {
      "metadata": {},
      "cell_type": "markdown",
      "source": "Define a function `power` that takes two paramaters: `x` and `y`  \nReturn the value of the `x` to the power of `y`"
    },
    {
      "metadata": {
        "trusted": true
      },
      "cell_type": "code",
      "source": "# Write your function here\ndef power(x, y):\n    return x ** y",
      "execution_count": 62,
      "outputs": []
    },
    {
      "metadata": {
        "trusted": true
      },
      "cell_type": "code",
      "source": "# Now test your function\ntest_1 = power(4, 5) == 1024\ntest_2 = power(6, 3) == 216\ntest_3 = power(10, 10) == 10000000000\ntest_4 = power(4, -0.5) == 0.5\ntest_5 = power(6561, 0.125) == 3\n\nif all([test_1, test_2, test_3, test_4, test_5]):\n    print(\"PASSED\")\nelse:\n    print(\"FAILED\")",
      "execution_count": 63,
      "outputs": [
        {
          "output_type": "stream",
          "text": "PASSED\n",
          "name": "stdout"
        }
      ]
    },
    {
      "metadata": {},
      "cell_type": "markdown",
      "source": "Write a function `is_vowel` that takes a character (i.e. a string of length 1)  \nand returns `True` if it is a vowel or `False` otherwise"
    },
    {
      "metadata": {
        "trusted": true
      },
      "cell_type": "code",
      "source": "def is_vowel(char):\n    if char in ('aeiou'):\n        return True\n    else:\n        return False",
      "execution_count": 64,
      "outputs": []
    },
    {
      "metadata": {
        "trusted": true
      },
      "cell_type": "code",
      "source": "test_1 = is_vowel('a')\ntest_2 = not is_vowel('q')\ntest_3 = is_vowel('e')\ntest_4 = not is_vowel('9')\ntest_5 = not is_vowel(';')\ntest_6 = is_vowel('u')\n\nif all([test_1, test_2, test_3, test_4, test_5, test_6]) and (test_1 is True):\n    print(\"PASSED\")\nelse:\n    print(\"FAILED\")",
      "execution_count": 65,
      "outputs": [
        {
          "output_type": "stream",
          "text": "PASSED\n",
          "name": "stdout"
        }
      ]
    },
    {
      "metadata": {},
      "cell_type": "markdown",
      "source": "Define a function `volume_from_dimensions` that takes 3 parameters: length, width and depth in cm.  \nReturn the volume in litres  \n_Hint: 1 litre = 1dm<sup>3</sup>_"
    },
    {
      "metadata": {
        "trusted": true
      },
      "cell_type": "code",
      "source": "def volume_from_dimensions(length, width, depth):\n    return length * width * depth * (10 ** -3)",
      "execution_count": 66,
      "outputs": []
    },
    {
      "metadata": {
        "trusted": true
      },
      "cell_type": "code",
      "source": "test_1 = volume_from_dimensions(10, 5, 1) == 0.05\ntest_2 = volume_from_dimensions(15, 15, 15) == 3.375\ntest_3 = volume_from_dimensions(14, 0, 12) == 0\ntest_4 = volume_from_dimensions(100, 200, 300) == 6000\n\nif all([test_1, test_2, test_3, test_4]):\n    print(\"PASSED\")\nelse:\n    print(\"FAILED\")",
      "execution_count": 67,
      "outputs": [
        {
          "output_type": "stream",
          "text": "PASSED\n",
          "name": "stdout"
        }
      ]
    },
    {
      "metadata": {},
      "cell_type": "markdown",
      "source": "Define a function `pythagoras` that takes 2 numerical parameters: length and width of a right-angled triangle  \nReturn the length of the hypotenuse"
    },
    {
      "metadata": {
        "trusted": true
      },
      "cell_type": "code",
      "source": "def pythagoras(length, width):\n    hypotenuse = ((length ** 2) + (width ** 2)) ** 0.5\n    return hypotenuse",
      "execution_count": 68,
      "outputs": []
    },
    {
      "metadata": {
        "trusted": true
      },
      "cell_type": "code",
      "source": "test_1 = pythagoras(3, 4) == 5\ntest_2 = pythagoras(5, 12) == 13\ntest_3 = pythagoras(9, 40) == 41\ntest_4 = pythagoras(58, 840) == 842\ntest_5 = pythagoras(0, 10) == 10\n\nif all([test_1, test_2, test_3, test_4, test_5]):\n    print(\"PASSED\")\nelse:\n    print(\"FAILED\")",
      "execution_count": 69,
      "outputs": [
        {
          "output_type": "stream",
          "text": "PASSED\n",
          "name": "stdout"
        }
      ]
    },
    {
      "metadata": {
        "collapsed": true
      },
      "cell_type": "markdown",
      "source": "Define a function `factorial` that takes 1 integer parameter: `x`  \nReturn x! (\"x factorial\")"
    },
    {
      "metadata": {
        "trusted": true
      },
      "cell_type": "code",
      "source": "def factorial(x):\n    y = 1\n    while x > 0:\n        y *= x\n        x -= 1\n    return y",
      "execution_count": 70,
      "outputs": []
    },
    {
      "metadata": {
        "trusted": true
      },
      "cell_type": "code",
      "source": "test_1 = factorial(4) == 24\ntest_2 = factorial(20) == 2432902008176640000\ntest_3 = factorial(0) == 1\ntest_4 = factorial(1) == 1\ntest_5 = factorial(5) == 120\n\nif all([test_1, test_2, test_3, test_4, test_5]):\n    print(\"PASSED\")\nelse:\n    print(\"FAILED\")",
      "execution_count": 71,
      "outputs": [
        {
          "output_type": "stream",
          "text": "PASSED\n",
          "name": "stdout"
        }
      ]
    },
    {
      "metadata": {},
      "cell_type": "markdown",
      "source": "Define a function `compound_interest` that takes 3 parameters: \n* an amount saved\n* an annual interest rate\n* and a number of years  \n\nReturn the value of the savings to the nearest penny at the end of the period assuming the interest is paid once a year."
    },
    {
      "metadata": {
        "trusted": true
      },
      "cell_type": "code",
      "source": "def compound_interest(saved, interest_rate, years):\n    interest_rate = (interest_rate / 100.0) + 1\n    end_value = saved * (interest_rate ** years)\n    return round(end_value, 2)",
      "execution_count": 72,
      "outputs": []
    },
    {
      "metadata": {
        "trusted": true
      },
      "cell_type": "code",
      "source": "test_1 = compound_interest(20, 5, 15) == 41.58\ntest_2 = compound_interest(1000, 10, 10) == 2593.74\ntest_3 = compound_interest(75, 12, 15) == 410.52\ntest_4 = compound_interest(0, 12, 15) == 0\ntest_5 = compound_interest(10000, 1, 50) == 16446.32\n\nif all([test_1, test_2, test_3, test_4, test_5]):\n    print(\"PASSED\")\nelse:\n    print(\"FAILED\")",
      "execution_count": 73,
      "outputs": [
        {
          "output_type": "stream",
          "text": "PASSED\n",
          "name": "stdout"
        }
      ]
    },
    {
      "metadata": {
        "collapsed": true
      },
      "cell_type": "markdown",
      "source": "Define a function `numbers_divisible_by_5` that takes two integer parameters and returns a list with all the numbers between these two numbers (inclusive) that are divisible by 5."
    },
    {
      "metadata": {
        "trusted": true
      },
      "cell_type": "code",
      "source": "def numbers_divisible_by_5(x, y):\n    my_list = []\n    for i in range(x, y+1):\n        if i % 5 == 0:\n            my_list.append(i)\n    return my_list",
      "execution_count": 74,
      "outputs": []
    },
    {
      "metadata": {
        "trusted": true
      },
      "cell_type": "code",
      "source": "test_1 = numbers_divisible_by_5(4, 6) == [5]\ntest_2 = numbers_divisible_by_5(96, 123) == [100, 105, 110, 115, 120]\ntest_3 = numbers_divisible_by_5(95, 125) == [95, 100, 105, 110, 115, 120, 125]\ntest_4 = numbers_divisible_by_5(-3, 6) == [0, 5]\ntest_5 = numbers_divisible_by_5(6, 9) == []\n\nif all([test_1, test_2, test_3, test_4, test_5]):\n    print(\"PASSED\")\nelse:\n    print(\"FAILED\")",
      "execution_count": 75,
      "outputs": [
        {
          "output_type": "stream",
          "text": "PASSED\n",
          "name": "stdout"
        }
      ]
    },
    {
      "metadata": {},
      "cell_type": "markdown",
      "source": "Define a function `fibonacci` that takes 1 positive integer parameter.  \nReturn a list of the first n numbers in the fibonacci sequence"
    },
    {
      "metadata": {
        "trusted": true
      },
      "cell_type": "code",
      "source": "def fibonacci(n):\n    seq = []\n    j = k = 1\n    if n > 0:\n        seq.append(j)\n    if n > 1:\n        seq.append(k)\n        for i in range(n-2):\n            seq.append(j + k)\n            if i % 2 == 0:\n                j = j + k\n            else:\n                k = j + k\n    return seq",
      "execution_count": 76,
      "outputs": []
    },
    {
      "metadata": {
        "trusted": true
      },
      "cell_type": "code",
      "source": "test_1 = fibonacci(1) == [1]\ntest_2 = fibonacci(2) == [1, 1]\ntest_3 = fibonacci(3) == [1, 1, 2]\ntest_4 = fibonacci(7) == [1, 1, 2, 3, 5, 8, 13]\ntest_5 = fibonacci(20)[-1] == 6765\n\nif all([test_1, test_2, test_3, test_4, test_5]):\n    print(\"PASSED\")\nelse:\n    print(\"FAILED\")",
      "execution_count": 77,
      "outputs": [
        {
          "output_type": "stream",
          "text": "PASSED\n",
          "name": "stdout"
        }
      ]
    },
    {
      "metadata": {
        "collapsed": true
      },
      "cell_type": "markdown",
      "source": "Define a function `max_in_list` that takes a list of numbers as a parameter.  \nReturn the highest number in the list, without using the max function."
    },
    {
      "metadata": {
        "trusted": true
      },
      "cell_type": "code",
      "source": "def max_in_list(input_list):\n    max_so_far = None\n    for item in input_list:\n        if not max_so_far:\n            max_so_far = item\n        elif max_so_far < item:\n            max_so_far = item\n    return max_so_far",
      "execution_count": 78,
      "outputs": []
    },
    {
      "metadata": {
        "trusted": true
      },
      "cell_type": "code",
      "source": "test_1 = max_in_list([0, 3, 4, 323.12, 7, 9]) == 323.12\ntest_2 = max_in_list([0, 0, 0, 0, 0, 0]) == 0\ntest_3 = max_in_list([-5, -4, -3, -10, -20, -50]) == -3\ntest_4 = max_in_list([-5, -4, -3, 20, -20, 55]) == 55\ntest_5 = max_in_list([60, 60, 20, 20, 40, 40]) == 60\ntest_6 = max_in_list([]) == None\n\nif all([test_1, test_2, test_3, test_4, test_5, test_6]):\n    print(\"PASSED\")\nelse:\n    print(\"FAILED\")",
      "execution_count": 79,
      "outputs": [
        {
          "output_type": "stream",
          "text": "PASSED\n",
          "name": "stdout"
        }
      ]
    },
    {
      "metadata": {},
      "cell_type": "markdown",
      "source": "Write a function `lengths_of_words` that takes a string and returns a list of lengths of words in the list."
    },
    {
      "metadata": {
        "trusted": true
      },
      "cell_type": "code",
      "source": "def lengths_of_words(my_str):\n    words = my_str.split(' ')\n    word_lengths = []\n    for word in words:\n        word_lengths.append(len(word))\n    return word_lengths",
      "execution_count": 80,
      "outputs": []
    },
    {
      "metadata": {
        "trusted": true
      },
      "cell_type": "code",
      "source": "test_1 = lengths_of_words('My dog Spot') == [2, 3, 4]\ntest_2 = lengths_of_words('The quick brown fox jumps over the lazy dog') == [3, 5, 5, 3, 5, 4, 3, 4, 3]\ntest_3 = lengths_of_words('Antidisestablishmentarianism') == [28]\ntest_4 = lengths_of_words('') == [0]\ntest_5 = lengths_of_words('Nobody expects the Spanish Inquisition') == [6, 7, 3, 7, 11]\n\nif all([test_1, test_2, test_3, test_4, test_5]):\n    print(\"PASSED\")\nelse:\n    print(\"FAILED\")",
      "execution_count": 81,
      "outputs": [
        {
          "output_type": "stream",
          "text": "PASSED\n",
          "name": "stdout"
        }
      ]
    },
    {
      "metadata": {},
      "cell_type": "markdown",
      "source": "_For more exercises, have a go at the exercises on Hacker Rank_"
    },
    {
      "metadata": {},
      "cell_type": "markdown",
      "source": "## Section 5 - Modules"
    },
    {
      "metadata": {},
      "cell_type": "markdown",
      "source": "You can import individual variables/functions/classes from a module into your namespace"
    },
    {
      "metadata": {
        "trusted": true
      },
      "cell_type": "code",
      "source": "from math import pi\nprint(pi)",
      "execution_count": 82,
      "outputs": [
        {
          "output_type": "stream",
          "text": "3.14159265359\n",
          "name": "stdout"
        }
      ]
    },
    {
      "metadata": {},
      "cell_type": "markdown",
      "source": "Or you can import all variables from a module and call them using module.variable"
    },
    {
      "metadata": {
        "trusted": true
      },
      "cell_type": "code",
      "source": "import math\nprint(math.log10(10000))",
      "execution_count": 83,
      "outputs": [
        {
          "output_type": "stream",
          "text": "4.0\n",
          "name": "stdout"
        }
      ]
    },
    {
      "metadata": {},
      "cell_type": "markdown",
      "source": "Have a go at importing `cos` and `pi` from the math module\nPrint the cosine of pi"
    },
    {
      "metadata": {
        "trusted": true
      },
      "cell_type": "code",
      "source": "from math import cos, pi\ncos(pi)",
      "execution_count": 84,
      "outputs": [
        {
          "output_type": "execute_result",
          "execution_count": 84,
          "data": {
            "text/plain": "-1.0"
          },
          "metadata": {}
        }
      ]
    },
    {
      "metadata": {},
      "cell_type": "markdown",
      "source": "The random module has a function randint which takes in two parameters, a lower integer and an upper integer and returns an integer between those two numbers (inclusive).\n\n\nUse the randint function to roll a six-sided die and a 10-sided die and add the results together"
    },
    {
      "metadata": {
        "trusted": true
      },
      "cell_type": "code",
      "source": "import random\nrandom.randint(1, 6) + random.randint(1, 10)",
      "execution_count": 85,
      "outputs": [
        {
          "output_type": "execute_result",
          "execution_count": 85,
          "data": {
            "text/plain": "9"
          },
          "metadata": {}
        }
      ]
    },
    {
      "metadata": {},
      "cell_type": "markdown",
      "source": "## Section 6 - Dates and Times"
    },
    {
      "metadata": {},
      "cell_type": "markdown",
      "source": "Import the `datetime` module and use a `date` and `timedelta`  \nto work out what the date is 10,000 days after you were born.  \nIs this date in the future or the past?"
    },
    {
      "metadata": {
        "trusted": true
      },
      "cell_type": "code",
      "source": "import datetime\ndatetime.date(1990, 5, 4) + datetime.timedelta(days=10000)",
      "execution_count": 86,
      "outputs": [
        {
          "output_type": "execute_result",
          "execution_count": 86,
          "data": {
            "text/plain": "datetime.date(2017, 9, 19)"
          },
          "metadata": {}
        }
      ]
    },
    {
      "metadata": {},
      "cell_type": "markdown",
      "source": "Use `datetime.datetime.strptime` to convert these strings into datetime  \n_Hint: If you need help, visit strftime.org_"
    },
    {
      "metadata": {
        "trusted": true
      },
      "cell_type": "code",
      "source": "date_1_str = '2017-12-25 04:00'\ndatetime.datetime.strptime(date_1_str, '%Y-%m-%d %H:%M')",
      "execution_count": 87,
      "outputs": [
        {
          "output_type": "execute_result",
          "execution_count": 87,
          "data": {
            "text/plain": "datetime.datetime(2017, 12, 25, 4, 0)"
          },
          "metadata": {}
        }
      ]
    },
    {
      "metadata": {
        "trusted": true
      },
      "cell_type": "code",
      "source": "date_2_str = '2017-01-01 01:00:00'\ndatetime.datetime.strptime(date_2_str, '%Y-%m-%d %H:%M:%S')",
      "execution_count": 88,
      "outputs": [
        {
          "output_type": "execute_result",
          "execution_count": 88,
          "data": {
            "text/plain": "datetime.datetime(2017, 1, 1, 1, 0)"
          },
          "metadata": {}
        }
      ]
    },
    {
      "metadata": {
        "trusted": true
      },
      "cell_type": "code",
      "source": "date_3_str = '23/04/2012 03:04:24'\ndatetime.datetime.strptime(date_3_str, '%d/%m/%Y %H:%M:%S')",
      "execution_count": 89,
      "outputs": [
        {
          "output_type": "execute_result",
          "execution_count": 89,
          "data": {
            "text/plain": "datetime.datetime(2012, 4, 23, 3, 4, 24)"
          },
          "metadata": {}
        }
      ]
    },
    {
      "metadata": {
        "trusted": true
      },
      "cell_type": "code",
      "source": "date_4_str = '12/31/14 13:34'\ndatetime.datetime.strptime(date_4_str, '%m/%d/%y %H:%M')",
      "execution_count": 90,
      "outputs": [
        {
          "output_type": "execute_result",
          "execution_count": 90,
          "data": {
            "text/plain": "datetime.datetime(2014, 12, 31, 13, 34)"
          },
          "metadata": {}
        }
      ]
    },
    {
      "metadata": {
        "trusted": true
      },
      "cell_type": "code",
      "source": "date_5_str = '2015-10-01T10:03:10'\ndatetime.datetime.strptime(date_5_str, '%Y-%m-%dT%H:%M:%S')",
      "execution_count": 91,
      "outputs": [
        {
          "output_type": "execute_result",
          "execution_count": 91,
          "data": {
            "text/plain": "datetime.datetime(2015, 10, 1, 10, 3, 10)"
          },
          "metadata": {}
        }
      ]
    },
    {
      "metadata": {},
      "cell_type": "markdown",
      "source": "Convert the date in the cell below into the string formats below  \n_Hint: If you need help, visit strftime.org_"
    },
    {
      "metadata": {
        "trusted": true
      },
      "cell_type": "code",
      "source": "my_dt = datetime.datetime(2010, 4, 5, 17, 11, 54)",
      "execution_count": 92,
      "outputs": []
    },
    {
      "metadata": {
        "trusted": true
      },
      "cell_type": "code",
      "source": "# \"2010/04/05 17:11:54\"\nmy_dt.strftime('%Y/%m/%d %H:%M:%S')",
      "execution_count": 93,
      "outputs": [
        {
          "output_type": "execute_result",
          "execution_count": 93,
          "data": {
            "text/plain": "'2010/04/05 17:11:54'"
          },
          "metadata": {}
        }
      ]
    },
    {
      "metadata": {
        "trusted": true
      },
      "cell_type": "code",
      "source": "# \"17:11:54 on 5 April 2010\"\nmy_dt.strftime('%H:%M:%S on %-d %B %Y')",
      "execution_count": 94,
      "outputs": [
        {
          "output_type": "execute_result",
          "execution_count": 94,
          "data": {
            "text/plain": "'17:11:54 on 5 April 2010'"
          },
          "metadata": {}
        }
      ]
    },
    {
      "metadata": {
        "trusted": true
      },
      "cell_type": "code",
      "source": "# \"2010-04-05T17:11:54\nmy_dt.strftime('%Y-%m-%dT%H:%M:%S')",
      "execution_count": 95,
      "outputs": [
        {
          "output_type": "execute_result",
          "execution_count": 95,
          "data": {
            "text/plain": "'2010-04-05T17:11:54'"
          },
          "metadata": {}
        }
      ]
    },
    {
      "metadata": {
        "trusted": true
      },
      "cell_type": "code",
      "source": "# \"5:11:54 PM\"\nmy_dt.strftime(\"%-I:%M:%S %p\")",
      "execution_count": 96,
      "outputs": [
        {
          "output_type": "execute_result",
          "execution_count": 96,
          "data": {
            "text/plain": "'5:11:54 PM'"
          },
          "metadata": {}
        }
      ]
    },
    {
      "metadata": {
        "trusted": true
      },
      "cell_type": "code",
      "source": "# \"Monday\"\nmy_dt.strftime(\"%A\")",
      "execution_count": 97,
      "outputs": [
        {
          "output_type": "execute_result",
          "execution_count": 97,
          "data": {
            "text/plain": "'Monday'"
          },
          "metadata": {}
        }
      ]
    },
    {
      "metadata": {
        "collapsed": true
      },
      "cell_type": "markdown",
      "source": "Now have a go at converting this string from  \n`\"1989-11-09 19:17:00\"`  \nTo \"17 minutes past 7 on November 9, 1989\"  "
    },
    {
      "metadata": {
        "trusted": true
      },
      "cell_type": "code",
      "source": "start_str = \"1989-11-09 19:17:00\"\nas_dt = datetime.datetime.strptime(start_str, \"%Y-%m-%d %H:%M:%S\")\nend_str = datetime.datetime.strftime(as_dt, \"%M minutes past %-I on %B %-d, %Y\")\nprint(end_str)",
      "execution_count": 98,
      "outputs": [
        {
          "output_type": "stream",
          "text": "17 minutes past 7 on November 9, 1989\n",
          "name": "stdout"
        }
      ]
    },
    {
      "metadata": {},
      "cell_type": "markdown",
      "source": "The `datetime.datetime` class has a method `utcnow()`, use it to show you the time now in UTC"
    },
    {
      "metadata": {
        "trusted": true
      },
      "cell_type": "code",
      "source": "datetime.datetime.utcnow()",
      "execution_count": 99,
      "outputs": [
        {
          "output_type": "execute_result",
          "execution_count": 99,
          "data": {
            "text/plain": "datetime.datetime(2019, 1, 23, 17, 5, 17, 859469)"
          },
          "metadata": {}
        }
      ]
    },
    {
      "metadata": {},
      "cell_type": "markdown",
      "source": "Assign the current date to a variable named `today`.  \nLinkedIn was acquired by Microsoft on 8th December 2016.  \nHow many days has it been?"
    },
    {
      "metadata": {
        "trusted": true
      },
      "cell_type": "code",
      "source": "# Note the output will be different depending on the date you do this\ntoday = datetime.datetime.utcnow().date()\nacquisition = datetime.date(2016, 8, 12)\n\nprint((today - acquisition).days)",
      "execution_count": 100,
      "outputs": [
        {
          "output_type": "stream",
          "text": "894\n",
          "name": "stdout"
        }
      ]
    },
    {
      "metadata": {},
      "cell_type": "markdown",
      "source": "How many seconds are there between 04:05:12 on 17/09/2014 and 17:32:15 on 17/09/2018  \nHow many hours is this?  \nHow many days?  "
    },
    {
      "metadata": {
        "trusted": true
      },
      "cell_type": "code",
      "source": "a = datetime.datetime(2014, 9, 17, 4, 5, 12)\nb = datetime.datetime(2018, 9, 17, 17, 32, 15)\n\nprint((b - a).total_seconds())\nprint((b - a).total_seconds() / 3600.0)\nprint((b - a).total_seconds() / 3600.0 / 24.0)\nprint((b - a).days)",
      "execution_count": 101,
      "outputs": [
        {
          "output_type": "stream",
          "text": "126278823.0\n35077.4508333\n1461.56045139\n1461\n",
          "name": "stdout"
        }
      ]
    },
    {
      "metadata": {},
      "cell_type": "markdown",
      "source": "#### Talking Clock\n\nWe're going to write a `talking_clock` function!  \nWrite a function that takes no parameters  \nThis function should calculate what the time will be in 3 seconds  \nPrint \"At the beep, the time will be 12:04 and 34 seconds\" (But with what the time will be in 3 seconds)  \nThen wait for 3 seconds  \nThen print \"Beep!\"  \n_Hint: To wait in python, you will need to import the time module and use `time.sleep(<seconds>)`_  "
    },
    {
      "metadata": {
        "trusted": true
      },
      "cell_type": "code",
      "source": "# Write your talking clock function here\nimport time\nimport sys\n\ndef talking_clock():\n    time_now = datetime.datetime.utcnow()\n    in_three_seconds = time_now + datetime.timedelta(seconds=3)\n    print(datetime.datetime.strftime(in_three_seconds, \"At the beep the time will be %H:%M and %S seconds\"))\n    # This line is required to print the first line\n    # Otherwise the output will be cached and all returned at once\n    sys.stdout.flush()\n    time.sleep(3)\n    print(\"Beep!\")",
      "execution_count": 102,
      "outputs": []
    },
    {
      "metadata": {
        "trusted": true
      },
      "cell_type": "code",
      "source": "# Call your talking clock function here\ntalking_clock()",
      "execution_count": 103,
      "outputs": [
        {
          "output_type": "stream",
          "text": "At the beep the time will be 17:05 and 21 seconds\nBeep!\n",
          "name": "stdout"
        }
      ]
    }
  ],
  "metadata": {
    "kernelspec": {
      "name": "python2",
      "display_name": "Python 2",
      "language": "python"
    },
    "language_info": {
      "mimetype": "text/x-python",
      "nbconvert_exporter": "python",
      "name": "python",
      "pygments_lexer": "ipython2",
      "version": "2.7.15",
      "file_extension": ".py",
      "codemirror_mode": {
        "version": 2,
        "name": "ipython"
      }
    }
  },
  "nbformat": 4,
  "nbformat_minor": 1
}