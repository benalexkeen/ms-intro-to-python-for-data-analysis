{
 "cells": [
  {
   "cell_type": "markdown",
   "metadata": {},
   "source": [
    "You've been contracted in to help a hospital with operations and diagnoses.\n",
    "\n",
    "## Surgery\n",
    "\n",
    "First, you're brought into surgery, where the head of surgery has tasked you with predicting the length of stay of patients depending on which surgery/surgeries they require. \n",
    "\n",
    "From such information they can begin to start tackling the surgeries with the most inefficiencies and they can more effectively predict allocation of bed spaces to incoming patients. They'll also be able to work out the costs incurred from a given patient's surgeries.\n",
    "\n",
    "Start by loading in the patient records of patients with surgery (`\"case_study_data/patients.csv\"`) and surgeries data (`\"case_study_data/surgery.csv\"`). In both cases, make your index patient_id.\n",
    "\n",
    "Have a quick explore of this data and fill any missing surgery values with zeroes."
   ]
  },
  {
   "cell_type": "code",
   "execution_count": null,
   "metadata": {
    "collapsed": true
   },
   "outputs": [],
   "source": [
    "import pandas as pd\n",
    "import numpy as np\n",
    "\n",
    "# Your code here"
   ]
  },
  {
   "cell_type": "markdown",
   "metadata": {},
   "source": [
    "Draw a histogram of patient ages to view the distribution of the ages of surgical patients."
   ]
  },
  {
   "cell_type": "code",
   "execution_count": null,
   "metadata": {},
   "outputs": [],
   "source": [
    "import matplotlib.pyplot as plt\n",
    "import matplotlib\n",
    "%matplotlib inline\n",
    "\n",
    "plt.style.use('ggplot')\n",
    "\n",
    "# Your code here\n"
   ]
  },
  {
   "cell_type": "markdown",
   "metadata": {},
   "source": [
    "Now plot a boxplot of length of stay for each gender. You'll need to perform a join on the two tables."
   ]
  },
  {
   "cell_type": "code",
   "execution_count": null,
   "metadata": {},
   "outputs": [],
   "source": [
    "# Your code here\n"
   ]
  },
  {
   "cell_type": "markdown",
   "metadata": {},
   "source": [
    "Now we'll create a linear regression model to predict length of stay given a patient's sex, age, and surgeries that were undertaken.\n",
    "\n",
    "Drop the name of the patient from your Data Frame and convert the gender of the patient to an integer boolean (0 for female or 1 for male)."
   ]
  },
  {
   "cell_type": "code",
   "execution_count": null,
   "metadata": {
    "collapsed": true
   },
   "outputs": [],
   "source": [
    "# Your code here\n"
   ]
  },
  {
   "cell_type": "markdown",
   "metadata": {},
   "source": [
    "Now split the data into\n",
    "\n",
    "* X (predictors) values and y (response) values \n",
    "* Testing and training set\n",
    "\n",
    "using a test size of 0.25 and random state of 1 for repeatability."
   ]
  },
  {
   "cell_type": "code",
   "execution_count": null,
   "metadata": {
    "collapsed": true
   },
   "outputs": [],
   "source": [
    "from sklearn.model_selection import train_test_split \n",
    "\n",
    "# Your code here\n",
    "\n"
   ]
  },
  {
   "cell_type": "markdown",
   "metadata": {},
   "source": [
    "Use your training data set to create a linear regression model."
   ]
  },
  {
   "cell_type": "code",
   "execution_count": null,
   "metadata": {},
   "outputs": [],
   "source": [
    "from sklearn import linear_model\n",
    "\n",
    "# Your code here\n"
   ]
  },
  {
   "cell_type": "markdown",
   "metadata": {},
   "source": [
    "What is the $R^2$ value for your regression model using your test data?"
   ]
  },
  {
   "cell_type": "code",
   "execution_count": null,
   "metadata": {},
   "outputs": [],
   "source": [
    "# Your code here\n"
   ]
  },
  {
   "cell_type": "markdown",
   "metadata": {},
   "source": [
    "Given the following average prices of surgery and price of length of stay, what does the model predict the most expensive surgery is on average?\n",
    "* General Surgery - £5,300\n",
    "* Orthopaedic Surgery - £7,100\n",
    "* Cardiothoracic Surgery - £5,100\n",
    "* Neurosurgery - £4,900\n",
    "* Oral Surgery - £1,200\n",
    "* Plastic Surgery - £6,600\n",
    "* Cost of hospital stay per day - £1,000"
   ]
  },
  {
   "cell_type": "code",
   "execution_count": null,
   "metadata": {},
   "outputs": [],
   "source": [
    "surgery_costs = {\n",
    "    'general_surgery': 5300,\n",
    "    'orthopaedic_surgery': 7100,\n",
    "    'cardiothoracic_surgery': 5100,\n",
    "    'neurosurgery': 4900,\n",
    "    'oral_surgery': 1200,\n",
    "    'plastic_surgery': 6600,\n",
    "}\n",
    "bed_cost_per_day = 1000\n",
    "\n",
    "# Your code here\n",
    "\n"
   ]
  },
  {
   "cell_type": "markdown",
   "metadata": {},
   "source": [
    "Do men or women tend to stay in the hospital longer?"
   ]
  },
  {
   "cell_type": "code",
   "execution_count": null,
   "metadata": {},
   "outputs": [],
   "source": [
    "# Your code here\n"
   ]
  },
  {
   "cell_type": "markdown",
   "metadata": {},
   "source": [
    "For the following patients, make a prediction on their hospital stay length and costs:\n",
    "* A 29 year old man that needs Plastic Surgery\n",
    "* A 42 year old woman that needs Cardiothoracic and Orthopaedic Surgery\n",
    "* A 72 year old man that needs 2 Oral Surgeries"
   ]
  },
  {
   "cell_type": "code",
   "execution_count": null,
   "metadata": {},
   "outputs": [],
   "source": [
    "# Your code here\n"
   ]
  },
  {
   "cell_type": "markdown",
   "metadata": {},
   "source": [
    "## Tumour Malignancy"
   ]
  },
  {
   "cell_type": "markdown",
   "metadata": {},
   "source": [
    "You've now been asked to predict the malignancy of a breast cancer tumour given a range of physical measurements of the tumour.\n",
    "\n",
    "Start by reading in the file `\"data/breast_cancer.csv\"`"
   ]
  },
  {
   "cell_type": "code",
   "execution_count": null,
   "metadata": {
    "collapsed": true
   },
   "outputs": [],
   "source": [
    "# Your code here\n",
    "\n"
   ]
  },
  {
   "cell_type": "markdown",
   "metadata": {},
   "source": [
    "Remove any rows that have been duplicated."
   ]
  },
  {
   "cell_type": "code",
   "execution_count": null,
   "metadata": {
    "collapsed": true
   },
   "outputs": [],
   "source": [
    "# Your code here\n"
   ]
  },
  {
   "cell_type": "markdown",
   "metadata": {},
   "source": [
    "Now split the data into\n",
    "\n",
    "* X (predictors) values and y (response) values \n",
    "* Testing and training set\n",
    "\n",
    "using a test size of 0.25 and random state of 1 for repeatability."
   ]
  },
  {
   "cell_type": "code",
   "execution_count": null,
   "metadata": {
    "collapsed": true
   },
   "outputs": [],
   "source": [
    "# Your code here\n"
   ]
  },
  {
   "cell_type": "markdown",
   "metadata": {},
   "source": [
    "Now using a for loop, create a `KNeighborsClassifier` model, fit the model and test the accuracy when predicting the testing X (predictor) values for k values between 1 and 20. \n",
    "\n",
    "Which k value gives the most accurate predictions?"
   ]
  },
  {
   "cell_type": "code",
   "execution_count": null,
   "metadata": {},
   "outputs": [],
   "source": [
    "from sklearn.neighbors import KNeighborsClassifier\n",
    "from sklearn.metrics import accuracy_score\n",
    "\n",
    "# Your code here\n"
   ]
  },
  {
   "cell_type": "markdown",
   "metadata": {},
   "source": [
    "The problem with your accuracy score is that it doesn't give any information about false positives.\n",
    "\n",
    "However, in this case, there's a lot more cost to have false negatives than false positives in this case. If you mis-diagnose someone with a benign tumour when it's malignant, this could have devastating effects for that patient.\n",
    "\n",
    "Using the best k value above, create your own confusion matrix of:\n",
    "```\n",
    "True Positives  | False Negatives\n",
    "--------------- | ---------------\n",
    "False Positives | True Negatives\n",
    "```"
   ]
  },
  {
   "cell_type": "code",
   "execution_count": null,
   "metadata": {},
   "outputs": [],
   "source": [
    "# Your code here\n",
    "\n"
   ]
  },
  {
   "cell_type": "markdown",
   "metadata": {},
   "source": [
    "If doctors are currently working on a 5% false negative rate, does your model perform better or worse than this?"
   ]
  },
  {
   "cell_type": "code",
   "execution_count": null,
   "metadata": {
    "collapsed": true
   },
   "outputs": [],
   "source": []
  }
 ],
 "metadata": {
  "kernelspec": {
   "display_name": "Python 2",
   "language": "python",
   "name": "python2"
  },
  "language_info": {
   "codemirror_mode": {
    "name": "ipython",
    "version": 2
   },
   "file_extension": ".py",
   "mimetype": "text/x-python",
   "name": "python",
   "nbconvert_exporter": "python",
   "pygments_lexer": "ipython2",
   "version": "2.7.11"
  }
 },
 "nbformat": 4,
 "nbformat_minor": 2
}
