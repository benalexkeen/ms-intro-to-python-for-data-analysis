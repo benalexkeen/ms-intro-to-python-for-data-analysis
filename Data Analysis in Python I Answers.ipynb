{
  "cells": [
    {
      "metadata": {},
      "cell_type": "markdown",
      "source": "# Pandas and NumPy"
    },
    {
      "metadata": {},
      "cell_type": "markdown",
      "source": "## Section 1 - NumPy: Arrays and Matrices\n\nWe'll start by importing the packages we'll be using in this section"
    },
    {
      "metadata": {
        "trusted": true
      },
      "cell_type": "code",
      "source": "import numpy as np\nimport pandas as pd",
      "execution_count": 1,
      "outputs": []
    },
    {
      "metadata": {},
      "cell_type": "markdown",
      "source": "Create two 1D numpy arrays (`np.array([])` as follows and take one away from the other, do you get the same answer as shown below:\n\n$$\n\\begin{bmatrix} -1 \\\\ 12 \\\\ 14 \\\\ 2 \\end{bmatrix} - \\begin{bmatrix} 10 \\\\ 3 \\\\ 0 \\\\ 2\\end{bmatrix} = \n\\begin{bmatrix} -11 \\\\ 9 \\\\ 14 \\\\ 0\\end{bmatrix}\n$$"
    },
    {
      "metadata": {
        "trusted": true
      },
      "cell_type": "code",
      "source": "print(np.array([-1, 12, 14, 2]) - np.array([10, 9, 14, 0]))",
      "execution_count": 2,
      "outputs": [
        {
          "output_type": "stream",
          "text": "[-11   3   0   2]\n",
          "name": "stdout"
        }
      ]
    },
    {
      "metadata": {},
      "cell_type": "markdown",
      "source": "Now try multiplying the first array by a scalar, do you get the following results:\n\n$$\n\\begin{bmatrix} -1 \\\\ 12 \\\\ 14 \\\\ 2 \\end{bmatrix} * 4 = \n\\begin{bmatrix} -4 \\\\ 48 \\\\ 56 \\\\ 8\\end{bmatrix}\n$$"
    },
    {
      "metadata": {
        "trusted": true
      },
      "cell_type": "code",
      "source": "print(np.array([-1, 12, 14, 2]) * 4)",
      "execution_count": 3,
      "outputs": [
        {
          "output_type": "stream",
          "text": "[-4 48 56  8]\n",
          "name": "stdout"
        }
      ]
    },
    {
      "metadata": {},
      "cell_type": "markdown",
      "source": "Carry out an element-wise multiplication on the following matrices and check you get same answer as below:\n$$\n\\begin{bmatrix} -1 & 2 \\\\ 3 & -4 \\end{bmatrix} * \\begin{bmatrix} 13 & 25 \\\\ 16 & -4 \\end{bmatrix} = \n\\begin{bmatrix} -13 & 50 \\\\ 48 & 16\\end{bmatrix}\n$$"
    },
    {
      "metadata": {
        "trusted": true
      },
      "cell_type": "code",
      "source": "print(np.array([[-1, 2], [3, -4]]) * np.array([[13, 25], [16, -4]]))",
      "execution_count": 4,
      "outputs": [
        {
          "output_type": "stream",
          "text": "[[-13  50]\n [ 48  16]]\n",
          "name": "stdout"
        }
      ]
    },
    {
      "metadata": {},
      "cell_type": "markdown",
      "source": "Create a 3x3 matrix with numbers of your choice and carry out a dot product (`np.dot(m1, m2)`) with the matrix below:  \n\n$\\begin{bmatrix} 2 & 0 & 0 \\\\ 0 & 2 & 0 \\\\ 0 & 0 & 2 \\end{bmatrix}$  \n\nHow does the first matrix relate to the dot product?"
    },
    {
      "metadata": {
        "trusted": true
      },
      "cell_type": "code",
      "source": "print(np.dot(np.array([[1, 2, 3], [4, 5, 6], [7, 8, 9]]), np.array([[2, 0, 0], [0, 2, 0], [0, 0, 2]])))",
      "execution_count": 5,
      "outputs": [
        {
          "output_type": "stream",
          "text": "[[ 2  4  6]\n [ 8 10 12]\n [14 16 18]]\n",
          "name": "stdout"
        }
      ]
    },
    {
      "metadata": {},
      "cell_type": "markdown",
      "source": "Now that we're comfortable with Vectors and Matrices, we'll get started with pandas"
    },
    {
      "metadata": {},
      "cell_type": "markdown",
      "source": "## Section 2 - pandas: Series and Data Frames"
    },
    {
      "metadata": {},
      "cell_type": "markdown",
      "source": "Series will carry out vector arithmetic aligned on their indices.  \n\nRun the cell below and see how the two Series are added together, not by the order they are in but by their indices."
    },
    {
      "metadata": {
        "trusted": true
      },
      "cell_type": "code",
      "source": "s1 = pd.Series([1, 2, 3, 4], index=['a', 'b', 'c', 'd'])\ns2 = pd.Series([10, 20, 30, 40], index=['c', 'd', 'b', 'a'])\nprint(s1)\nprint(s2)\nprint(s1 + s2)",
      "execution_count": 6,
      "outputs": [
        {
          "output_type": "stream",
          "text": "a    1\nb    2\nc    3\nd    4\ndtype: int64\nc    10\nd    20\nb    30\na    40\ndtype: int64\na    41\nb    32\nc    13\nd    24\ndtype: int64\n",
          "name": "stdout"
        }
      ]
    },
    {
      "metadata": {},
      "cell_type": "markdown",
      "source": "Have a go at this yourself, create two Series:\n\n* one with the values [5, 10, 15, 20] \n* one with values [0.1, 1, 10, 100]  \n\nand assign the indices such that when you multiply the two Series together, the resulting Series' values are [50, 1000, 1.5, 20]."
    },
    {
      "metadata": {
        "trusted": true
      },
      "cell_type": "code",
      "source": "s1a = pd.Series([5, 10, 15, 20], index=['alpha', 'bravo', 'charlie', 'delta'])\ns2a = pd.Series([0.1, 1, 10, 100], index=['charlie', 'delta', 'alpha', 'bravo'])\nprint(s1a * s2a)",
      "execution_count": 7,
      "outputs": [
        {
          "output_type": "stream",
          "text": "alpha        50.0\nbravo      1000.0\ncharlie       1.5\ndelta        20.0\ndtype: float64\n",
          "name": "stdout"
        }
      ]
    },
    {
      "metadata": {},
      "cell_type": "markdown",
      "source": "Run the cell below to assign the Series to s3 and print the result"
    },
    {
      "metadata": {
        "trusted": true
      },
      "cell_type": "code",
      "source": "s3_index = ['alpha', 'beta', 'gamma', 'delta', 'epsilon', 'zeta', 'eta', 'theta', 'iota', 'kappa']\ns3 = pd.Series([1, 14, 5, 12, 9, 52, 40, 100, 15, 37], index=s3_index)\nprint(s3)",
      "execution_count": 8,
      "outputs": [
        {
          "output_type": "stream",
          "text": "alpha        1\nbeta        14\ngamma        5\ndelta       12\nepsilon      9\nzeta        52\neta         40\ntheta      100\niota        15\nkappa       37\ndtype: int64\n",
          "name": "stdout"
        }
      ]
    },
    {
      "metadata": {},
      "cell_type": "markdown",
      "source": "Using a list of index names, select the values 12, 52, 15 and 37"
    },
    {
      "metadata": {
        "trusted": true
      },
      "cell_type": "code",
      "source": "s3[['delta', 'zeta', 'iota', 'kappa']]",
      "execution_count": 9,
      "outputs": [
        {
          "output_type": "execute_result",
          "execution_count": 9,
          "data": {
            "text/plain": "delta    12\nzeta     52\niota     15\nkappa    37\ndtype: int64"
          },
          "metadata": {}
        }
      ]
    },
    {
      "metadata": {},
      "cell_type": "markdown",
      "source": "Using a list of booleans, select values with the labels `delta`, `epsilon`, `zeta` and `iota`"
    },
    {
      "metadata": {
        "trusted": true
      },
      "cell_type": "code",
      "source": "s3[[False, False, False, True, True, True, False, False, True, False]]",
      "execution_count": 10,
      "outputs": [
        {
          "output_type": "execute_result",
          "execution_count": 10,
          "data": {
            "text/plain": "delta      12\nepsilon     9\nzeta       52\niota       15\ndtype: int64"
          },
          "metadata": {}
        }
      ]
    },
    {
      "metadata": {},
      "cell_type": "markdown",
      "source": "Using a comparison statement, select all the values that are less than 10"
    },
    {
      "metadata": {
        "trusted": true
      },
      "cell_type": "code",
      "source": "s3[s3 < 10]",
      "execution_count": 11,
      "outputs": [
        {
          "output_type": "execute_result",
          "execution_count": 11,
          "data": {
            "text/plain": "alpha      1\ngamma      5\nepsilon    9\ndtype: int64"
          },
          "metadata": {}
        }
      ]
    },
    {
      "metadata": {},
      "cell_type": "markdown",
      "source": "Using another comparison statement, select all values that are greater than the value of `'eta'`"
    },
    {
      "metadata": {
        "trusted": true
      },
      "cell_type": "code",
      "source": "s3[s3 > s3['eta']]",
      "execution_count": 12,
      "outputs": [
        {
          "output_type": "execute_result",
          "execution_count": 12,
          "data": {
            "text/plain": "zeta      52\ntheta    100\ndtype: int64"
          },
          "metadata": {}
        }
      ]
    },
    {
      "metadata": {},
      "cell_type": "markdown",
      "source": "Using another comparison statement, select all the negative values"
    },
    {
      "metadata": {
        "trusted": true
      },
      "cell_type": "code",
      "source": "s3[s3 < 0]",
      "execution_count": 13,
      "outputs": [
        {
          "output_type": "execute_result",
          "execution_count": 13,
          "data": {
            "text/plain": "Series([], dtype: int64)"
          },
          "metadata": {}
        }
      ]
    },
    {
      "metadata": {},
      "cell_type": "markdown",
      "source": "Create your own Series using the notation `pd.Series(<array here>, index=<index here>)` and print your Series"
    },
    {
      "metadata": {
        "trusted": true
      },
      "cell_type": "code",
      "source": "s4 = pd.Series([1, 2, 3, 4, 5, 6, 7, 8], index=['ein', 'zwei', 'drei', 'vier', 'funf', 'sechs', 'sieben', 'acht'])\nprint(s4)",
      "execution_count": 14,
      "outputs": [
        {
          "output_type": "stream",
          "text": "ein       1\nzwei      2\ndrei      3\nvier      4\nfunf      5\nsechs     6\nsieben    7\nacht      8\ndtype: int64\n",
          "name": "stdout"
        }
      ]
    },
    {
      "metadata": {},
      "cell_type": "markdown",
      "source": "Now construct the same Series using a dict"
    },
    {
      "metadata": {
        "trusted": true
      },
      "cell_type": "code",
      "source": "s4 = pd.Series({\n    'ein': 1,\n    'zwei': 2,\n    'drei': 3,\n    'vier': 4,\n    'funf': 5,\n    'sechs': 6,\n    'sieben': 7,\n    'acht': 8\n})\nprint(s4)\nprint('')\nprint(s4.sort_values())",
      "execution_count": 15,
      "outputs": [
        {
          "output_type": "stream",
          "text": "acht      8\ndrei      3\nein       1\nfunf      5\nsechs     6\nsieben    7\nvier      4\nzwei      2\ndtype: int64\n\nein       1\nzwei      2\ndrei      3\nvier      4\nfunf      5\nsechs     6\nsieben    7\nacht      8\ndtype: int64\n",
          "name": "stdout"
        }
      ]
    },
    {
      "metadata": {},
      "cell_type": "markdown",
      "source": "#### Manitoba Lakes Data Set\nThe following data describes the 9 largest lakes in Manitoba, Canada, run this cell to see the Data Frame.\n\nThe elevation is given in metres area is given in km<sup>2</sup>."
    },
    {
      "metadata": {
        "trusted": true
      },
      "cell_type": "code",
      "source": "lakes = pd.DataFrame({\n    'elevation': [217, 254, 248, 254, 253, 227, 178, 207, 217],\n    'area': [24387, 5374, 4624, 2247, 1353, 1223, 1151, 755, 657]\n    }, index=['Winnipeg', 'Winnipegosis', 'Manitoba', 'SouthernIndian', 'Cedar', 'Island', 'Gods', 'Cross', 'Playgreen']\n)\nprint(lakes)",
      "execution_count": 16,
      "outputs": [
        {
          "output_type": "stream",
          "text": "                 area  elevation\nWinnipeg        24387        217\nWinnipegosis     5374        254\nManitoba         4624        248\nSouthernIndian   2247        254\nCedar            1353        253\nIsland           1223        227\nGods             1151        178\nCross             755        207\nPlaygreen         657        217\n",
          "name": "stdout"
        }
      ]
    },
    {
      "metadata": {},
      "cell_type": "markdown",
      "source": "Print the elevation of Cedar Lake"
    },
    {
      "metadata": {
        "trusted": true
      },
      "cell_type": "code",
      "source": "print(lakes.loc['Cedar', 'elevation'])",
      "execution_count": 17,
      "outputs": [
        {
          "output_type": "stream",
          "text": "253\n",
          "name": "stdout"
        }
      ]
    },
    {
      "metadata": {},
      "cell_type": "markdown",
      "source": "Select the data from the lakes whose area is greater than 1000 but less than 2000 km<sup>2</sup>"
    },
    {
      "metadata": {
        "trusted": true
      },
      "cell_type": "code",
      "source": "print(lakes[(lakes['area'] > 1000) & (lakes['area'] < 2000)])",
      "execution_count": 18,
      "outputs": [
        {
          "output_type": "stream",
          "text": "        area  elevation\nCedar   1353        253\nIsland  1223        227\nGods    1151        178\n",
          "name": "stdout"
        }
      ]
    },
    {
      "metadata": {},
      "cell_type": "markdown",
      "source": "How much bigger in km<sup>2</sup> is Lake Manitoba from the area of the Southern Indian Lake, Gods Lake and Cross Lake combined?"
    },
    {
      "metadata": {
        "trusted": true
      },
      "cell_type": "code",
      "source": "diff = (\n    lakes.loc['Manitoba', 'area'] - (\n        lakes.loc['SouthernIndian', 'area'] + \n        lakes.loc['Gods', 'area'] + \n        lakes.loc['Cross', 'area']\n    )\n)\nprint(diff)",
      "execution_count": 19,
      "outputs": [
        {
          "output_type": "stream",
          "text": "471\n",
          "name": "stdout"
        }
      ]
    },
    {
      "metadata": {},
      "cell_type": "markdown",
      "source": "Select from the `lakes` Data Frame just Lake Winnipegosis, Island Lake and Playgreen Lake"
    },
    {
      "metadata": {
        "trusted": true
      },
      "cell_type": "code",
      "source": "print(lakes.loc[['Winnipegosis', 'Island', 'Playgreen']])",
      "execution_count": 20,
      "outputs": [
        {
          "output_type": "stream",
          "text": "              area  elevation\nWinnipegosis  5374        254\nIsland        1223        227\nPlaygreen      657        217\n",
          "name": "stdout"
        }
      ]
    },
    {
      "metadata": {},
      "cell_type": "markdown",
      "source": "It has been decided that Cross Lake is actually a pond, drop this lake from the Data Frame"
    },
    {
      "metadata": {
        "trusted": true
      },
      "cell_type": "code",
      "source": "lakes = lakes.drop('Cross')\nprint(lakes)",
      "execution_count": 21,
      "outputs": [
        {
          "output_type": "stream",
          "text": "                 area  elevation\nWinnipeg        24387        217\nWinnipegosis     5374        254\nManitoba         4624        248\nSouthernIndian   2247        254\nCedar            1353        253\nIsland           1223        227\nGods             1151        178\nPlaygreen         657        217\n",
          "name": "stdout"
        }
      ]
    },
    {
      "metadata": {},
      "cell_type": "markdown",
      "source": "New statistics show that due to erosion, the size of Lake Manitoba is now 4750 km<sup>2</sup>.  \nMake this change in your Data Frame"
    },
    {
      "metadata": {
        "trusted": true
      },
      "cell_type": "code",
      "source": "lakes.loc['Manitoba', 'area'] = 4750\nprint(lakes.loc['Manitoba'])",
      "execution_count": 22,
      "outputs": [
        {
          "output_type": "stream",
          "text": "area         4750\nelevation     248\nName: Manitoba, dtype: int64\n",
          "name": "stdout"
        }
      ]
    },
    {
      "metadata": {},
      "cell_type": "markdown",
      "source": "Thanks to some significant tectonic activity, Southern Indian Lake is now at an altitude of 265 m. Make this change in your Data Frame."
    },
    {
      "metadata": {
        "trusted": true
      },
      "cell_type": "code",
      "source": "lakes.loc['SouthernIndian', 'elevation'] = 265\nprint(lakes.loc['SouthernIndian'])",
      "execution_count": 23,
      "outputs": [
        {
          "output_type": "stream",
          "text": "area         2247\nelevation     265\nName: SouthernIndian, dtype: int64\n",
          "name": "stdout"
        }
      ]
    },
    {
      "metadata": {},
      "cell_type": "markdown",
      "source": "#### Sugar Data Set\nThe following data set is the mg weight of sugar from  3 different genetically modified sugar plant, as well as an unmodified (control; con) version of the plant."
    },
    {
      "metadata": {
        "trusted": true
      },
      "cell_type": "code",
      "source": "sugar = pd.DataFrame({\n    'weight': [82, 97.8, 69.9, 58.3, 67.9, 59.3, 68.1, 70.8, 63.6, 50.7, 47.1, 48.9],\n    'treatments': ['con', 'con', 'con', 'A', 'A', 'A', 'B', 'B', 'B', 'C', 'C', 'C']\n})\nprint(sugar)",
      "execution_count": 24,
      "outputs": [
        {
          "output_type": "stream",
          "text": "   treatments  weight\n0         con    82.0\n1         con    97.8\n2         con    69.9\n3           A    58.3\n4           A    67.9\n5           A    59.3\n6           B    68.1\n7           B    70.8\n8           B    63.6\n9           C    50.7\n10          C    47.1\n11          C    48.9\n",
          "name": "stdout"
        }
      ]
    },
    {
      "metadata": {},
      "cell_type": "markdown",
      "source": "First we want to drill in to treatment `B`, select just the the plants that were genetically modified with alteration `B`"
    },
    {
      "metadata": {
        "trusted": true
      },
      "cell_type": "code",
      "source": "print(sugar[sugar['treatments'] == 'B'])",
      "execution_count": 25,
      "outputs": [
        {
          "output_type": "stream",
          "text": "  treatments  weight\n6          B    68.1\n7          B    70.8\n8          B    63.6\n",
          "name": "stdout"
        }
      ]
    },
    {
      "metadata": {},
      "cell_type": "markdown",
      "source": "We want to find the best performing plants, select just those plants from which more than 65 mg of sugar was extracted"
    },
    {
      "metadata": {
        "trusted": true
      },
      "cell_type": "code",
      "source": "print(sugar[sugar['weight'] > 65])",
      "execution_count": 26,
      "outputs": [
        {
          "output_type": "stream",
          "text": "  treatments  weight\n0        con    82.0\n1        con    97.8\n2        con    69.9\n4          A    67.9\n6          B    68.1\n7          B    70.8\n",
          "name": "stdout"
        }
      ]
    },
    {
      "metadata": {},
      "cell_type": "markdown",
      "source": "Now we want to compare group `C` to the control (`con`) group, select the plants whose treatment was in the control group or genetically modified with alteration `C`"
    },
    {
      "metadata": {
        "trusted": true
      },
      "cell_type": "code",
      "source": "print(sugar[(sugar['treatments'] == 'C') | (sugar['treatments'] == 'con')])\n\n# Also could use isin(), i.e. sugar[sugar['treatments'].isin(['C', 'con'])]",
      "execution_count": 27,
      "outputs": [
        {
          "output_type": "stream",
          "text": "   treatments  weight\n0         con    82.0\n1         con    97.8\n2         con    69.9\n9           C    50.7\n10          C    47.1\n11          C    48.9\n",
          "name": "stdout"
        }
      ]
    },
    {
      "metadata": {},
      "cell_type": "markdown",
      "source": "We would like to compare which of the alterations performed best, select all of the plants that are not in the control group"
    },
    {
      "metadata": {
        "trusted": true
      },
      "cell_type": "code",
      "source": "print(sugar[sugar['treatments'] != 'con'])\n\n# Also could use the inverse of isin(), i.e. sugar[~sugar['treatments'].isin(['con'])]",
      "execution_count": 28,
      "outputs": [
        {
          "output_type": "stream",
          "text": "   treatments  weight\n3           A    58.3\n4           A    67.9\n5           A    59.3\n6           B    68.1\n7           B    70.8\n8           B    63.6\n9           C    50.7\n10          C    47.1\n11          C    48.9\n",
          "name": "stdout"
        }
      ]
    },
    {
      "metadata": {},
      "cell_type": "markdown",
      "source": "#### London Terminal Stations\n\nThe data set below describes 9 popular London Terminal stations."
    },
    {
      "metadata": {
        "trusted": true
      },
      "cell_type": "code",
      "source": "stations = pd.DataFrame({\n    'Station': ['Waterloo', 'Victoria', 'Liverpool Street', 'London Bridge', 'Euston', 'Kings Cross', 'Charing Cross'],\n    'Opened': [1848, 1862, 1874, 1836, 1837, 1852, 1864],\n    'Passengers': [99148338, 81151418, 66556690,  53850938,  41677870, 33361696, 28998152],\n    'Operator': ['Network Rail', 'Network Rail', 'Network Rail', 'Network Rail', 'Network Rail', 'Network Rail', 'Network Rail'],\n    'Platforms': [22, 19, 18, 15, 18, 12, 6]\n    }\n)\nstations = stations.set_index('Station')\nprint(stations)",
      "execution_count": 29,
      "outputs": [
        {
          "output_type": "stream",
          "text": "                  Opened      Operator  Passengers  Platforms\nStation                                                      \nWaterloo            1848  Network Rail    99148338         22\nVictoria            1862  Network Rail    81151418         19\nLiverpool Street    1874  Network Rail    66556690         18\nLondon Bridge       1836  Network Rail    53850938         15\nEuston              1837  Network Rail    41677870         18\nKings Cross         1852  Network Rail    33361696         12\nCharing Cross       1864  Network Rail    28998152          6\n",
          "name": "stdout"
        }
      ]
    },
    {
      "metadata": {},
      "cell_type": "markdown",
      "source": "Use the `describe()` method for the `stations` Data Frame to describe the data"
    },
    {
      "metadata": {
        "trusted": true
      },
      "cell_type": "code",
      "source": "stations.describe()",
      "execution_count": 30,
      "outputs": [
        {
          "output_type": "execute_result",
          "execution_count": 30,
          "data": {
            "text/plain": "            Opened    Passengers  Platforms\ncount     7.000000  7.000000e+00   7.000000\nmean   1853.285714  5.782073e+07  15.714286\nstd      14.221044  2.592922e+07   5.313953\nmin    1836.000000  2.899815e+07   6.000000\n25%    1842.500000  3.751978e+07  13.500000\n50%    1852.000000  5.385094e+07  18.000000\n75%    1863.000000  7.385405e+07  18.500000\nmax    1874.000000  9.914834e+07  22.000000",
            "text/html": "<div>\n<style scoped>\n    .dataframe tbody tr th:only-of-type {\n        vertical-align: middle;\n    }\n\n    .dataframe tbody tr th {\n        vertical-align: top;\n    }\n\n    .dataframe thead th {\n        text-align: right;\n    }\n</style>\n<table border=\"1\" class=\"dataframe\">\n  <thead>\n    <tr style=\"text-align: right;\">\n      <th></th>\n      <th>Opened</th>\n      <th>Passengers</th>\n      <th>Platforms</th>\n    </tr>\n  </thead>\n  <tbody>\n    <tr>\n      <th>count</th>\n      <td>7.000000</td>\n      <td>7.000000e+00</td>\n      <td>7.000000</td>\n    </tr>\n    <tr>\n      <th>mean</th>\n      <td>1853.285714</td>\n      <td>5.782073e+07</td>\n      <td>15.714286</td>\n    </tr>\n    <tr>\n      <th>std</th>\n      <td>14.221044</td>\n      <td>2.592922e+07</td>\n      <td>5.313953</td>\n    </tr>\n    <tr>\n      <th>min</th>\n      <td>1836.000000</td>\n      <td>2.899815e+07</td>\n      <td>6.000000</td>\n    </tr>\n    <tr>\n      <th>25%</th>\n      <td>1842.500000</td>\n      <td>3.751978e+07</td>\n      <td>13.500000</td>\n    </tr>\n    <tr>\n      <th>50%</th>\n      <td>1852.000000</td>\n      <td>5.385094e+07</td>\n      <td>18.000000</td>\n    </tr>\n    <tr>\n      <th>75%</th>\n      <td>1863.000000</td>\n      <td>7.385405e+07</td>\n      <td>18.500000</td>\n    </tr>\n    <tr>\n      <th>max</th>\n      <td>1874.000000</td>\n      <td>9.914834e+07</td>\n      <td>22.000000</td>\n    </tr>\n  </tbody>\n</table>\n</div>"
          },
          "metadata": {}
        }
      ]
    },
    {
      "metadata": {},
      "cell_type": "markdown",
      "source": "What is the total annual passenger figure for stations in the data set that were opened before 1860?"
    },
    {
      "metadata": {
        "trusted": true
      },
      "cell_type": "code",
      "source": "opened_before_1860 = stations[stations['Opened'] < 1860]\nannual_passengers_opened_before_1860 = opened_before_1860['Passengers'].sum()\nprint(annual_passengers_opened_before_1860)",
      "execution_count": 31,
      "outputs": [
        {
          "output_type": "stream",
          "text": "228038842\n",
          "name": "stdout"
        }
      ]
    },
    {
      "metadata": {},
      "cell_type": "markdown",
      "source": "What is the average opening year for stations with more than 6 million passengers annually?"
    },
    {
      "metadata": {
        "trusted": true
      },
      "cell_type": "code",
      "source": "more_than_6M = stations[stations['Passengers'] > 6000000]\nmean_open_year_more_than_6M = more_than_6M['Opened'].mean()\nprint(int(mean_open_year_more_than_6M))",
      "execution_count": 32,
      "outputs": [
        {
          "output_type": "stream",
          "text": "1853\n",
          "name": "stdout"
        }
      ]
    },
    {
      "metadata": {},
      "cell_type": "markdown",
      "source": "Sort the Data Frame by the number of platforms each station has."
    },
    {
      "metadata": {
        "trusted": true
      },
      "cell_type": "code",
      "source": "stations.sort_values('Platforms')",
      "execution_count": 33,
      "outputs": [
        {
          "output_type": "execute_result",
          "execution_count": 33,
          "data": {
            "text/plain": "                  Opened      Operator  Passengers  Platforms\nStation                                                      \nCharing Cross       1864  Network Rail    28998152          6\nKings Cross         1852  Network Rail    33361696         12\nLondon Bridge       1836  Network Rail    53850938         15\nLiverpool Street    1874  Network Rail    66556690         18\nEuston              1837  Network Rail    41677870         18\nVictoria            1862  Network Rail    81151418         19\nWaterloo            1848  Network Rail    99148338         22",
            "text/html": "<div>\n<style scoped>\n    .dataframe tbody tr th:only-of-type {\n        vertical-align: middle;\n    }\n\n    .dataframe tbody tr th {\n        vertical-align: top;\n    }\n\n    .dataframe thead th {\n        text-align: right;\n    }\n</style>\n<table border=\"1\" class=\"dataframe\">\n  <thead>\n    <tr style=\"text-align: right;\">\n      <th></th>\n      <th>Opened</th>\n      <th>Operator</th>\n      <th>Passengers</th>\n      <th>Platforms</th>\n    </tr>\n    <tr>\n      <th>Station</th>\n      <th></th>\n      <th></th>\n      <th></th>\n      <th></th>\n    </tr>\n  </thead>\n  <tbody>\n    <tr>\n      <th>Charing Cross</th>\n      <td>1864</td>\n      <td>Network Rail</td>\n      <td>28998152</td>\n      <td>6</td>\n    </tr>\n    <tr>\n      <th>Kings Cross</th>\n      <td>1852</td>\n      <td>Network Rail</td>\n      <td>33361696</td>\n      <td>12</td>\n    </tr>\n    <tr>\n      <th>London Bridge</th>\n      <td>1836</td>\n      <td>Network Rail</td>\n      <td>53850938</td>\n      <td>15</td>\n    </tr>\n    <tr>\n      <th>Liverpool Street</th>\n      <td>1874</td>\n      <td>Network Rail</td>\n      <td>66556690</td>\n      <td>18</td>\n    </tr>\n    <tr>\n      <th>Euston</th>\n      <td>1837</td>\n      <td>Network Rail</td>\n      <td>41677870</td>\n      <td>18</td>\n    </tr>\n    <tr>\n      <th>Victoria</th>\n      <td>1862</td>\n      <td>Network Rail</td>\n      <td>81151418</td>\n      <td>19</td>\n    </tr>\n    <tr>\n      <th>Waterloo</th>\n      <td>1848</td>\n      <td>Network Rail</td>\n      <td>99148338</td>\n      <td>22</td>\n    </tr>\n  </tbody>\n</table>\n</div>"
          },
          "metadata": {}
        }
      ]
    },
    {
      "metadata": {},
      "cell_type": "markdown",
      "source": "## Section 3 - Vectorised Functions"
    },
    {
      "metadata": {},
      "cell_type": "markdown",
      "source": "#### Energy of a Photon\n\nThe Data Frame below gives the wavelengths of light in the visible spectrum"
    },
    {
      "metadata": {
        "trusted": true
      },
      "cell_type": "code",
      "source": "light = pd.DataFrame([\n    {'colour': 'violet', 'wavelength': 400 * 10 ** -9},\n    {'colour': 'blue', 'wavelength': 450 * 10 ** -9},\n    {'colour': 'green', 'wavelength': 500 * 10 ** -9},\n    {'colour': 'yellow', 'wavelength': 580 * 10 ** -9},\n    {'colour': 'orange', 'wavelength': 600 * 10 ** -9},\n    {'colour': 'red', 'wavelength': 650 * 10 ** -9},\n])\nlight = light.set_index('colour')\nprint(light)",
      "execution_count": 34,
      "outputs": [
        {
          "output_type": "stream",
          "text": "          wavelength\ncolour              \nviolet  4.000000e-07\nblue    4.500000e-07\ngreen   5.000000e-07\nyellow  5.800000e-07\norange  6.000000e-07\nred     6.500000e-07\n",
          "name": "stdout"
        }
      ]
    },
    {
      "metadata": {},
      "cell_type": "markdown",
      "source": "Assign a new column \"`energy_of_photon`\" to the Data Frame that is the energy of a photon as calculated by:  \n\n$ E = \\dfrac{hc}{\\lambda} $  \n\nWhere:  \n* E is the energy of a photon\n* h is the Planck constant\n* c is the speed of light\n* $ \\lambda $ is the wavelength\n\nThe speed of light is approximately $3 \\times 10^9 m/s$ and the Plank constant is approximately $6.62 \\times 10^{-34} Js$"
    },
    {
      "metadata": {
        "trusted": true
      },
      "cell_type": "code",
      "source": "c = 3 * 10 ** 9\nh = 6.62 * 10 ** -34\nlight['energy_of_photon'] = (h * c) / light['wavelength']\nprint(light)",
      "execution_count": 35,
      "outputs": [
        {
          "output_type": "stream",
          "text": "          wavelength  energy_of_photon\ncolour                                \nviolet  4.000000e-07      4.965000e-18\nblue    4.500000e-07      4.413333e-18\ngreen   5.000000e-07      3.972000e-18\nyellow  5.800000e-07      3.424138e-18\norange  6.000000e-07      3.310000e-18\nred     6.500000e-07      3.055385e-18\n",
          "name": "stdout"
        }
      ]
    },
    {
      "metadata": {},
      "cell_type": "markdown",
      "source": "It takes 4.18 Joules to heat 1 gram of water by 1 degree Celcius. \n\nHow many photons of red light would be needed to heat 1 gram of water by 1 degree Celcius?"
    },
    {
      "metadata": {
        "trusted": true
      },
      "cell_type": "code",
      "source": "one_calorie_in_joules = 4.18\nenergy_of_red_photon = light.loc['red', 'energy_of_photon']\nred_photons_in_one_calorie = one_calorie_in_joules / energy_of_red_photon\n\nprint(red_photons_in_one_calorie)",
      "execution_count": 36,
      "outputs": [
        {
          "output_type": "stream",
          "text": "1.3680765357502518e+18\n",
          "name": "stdout"
        }
      ]
    },
    {
      "metadata": {},
      "cell_type": "markdown",
      "source": "#### FBI Crime Data Set\nThe following cell provides FBI data on crime statistics in the USA over 25 years. Run the cell to see the DataFrame"
    },
    {
      "metadata": {
        "trusted": true
      },
      "cell_type": "code",
      "source": "crime = pd.DataFrame([\n    {'Population': 262803276, 'Violent_Crimes': 1798792, 'Murders': 21606},\n    {'Population': 281421906, 'Violent_Crimes': 1425486, 'Murders': 15586},\n    {'Population': 296507061, 'Violent_Crimes': 1390745, 'Murders': 16740},\n    {'Population': 309330219, 'Violent_Crimes': 1251248, 'Murders': 14722},\n    {'Population': 321444981, 'Violent_Crimes': 1197704, 'Murders': 15696}\n], columns=['Population', 'Violent_Crimes', 'Murders'], index=[1995, 2000, 2005, 2010, 2015])\nprint(crime)",
      "execution_count": 37,
      "outputs": [
        {
          "output_type": "stream",
          "text": "      Population  Violent_Crimes  Murders\n1995   262803276         1798792    21606\n2000   281421906         1425486    15586\n2005   296507061         1390745    16740\n2010   309330219         1251248    14722\n2015   321444981         1197704    15696\n",
          "name": "stdout"
        }
      ]
    },
    {
      "metadata": {},
      "cell_type": "markdown",
      "source": "The number of murders went up slightly from 2000 to 2015, but what happened to the murder rate (murders per 100,000 population)?"
    },
    {
      "metadata": {
        "trusted": true
      },
      "cell_type": "code",
      "source": "crime['Murder_Rate'] = crime['Murders'] / (crime['Population'] / 100000)\n\nmurder_rate_2010 = crime.loc[2000, 'Murder_Rate']\nmurder_rate_2015 = crime.loc[2015, 'Murder_Rate']\n\nprint(\"The murder rate went from {} in 2000 to {} in 2015\".format(murder_rate_2010, murder_rate_2015))",
      "execution_count": 38,
      "outputs": [
        {
          "output_type": "stream",
          "text": "The murder rate went from 5.53830375948 in 2000 to 4.8829507156 in 2015\n",
          "name": "stdout"
        }
      ]
    },
    {
      "metadata": {},
      "cell_type": "markdown",
      "source": "Print just the data for the years that the violent crime rate was between 400 and 500 violent crimes per 100,000 citizens"
    },
    {
      "metadata": {
        "trusted": true
      },
      "cell_type": "code",
      "source": "crime['Violent_Crime_Rate'] = crime['Violent_Crimes'] / (crime['Population'] / 100000)\n\nprint(crime[(crime['Violent_Crime_Rate'] > 400) & (crime['Violent_Crime_Rate'] < 500)])",
      "execution_count": 39,
      "outputs": [
        {
          "output_type": "stream",
          "text": "      Population  Violent_Crimes  Murders  Murder_Rate  Violent_Crime_Rate\n2005   296507061         1390745    16740     5.645734          469.042793\n2010   309330219         1251248    14722     4.759315          404.502348\n",
          "name": "stdout"
        }
      ]
    },
    {
      "metadata": {},
      "cell_type": "markdown",
      "source": "#### Employee Salary Data Set (Mock)\n\nThe following is mocked HR data for employees in a large corporation. The employees are assigned a tier based on how long they've been with the company and the level of their position.   \n\nRun the cell below to see the Data Frame."
    },
    {
      "metadata": {
        "trusted": true
      },
      "cell_type": "code",
      "source": "employees = pd.DataFrame([\n    {\"name\": \"Peter Butler\", \"salary\": 87031, \"title\": \"Financial Analyst\", \"tier\": 3}, \n    {\"name\": \"Amanda Wood\", \"salary\": 80277, \"title\": \"Senior Sales Associate\", \"tier\": 1},\n    {\"name\": \"Stephanie Stanley\", \"salary\": 72947, \"title\": \"Senior Financial Analyst\", \"tier\": 4}, \n    {\"name\": \"Todd Rice\", \"salary\": 64779, \"title\": \"Web Developer I\", \"tier\": 2}, \n    {\"name\": \"Victor Dixon\", \"salary\": 24377, \"title\": \"Instructor\", \"tier\": 3}, \n    {\"name\": \"Charles Wood\", \"salary\": 79613, \"title\": \"Database Administrator I\", \"tier\": 2}, \n    {\"name\": \"Ryan Moreno\", \"salary\": 95183, \"title\": \"General Manager\", \"tier\": 1},\n    {\"name\": \"Edward Cook\", \"salary\": 17525, \"title\": \"Research Assistant III\", \"tier\": 3},\n    {\"name\": \"Amanda Stephens\", \"salary\": 69428, \"title\": \"General Manager\", \"tier\": 3}, \n    {\"name\": \"Joseph Green\", \"salary\": 38846, \"title\": \"Recruitment Specialist\", \"tier\": 2},\n    {\"name\": \"Stephen Morris\", \"salary\": 221440, \"title\": \"Automation Specialist I\", \"tier\": 1}\n])\n\nprint(employees)",
      "execution_count": 40,
      "outputs": [
        {
          "output_type": "stream",
          "text": "                 name  salary  tier                     title\n0        Peter Butler   87031     3         Financial Analyst\n1         Amanda Wood   80277     1    Senior Sales Associate\n2   Stephanie Stanley   72947     4  Senior Financial Analyst\n3           Todd Rice   64779     2           Web Developer I\n4        Victor Dixon   24377     3                Instructor\n5        Charles Wood   79613     2  Database Administrator I\n6         Ryan Moreno   95183     1           General Manager\n7         Edward Cook   17525     3    Research Assistant III\n8     Amanda Stephens   69428     3           General Manager\n9        Joseph Green   38846     2    Recruitment Specialist\n10     Stephen Morris  221440     1   Automation Specialist I\n",
          "name": "stdout"
        }
      ]
    },
    {
      "metadata": {},
      "cell_type": "markdown",
      "source": "The company is doing well and has decided that each employee will get a one-off bonus based on their salary and tier as follows:\n* Tier 1 employees get 10% of their salary, up to a maximum of £7500\n* Tier 2 employees get 7.5% of their salary, up to a maximum of £7500\n* Tier 3 employees get 5% of their salary, or £1500, whichever is greater\n* Tier 4 employees get 5% of their salary, or £1000, whichever is greater\n\nWrite a function and apply the function to the Data Frame to calculate the bonuses for each employee"
    },
    {
      "metadata": {
        "trusted": true
      },
      "cell_type": "code",
      "source": "# Apply row-wise, this is fine on such a small dataframe\n\ndef bonus_apply_to_row(row):\n    if row['tier'] == 1:\n        bonus = min(7500, row['salary'] * 0.1)\n    elif row['tier'] == 2:\n        bonus = min(7500, row['salary'] * 0.075)\n    elif row['tier'] == 3:\n        bonus = max(1500, row['salary'] * 0.05)\n    elif row['tier'] == 4:\n        bonus = max(1000, row['salary'] * 0.05)\n    bonus = round(bonus, 2)\n    return bonus\n\nemployees['Bonus'] = employees.apply(bonus_apply_to_row, axis=1)\nprint(employees)",
      "execution_count": 41,
      "outputs": [
        {
          "output_type": "stream",
          "text": "                 name  salary  tier                     title    Bonus\n0        Peter Butler   87031     3         Financial Analyst  4351.55\n1         Amanda Wood   80277     1    Senior Sales Associate  7500.00\n2   Stephanie Stanley   72947     4  Senior Financial Analyst  3647.35\n3           Todd Rice   64779     2           Web Developer I  4858.43\n4        Victor Dixon   24377     3                Instructor  1500.00\n5        Charles Wood   79613     2  Database Administrator I  5970.97\n6         Ryan Moreno   95183     1           General Manager  7500.00\n7         Edward Cook   17525     3    Research Assistant III  1500.00\n8     Amanda Stephens   69428     3           General Manager  3471.40\n9        Joseph Green   38846     2    Recruitment Specialist  2913.45\n10     Stephen Morris  221440     1   Automation Specialist I  7500.00\n",
          "name": "stdout"
        }
      ]
    },
    {
      "metadata": {},
      "cell_type": "markdown",
      "source": "#### Premier League 2015/16\n\nThe data set below is the final league table of the Premier League for 2015/16, Leicester's famous league winning season.\n\nRun the cell below to see the league table"
    },
    {
      "metadata": {
        "trusted": true
      },
      "cell_type": "code",
      "source": "prem = pd.DataFrame([\n    {'D': 9,'GA': 67, 'GF': 45, 'L': 18, 'Pld': 38, 'Team': 'AFC Bournemouth', 'W': 11}, \n    {'D': 11, 'GA': 36, 'GF': 65, 'L': 7, 'Pld': 38, 'Team': 'Arsenal', 'W': 20}, \n    {'D': 8, 'GA': 76, 'GF': 27, 'L': 27, 'Pld': 38, 'Team': 'Aston Villa', 'W': 3}, \n    {'D': 14, 'GA': 53, 'GF': 59, 'L': 12, 'Pld': 38, 'Team': 'Chelsea', 'W': 12}, \n    {'D': 9, 'GA': 51, 'GF': 39, 'L': 18, 'Pld': 38, 'Team': 'Crystal Palace', 'W': 11}, \n    {'D': 14, 'GA': 55, 'GF': 59, 'L': 13, 'Pld': 38, 'Team': 'Everton', 'W': 11}, \n    {'D': 12, 'GA': 36, 'GF': 68, 'L': 3, 'Pld': 38, 'Team': 'Leicester City', 'W': 23}, \n    {'D': 12, 'GA': 50, 'GF': 63, 'L': 10, 'Pld': 38, 'Team': 'Liverpool', 'W': 16}, \n    {'D': 9, 'GA': 41, 'GF': 71, 'L': 10, 'Pld': 38, 'Team': 'Manchester City', 'W': 19}, \n    {'D': 9, 'GA': 35, 'GF': 49, 'L': 10, 'Pld': 38, 'Team': 'Manchester United', 'W': 19}, \n    {'D': 10, 'GA': 65, 'GF': 44, 'L': 19, 'Pld': 38, 'Team': 'Newcastle United', 'W': 9}, \n    {'D': 7, 'GA': 67, 'GF': 39, 'L': 22, 'Pld': 38, 'Team': 'Norwich City', 'W': 9}, \n    {'D': 9, 'GA': 41, 'GF': 59, 'L': 11, 'Pld': 38, 'Team': 'Southampton', 'W': 18}, \n    {'D': 9, 'GA': 55, 'GF': 41, 'L': 15, 'Pld': 38, 'Team': 'Stoke City', 'W': 14}, \n    {'D': 12, 'GA': 62, 'GF': 48, 'L': 17, 'Pld': 38, 'Team': 'Sunderland', 'W': 9}, \n    {'D': 11, 'GA': 52, 'GF': 42, 'L': 15, 'Pld': 38, 'Team': 'Swansea City', 'W': 12}, \n    {'D': 13, 'GA': 35, 'GF': 69, 'L': 6, 'Pld': 38, 'Team': 'Tottenham Hotspur', 'W': 19}, \n    {'D': 9, 'GA': 50, 'GF': 40, 'L': 17, 'Pld': 38, 'Team': 'Watford', 'W': 12}, \n    {'D': 13, 'GA': 48, 'GF': 34, 'L': 15, 'Pld': 38, 'Team': 'West Bromwich Albion', 'W': 10}, \n    {'D': 14, 'GA': 51, 'GF': 65, 'L': 8, 'Pld': 38, 'Team': 'West Ham United', 'W': 16}\n], columns = ['Team', 'Pld', 'W', 'D', 'L', 'GF', 'GA'])\nprint(prem)",
      "execution_count": 42,
      "outputs": [
        {
          "output_type": "stream",
          "text": "                    Team  Pld   W   D   L  GF  GA\n0        AFC Bournemouth   38  11   9  18  45  67\n1                Arsenal   38  20  11   7  65  36\n2            Aston Villa   38   3   8  27  27  76\n3                Chelsea   38  12  14  12  59  53\n4         Crystal Palace   38  11   9  18  39  51\n5                Everton   38  11  14  13  59  55\n6         Leicester City   38  23  12   3  68  36\n7              Liverpool   38  16  12  10  63  50\n8        Manchester City   38  19   9  10  71  41\n9      Manchester United   38  19   9  10  49  35\n10      Newcastle United   38   9  10  19  44  65\n11          Norwich City   38   9   7  22  39  67\n12           Southampton   38  18   9  11  59  41\n13            Stoke City   38  14   9  15  41  55\n14            Sunderland   38   9  12  17  48  62\n15          Swansea City   38  12  11  15  42  52\n16     Tottenham Hotspur   38  19  13   6  69  35\n17               Watford   38  12   9  17  40  50\n18  West Bromwich Albion   38  10  13  15  34  48\n19       West Ham United   38  16  14   8  65  51\n",
          "name": "stdout"
        }
      ]
    },
    {
      "metadata": {},
      "cell_type": "markdown",
      "source": "Notice that the data is, however, in alphabetical order by team name.\n\nYou must order the league table by the number of points, then by the goal difference, to show how the final table looked.\n\nThe goal difference is the difference between the number of goals scored and the number of goals conceded.\nThe number of points is as follows:\n* 3 points for a win\n* 1 point for a draw\n* 0 points for a loss"
    },
    {
      "metadata": {
        "trusted": true
      },
      "cell_type": "code",
      "source": "prem['Points'] = prem['W'] * 3 + prem['D']\nprem['GD'] = prem['GF'] - prem['GA']\nprem = prem.sort_values(['Points', 'GD'], ascending=False)\nprem['POS'] = np.arange(1, 21)\nprem = prem.set_index('POS')\nprem",
      "execution_count": 43,
      "outputs": [
        {
          "output_type": "execute_result",
          "execution_count": 43,
          "data": {
            "text/plain": "                     Team  Pld   W   D   L  GF  GA  Points  GD\nPOS                                                           \n1          Leicester City   38  23  12   3  68  36      81  32\n2                 Arsenal   38  20  11   7  65  36      71  29\n3       Tottenham Hotspur   38  19  13   6  69  35      70  34\n4         Manchester City   38  19   9  10  71  41      66  30\n5       Manchester United   38  19   9  10  49  35      66  14\n6             Southampton   38  18   9  11  59  41      63  18\n7         West Ham United   38  16  14   8  65  51      62  14\n8               Liverpool   38  16  12  10  63  50      60  13\n9              Stoke City   38  14   9  15  41  55      51 -14\n10                Chelsea   38  12  14  12  59  53      50   6\n11                Everton   38  11  14  13  59  55      47   4\n12           Swansea City   38  12  11  15  42  52      47 -10\n13                Watford   38  12   9  17  40  50      45 -10\n14   West Bromwich Albion   38  10  13  15  34  48      43 -14\n15         Crystal Palace   38  11   9  18  39  51      42 -12\n16        AFC Bournemouth   38  11   9  18  45  67      42 -22\n17             Sunderland   38   9  12  17  48  62      39 -14\n18       Newcastle United   38   9  10  19  44  65      37 -21\n19           Norwich City   38   9   7  22  39  67      34 -28\n20            Aston Villa   38   3   8  27  27  76      17 -49",
            "text/html": "<div>\n<style scoped>\n    .dataframe tbody tr th:only-of-type {\n        vertical-align: middle;\n    }\n\n    .dataframe tbody tr th {\n        vertical-align: top;\n    }\n\n    .dataframe thead th {\n        text-align: right;\n    }\n</style>\n<table border=\"1\" class=\"dataframe\">\n  <thead>\n    <tr style=\"text-align: right;\">\n      <th></th>\n      <th>Team</th>\n      <th>Pld</th>\n      <th>W</th>\n      <th>D</th>\n      <th>L</th>\n      <th>GF</th>\n      <th>GA</th>\n      <th>Points</th>\n      <th>GD</th>\n    </tr>\n    <tr>\n      <th>POS</th>\n      <th></th>\n      <th></th>\n      <th></th>\n      <th></th>\n      <th></th>\n      <th></th>\n      <th></th>\n      <th></th>\n      <th></th>\n    </tr>\n  </thead>\n  <tbody>\n    <tr>\n      <th>1</th>\n      <td>Leicester City</td>\n      <td>38</td>\n      <td>23</td>\n      <td>12</td>\n      <td>3</td>\n      <td>68</td>\n      <td>36</td>\n      <td>81</td>\n      <td>32</td>\n    </tr>\n    <tr>\n      <th>2</th>\n      <td>Arsenal</td>\n      <td>38</td>\n      <td>20</td>\n      <td>11</td>\n      <td>7</td>\n      <td>65</td>\n      <td>36</td>\n      <td>71</td>\n      <td>29</td>\n    </tr>\n    <tr>\n      <th>3</th>\n      <td>Tottenham Hotspur</td>\n      <td>38</td>\n      <td>19</td>\n      <td>13</td>\n      <td>6</td>\n      <td>69</td>\n      <td>35</td>\n      <td>70</td>\n      <td>34</td>\n    </tr>\n    <tr>\n      <th>4</th>\n      <td>Manchester City</td>\n      <td>38</td>\n      <td>19</td>\n      <td>9</td>\n      <td>10</td>\n      <td>71</td>\n      <td>41</td>\n      <td>66</td>\n      <td>30</td>\n    </tr>\n    <tr>\n      <th>5</th>\n      <td>Manchester United</td>\n      <td>38</td>\n      <td>19</td>\n      <td>9</td>\n      <td>10</td>\n      <td>49</td>\n      <td>35</td>\n      <td>66</td>\n      <td>14</td>\n    </tr>\n    <tr>\n      <th>6</th>\n      <td>Southampton</td>\n      <td>38</td>\n      <td>18</td>\n      <td>9</td>\n      <td>11</td>\n      <td>59</td>\n      <td>41</td>\n      <td>63</td>\n      <td>18</td>\n    </tr>\n    <tr>\n      <th>7</th>\n      <td>West Ham United</td>\n      <td>38</td>\n      <td>16</td>\n      <td>14</td>\n      <td>8</td>\n      <td>65</td>\n      <td>51</td>\n      <td>62</td>\n      <td>14</td>\n    </tr>\n    <tr>\n      <th>8</th>\n      <td>Liverpool</td>\n      <td>38</td>\n      <td>16</td>\n      <td>12</td>\n      <td>10</td>\n      <td>63</td>\n      <td>50</td>\n      <td>60</td>\n      <td>13</td>\n    </tr>\n    <tr>\n      <th>9</th>\n      <td>Stoke City</td>\n      <td>38</td>\n      <td>14</td>\n      <td>9</td>\n      <td>15</td>\n      <td>41</td>\n      <td>55</td>\n      <td>51</td>\n      <td>-14</td>\n    </tr>\n    <tr>\n      <th>10</th>\n      <td>Chelsea</td>\n      <td>38</td>\n      <td>12</td>\n      <td>14</td>\n      <td>12</td>\n      <td>59</td>\n      <td>53</td>\n      <td>50</td>\n      <td>6</td>\n    </tr>\n    <tr>\n      <th>11</th>\n      <td>Everton</td>\n      <td>38</td>\n      <td>11</td>\n      <td>14</td>\n      <td>13</td>\n      <td>59</td>\n      <td>55</td>\n      <td>47</td>\n      <td>4</td>\n    </tr>\n    <tr>\n      <th>12</th>\n      <td>Swansea City</td>\n      <td>38</td>\n      <td>12</td>\n      <td>11</td>\n      <td>15</td>\n      <td>42</td>\n      <td>52</td>\n      <td>47</td>\n      <td>-10</td>\n    </tr>\n    <tr>\n      <th>13</th>\n      <td>Watford</td>\n      <td>38</td>\n      <td>12</td>\n      <td>9</td>\n      <td>17</td>\n      <td>40</td>\n      <td>50</td>\n      <td>45</td>\n      <td>-10</td>\n    </tr>\n    <tr>\n      <th>14</th>\n      <td>West Bromwich Albion</td>\n      <td>38</td>\n      <td>10</td>\n      <td>13</td>\n      <td>15</td>\n      <td>34</td>\n      <td>48</td>\n      <td>43</td>\n      <td>-14</td>\n    </tr>\n    <tr>\n      <th>15</th>\n      <td>Crystal Palace</td>\n      <td>38</td>\n      <td>11</td>\n      <td>9</td>\n      <td>18</td>\n      <td>39</td>\n      <td>51</td>\n      <td>42</td>\n      <td>-12</td>\n    </tr>\n    <tr>\n      <th>16</th>\n      <td>AFC Bournemouth</td>\n      <td>38</td>\n      <td>11</td>\n      <td>9</td>\n      <td>18</td>\n      <td>45</td>\n      <td>67</td>\n      <td>42</td>\n      <td>-22</td>\n    </tr>\n    <tr>\n      <th>17</th>\n      <td>Sunderland</td>\n      <td>38</td>\n      <td>9</td>\n      <td>12</td>\n      <td>17</td>\n      <td>48</td>\n      <td>62</td>\n      <td>39</td>\n      <td>-14</td>\n    </tr>\n    <tr>\n      <th>18</th>\n      <td>Newcastle United</td>\n      <td>38</td>\n      <td>9</td>\n      <td>10</td>\n      <td>19</td>\n      <td>44</td>\n      <td>65</td>\n      <td>37</td>\n      <td>-21</td>\n    </tr>\n    <tr>\n      <th>19</th>\n      <td>Norwich City</td>\n      <td>38</td>\n      <td>9</td>\n      <td>7</td>\n      <td>22</td>\n      <td>39</td>\n      <td>67</td>\n      <td>34</td>\n      <td>-28</td>\n    </tr>\n    <tr>\n      <th>20</th>\n      <td>Aston Villa</td>\n      <td>38</td>\n      <td>3</td>\n      <td>8</td>\n      <td>27</td>\n      <td>27</td>\n      <td>76</td>\n      <td>17</td>\n      <td>-49</td>\n    </tr>\n  </tbody>\n</table>\n</div>"
          },
          "metadata": {}
        }
      ]
    },
    {
      "metadata": {},
      "cell_type": "markdown",
      "source": "# Section 4 - Cleaning, Transforming and Merging Data"
    },
    {
      "metadata": {},
      "cell_type": "markdown",
      "source": "#### Used Car Dealership (Mocked Data)"
    },
    {
      "metadata": {},
      "cell_type": "markdown",
      "source": "A used car dealership sells Toyotas and Fords.  \n\nThey keep the details of the cars and the prices these cars sold for in two separate files:\n* data/car_details.csv\n* data/car_prices.csv\n\nLoad the car details and car prices csvs as two separate Data Frames"
    },
    {
      "metadata": {
        "trusted": true
      },
      "cell_type": "code",
      "source": "car_details = pd.read_csv('data/car_details.csv')\ncar_prices = pd.read_csv('data/car_prices.csv')",
      "execution_count": 44,
      "outputs": []
    },
    {
      "metadata": {},
      "cell_type": "markdown",
      "source": "Using `.head()`, what does each of these Data Frames look like?"
    },
    {
      "metadata": {
        "trusted": true
      },
      "cell_type": "code",
      "source": "print(car_details.head())\nprint('')\nprint(car_prices.head())",
      "execution_count": 45,
      "outputs": [
        {
          "output_type": "stream",
          "text": "  Number_Plate    Make    Model  Year\n0     HO07 TWC  Toyota     RAV4  2007\n1     YW59 CBS    Ford  Mustang  2009\n2     HJ56 DKV    Ford  Mustang  2006\n3     HT65 KGK    Ford    Focus  2015\n4     FO10 WUY  Toyota     gt86  2010\n\n  Number_Plate  Price\n0     HO07 TWC   8051\n1     YW59 CBS  15113\n2     HJ56 DKV   8078\n3     HT65 KGK  17552\n4     FO10 WUY  13678\n",
          "name": "stdout"
        }
      ]
    },
    {
      "metadata": {},
      "cell_type": "markdown",
      "source": "What is the average price paid for a Ford Mustang?"
    },
    {
      "metadata": {
        "trusted": true
      },
      "cell_type": "code",
      "source": "car_df = pd.merge(car_details, car_prices, on='Number_Plate')\n\nmustangs = car_df[(car_df['Make'] == 'Ford') & (car_df['Model'] == 'Mustang')]\naverage_mustang = mustangs['Price'].mean()\nprint(\"The average Ford Mustang price is £{}\".format(round(average_mustang, 2)))",
      "execution_count": 46,
      "outputs": [
        {
          "output_type": "stream",
          "text": "The average Ford Mustang price is £17838.64\n",
          "name": "stdout"
        }
      ]
    },
    {
      "metadata": {},
      "cell_type": "markdown",
      "source": "What is the average price paid for a 2006 Toyota RAV4?"
    },
    {
      "metadata": {
        "trusted": true
      },
      "cell_type": "code",
      "source": "mask = ((car_df['Make'] == 'Toyota') & (car_df['Model'] == 'RAV4') & (car_df['Year'] == 2006))\nrav4_2006 = car_df[mask]\nav_rav4_2006_price = rav4_2006['Price'].mean()\n\nprint(\"The average price paid for a 2006 Toyota RAV 4 is £{}\".format(round(av_rav4_2006_price, 2)))",
      "execution_count": 47,
      "outputs": [
        {
          "output_type": "stream",
          "text": "The average price paid for a 2006 Toyota RAV 4 is £6190.0\n",
          "name": "stdout"
        }
      ]
    },
    {
      "metadata": {},
      "cell_type": "markdown",
      "source": "What is the minimum price paid for a car built in 2007? What is the make and model of this car?"
    },
    {
      "metadata": {
        "trusted": true
      },
      "cell_type": "code",
      "source": "cars_2007 = car_df[car_df['Year'] == 2007]\ncars_2007 = cars_2007.sort_values('Price')\ncheapest_car_2007 = cars_2007.iloc[0]\n\nprint(\"The minimum price for a car built in 2007 is {}\".format(cheapest_car_2007['Price']))\nprint(\"This car is a {} {}\".format(cheapest_car_2007['Make'], cheapest_car_2007['Model']))",
      "execution_count": 48,
      "outputs": [
        {
          "output_type": "stream",
          "text": "The minimum price for a car built in 2007 is 3498\nThis car is a Toyota Yaris\n",
          "name": "stdout"
        }
      ]
    },
    {
      "metadata": {},
      "cell_type": "markdown",
      "source": "A man comes in looking for a Ford Mustang, but only has £20,000 to spend.   \n\nLooking at the historical data, what year of Ford Mustang can this man afford?"
    },
    {
      "metadata": {
        "trusted": true
      },
      "cell_type": "code",
      "source": "mustangs_under_20k = mustangs[mustangs['Price'] < 20000]\nmustangs_under_20k = mustangs_under_20k.sort_values('Price', ascending=False)\nprint(mustangs_under_20k.head())\nprint(\"Given Historical data, the newest car this man can afford is from the year 2011\")",
      "execution_count": 49,
      "outputs": [
        {
          "output_type": "stream",
          "text": "    Number_Plate  Make    Model  Year  Price\n663     RP61 YMU  Ford  Mustang  2011  19736\n173     VO11 ULA  Ford  Mustang  2011  19418\n378     OJ11 TGR  Ford  Mustang  2011  19271\n492     DV11 MKO  Ford  Mustang  2011  19235\n208     WP11 GGS  Ford  Mustang  2011  19114\nGiven Historical data, the newest car this man can afford is from the year 2011\n",
          "name": "stdout"
        }
      ]
    },
    {
      "metadata": {},
      "cell_type": "markdown",
      "source": "A family are looking to buy either a Ford Focus or Toyota Verso, they don't have a preference between the two, but the oldest they would want to buy is 2013. Which car would cost them more money?"
    },
    {
      "metadata": {
        "trusted": true
      },
      "cell_type": "code",
      "source": "focus_mask = ((car_df['Make'] == 'Ford') & (car_df['Model'] == 'Focus') & (car_df['Year'] >= 2013))\nverso_mask = ((car_df['Make'] == 'Toyota') & (car_df['Model'] == 'Verso') & (car_df['Year'] >= 2013))\nav_focus_price = car_df[focus_mask]['Price'].mean()\nav_verso_price = car_df[verso_mask]['Price'].mean()\n\nif av_focus_price > av_verso_price:\n    print(\"A Focus is more expensive on average than a Verso\")\nelse:\n    print(\"A Verso is more expensive on average than a Focus\")",
      "execution_count": 50,
      "outputs": [
        {
          "output_type": "stream",
          "text": "A Focus is more expensive on average than a Verso\n",
          "name": "stdout"
        }
      ]
    },
    {
      "metadata": {},
      "cell_type": "markdown",
      "source": "What year of car has the dealership sold the most of?"
    },
    {
      "metadata": {
        "trusted": true
      },
      "cell_type": "code",
      "source": "print(car_df['Year'].value_counts())\n\nprint(\"The dealership sold 92 cars in 2015 and 2008\")",
      "execution_count": 51,
      "outputs": [
        {
          "output_type": "stream",
          "text": "2015    92\n2008    92\n2013    89\n2010    88\n2006    84\n2011    83\n2009    83\n2007    83\n2005    83\n2012    79\n2014    74\n2016    70\nName: Year, dtype: int64\nThe dealership sold 92 cars in 2015 and 2008\n",
          "name": "stdout"
        }
      ]
    },
    {
      "metadata": {},
      "cell_type": "markdown",
      "source": "#### Pokemon Dataset\n\nThere is a dataset with pokemon in it stored in `data/pokemon.csv`\n\nLoad this dataset and view the top 10 rows using the method `.head(10)`"
    },
    {
      "metadata": {
        "trusted": true
      },
      "cell_type": "code",
      "source": "df = pd.read_csv('data/pokemon.csv')\ndf.head(10)",
      "execution_count": 52,
      "outputs": [
        {
          "output_type": "execute_result",
          "execution_count": 52,
          "data": {
            "text/plain": "   #                       Name Type 1  Type 2  HP  Attack  Defense  Sp. Atk  \\\n0  1                  Bulbasaur  Grass  Poison  45      49       49       65   \n1  2                    Ivysaur  Grass  Poison  60      62       63       80   \n2  3                   Venusaur  Grass  Poison  80      82       83      100   \n3  3      VenusaurMega Venusaur  Grass  Poison  80     100      123      122   \n4  4                 Charmander   Fire     NaN  39      52       43       60   \n5  5                 Charmeleon   Fire     NaN  58      64       58       80   \n6  6                  Charizard   Fire  Flying  78      84       78      109   \n7  6  CharizardMega Charizard X   Fire  Dragon  78     130      111      130   \n8  6  CharizardMega Charizard Y   Fire  Flying  78     104       78      159   \n9  7                   Squirtle  Water     NaN  44      48       65       50   \n\n   Sp. Def  Speed  Generation  Legendary  \n0      NaN     45           1      False  \n1     80.0     60           1      False  \n2    100.0     80           1      False  \n3    120.0     80           1      False  \n4     50.0     65           1      False  \n5     65.0     80           1      False  \n6     85.0    100           1      False  \n7     85.0    100           1      False  \n8    115.0    100           1      False  \n9     64.0     43           1      False  ",
            "text/html": "<div>\n<style scoped>\n    .dataframe tbody tr th:only-of-type {\n        vertical-align: middle;\n    }\n\n    .dataframe tbody tr th {\n        vertical-align: top;\n    }\n\n    .dataframe thead th {\n        text-align: right;\n    }\n</style>\n<table border=\"1\" class=\"dataframe\">\n  <thead>\n    <tr style=\"text-align: right;\">\n      <th></th>\n      <th>#</th>\n      <th>Name</th>\n      <th>Type 1</th>\n      <th>Type 2</th>\n      <th>HP</th>\n      <th>Attack</th>\n      <th>Defense</th>\n      <th>Sp. Atk</th>\n      <th>Sp. Def</th>\n      <th>Speed</th>\n      <th>Generation</th>\n      <th>Legendary</th>\n    </tr>\n  </thead>\n  <tbody>\n    <tr>\n      <th>0</th>\n      <td>1</td>\n      <td>Bulbasaur</td>\n      <td>Grass</td>\n      <td>Poison</td>\n      <td>45</td>\n      <td>49</td>\n      <td>49</td>\n      <td>65</td>\n      <td>NaN</td>\n      <td>45</td>\n      <td>1</td>\n      <td>False</td>\n    </tr>\n    <tr>\n      <th>1</th>\n      <td>2</td>\n      <td>Ivysaur</td>\n      <td>Grass</td>\n      <td>Poison</td>\n      <td>60</td>\n      <td>62</td>\n      <td>63</td>\n      <td>80</td>\n      <td>80.0</td>\n      <td>60</td>\n      <td>1</td>\n      <td>False</td>\n    </tr>\n    <tr>\n      <th>2</th>\n      <td>3</td>\n      <td>Venusaur</td>\n      <td>Grass</td>\n      <td>Poison</td>\n      <td>80</td>\n      <td>82</td>\n      <td>83</td>\n      <td>100</td>\n      <td>100.0</td>\n      <td>80</td>\n      <td>1</td>\n      <td>False</td>\n    </tr>\n    <tr>\n      <th>3</th>\n      <td>3</td>\n      <td>VenusaurMega Venusaur</td>\n      <td>Grass</td>\n      <td>Poison</td>\n      <td>80</td>\n      <td>100</td>\n      <td>123</td>\n      <td>122</td>\n      <td>120.0</td>\n      <td>80</td>\n      <td>1</td>\n      <td>False</td>\n    </tr>\n    <tr>\n      <th>4</th>\n      <td>4</td>\n      <td>Charmander</td>\n      <td>Fire</td>\n      <td>NaN</td>\n      <td>39</td>\n      <td>52</td>\n      <td>43</td>\n      <td>60</td>\n      <td>50.0</td>\n      <td>65</td>\n      <td>1</td>\n      <td>False</td>\n    </tr>\n    <tr>\n      <th>5</th>\n      <td>5</td>\n      <td>Charmeleon</td>\n      <td>Fire</td>\n      <td>NaN</td>\n      <td>58</td>\n      <td>64</td>\n      <td>58</td>\n      <td>80</td>\n      <td>65.0</td>\n      <td>80</td>\n      <td>1</td>\n      <td>False</td>\n    </tr>\n    <tr>\n      <th>6</th>\n      <td>6</td>\n      <td>Charizard</td>\n      <td>Fire</td>\n      <td>Flying</td>\n      <td>78</td>\n      <td>84</td>\n      <td>78</td>\n      <td>109</td>\n      <td>85.0</td>\n      <td>100</td>\n      <td>1</td>\n      <td>False</td>\n    </tr>\n    <tr>\n      <th>7</th>\n      <td>6</td>\n      <td>CharizardMega Charizard X</td>\n      <td>Fire</td>\n      <td>Dragon</td>\n      <td>78</td>\n      <td>130</td>\n      <td>111</td>\n      <td>130</td>\n      <td>85.0</td>\n      <td>100</td>\n      <td>1</td>\n      <td>False</td>\n    </tr>\n    <tr>\n      <th>8</th>\n      <td>6</td>\n      <td>CharizardMega Charizard Y</td>\n      <td>Fire</td>\n      <td>Flying</td>\n      <td>78</td>\n      <td>104</td>\n      <td>78</td>\n      <td>159</td>\n      <td>115.0</td>\n      <td>100</td>\n      <td>1</td>\n      <td>False</td>\n    </tr>\n    <tr>\n      <th>9</th>\n      <td>7</td>\n      <td>Squirtle</td>\n      <td>Water</td>\n      <td>NaN</td>\n      <td>44</td>\n      <td>48</td>\n      <td>65</td>\n      <td>50</td>\n      <td>64.0</td>\n      <td>43</td>\n      <td>1</td>\n      <td>False</td>\n    </tr>\n  </tbody>\n</table>\n</div>"
          },
          "metadata": {}
        }
      ]
    },
    {
      "metadata": {},
      "cell_type": "markdown",
      "source": "Notice that some Pokemon have variants with the same Pokedex number (`'#'`), we will count these as duplicates, remove these duplicates, only keeping the first instance of each pokemon."
    },
    {
      "metadata": {
        "trusted": true
      },
      "cell_type": "code",
      "source": "df = df.drop_duplicates(subset='#', keep='first')",
      "execution_count": 53,
      "outputs": []
    },
    {
      "metadata": {},
      "cell_type": "markdown",
      "source": "Some of the `Sp. Def` statistics are missing. For those missing `Sp. Def`, assume that the value is the same as `Sp. Atk` and fill the missing values with the values from `Sp. Atk`."
    },
    {
      "metadata": {
        "trusted": true
      },
      "cell_type": "code",
      "source": "df['Sp. Def'] = df['Sp. Def'].fillna(df['Sp. Atk'])",
      "execution_count": 54,
      "outputs": []
    },
    {
      "metadata": {},
      "cell_type": "markdown",
      "source": "Create a new column `Total` with the sum of the columns `HP`, `Attack`, `Defense`, `Sp. Atk`, `Sp. Def` and `Speed`"
    },
    {
      "metadata": {
        "trusted": true
      },
      "cell_type": "code",
      "source": "df['Total'] = sum([df['HP'], df['Attack'], df['Defense'], df['Sp. Atk'], df['Sp. Def'], df['Speed']])",
      "execution_count": 55,
      "outputs": []
    },
    {
      "metadata": {},
      "cell_type": "markdown",
      "source": "Which Pokemon from Generation 1 is the most powerful in terms of total stats?"
    },
    {
      "metadata": {
        "trusted": true
      },
      "cell_type": "code",
      "source": "df.sort_values('Total', ascending=False).head(1)",
      "execution_count": 56,
      "outputs": [
        {
          "output_type": "execute_result",
          "execution_count": 56,
          "data": {
            "text/plain": "       #    Name  Type 1 Type 2   HP  Attack  Defense  Sp. Atk  Sp. Def  \\\n552  493  Arceus  Normal    NaN  120     120      120      120    120.0   \n\n     Speed  Generation  Legendary  Total  \n552    120           4       True  720.0  ",
            "text/html": "<div>\n<style scoped>\n    .dataframe tbody tr th:only-of-type {\n        vertical-align: middle;\n    }\n\n    .dataframe tbody tr th {\n        vertical-align: top;\n    }\n\n    .dataframe thead th {\n        text-align: right;\n    }\n</style>\n<table border=\"1\" class=\"dataframe\">\n  <thead>\n    <tr style=\"text-align: right;\">\n      <th></th>\n      <th>#</th>\n      <th>Name</th>\n      <th>Type 1</th>\n      <th>Type 2</th>\n      <th>HP</th>\n      <th>Attack</th>\n      <th>Defense</th>\n      <th>Sp. Atk</th>\n      <th>Sp. Def</th>\n      <th>Speed</th>\n      <th>Generation</th>\n      <th>Legendary</th>\n      <th>Total</th>\n    </tr>\n  </thead>\n  <tbody>\n    <tr>\n      <th>552</th>\n      <td>493</td>\n      <td>Arceus</td>\n      <td>Normal</td>\n      <td>NaN</td>\n      <td>120</td>\n      <td>120</td>\n      <td>120</td>\n      <td>120</td>\n      <td>120.0</td>\n      <td>120</td>\n      <td>4</td>\n      <td>True</td>\n      <td>720.0</td>\n    </tr>\n  </tbody>\n</table>\n</div>"
          },
          "metadata": {}
        }
      ]
    },
    {
      "metadata": {},
      "cell_type": "markdown",
      "source": "Which pokemon makes the best punching bag (HP + Defence + Sp. Def)?"
    },
    {
      "metadata": {
        "trusted": true
      },
      "cell_type": "code",
      "source": "df.loc[(df['HP'] + df['Defense'] + df['Sp. Def']).sort_values(ascending=False).index[0]]",
      "execution_count": 57,
      "outputs": [
        {
          "output_type": "execute_result",
          "execution_count": 57,
          "data": {
            "text/plain": "#                 213\nName          Shuckle\nType 1            Bug\nType 2           Rock\nHP                 20\nAttack             10\nDefense           230\nSp. Atk            10\nSp. Def           230\nSpeed               5\nGeneration          2\nLegendary       False\nTotal             505\nName: 230, dtype: object"
          },
          "metadata": {}
        }
      ]
    },
    {
      "metadata": {},
      "cell_type": "markdown",
      "source": "#### NHS England Admission Data\n\nThere are two datasets for NHS England Admission Data\n* data/ae_2014.csv\n* data/ae_2013.csv\n\nLoad these two data sets into Data Frames and concatenate the Data Frames into one Data Frame"
    },
    {
      "metadata": {
        "trusted": true
      },
      "cell_type": "code",
      "source": "df1 = pd.read_csv('data/ae_2014.csv')\ndf2 = pd.read_csv('data/ae_2013.csv')\ndf = pd.concat([df1, df2])",
      "execution_count": 58,
      "outputs": []
    },
    {
      "metadata": {},
      "cell_type": "markdown",
      "source": "`Total Attendence > 4 hours` is the number of patients that had to wait >4 hours from arrival to admission.  \n\nWhat is the average percentage of patients that had to wait >4 hours for admission?"
    },
    {
      "metadata": {
        "trusted": true
      },
      "cell_type": "code",
      "source": "df['Total Attendance'] = df['Total Attendance'].map(lambda x: int(x.replace(',', '')))\ndf['Total Attendence > 4 hours'] = df['Total Attendence > 4 hours'].map(lambda x: int(x.replace(',', '')))\ndf.head()",
      "execution_count": 59,
      "outputs": [
        {
          "output_type": "execute_result",
          "execution_count": 59,
          "data": {
            "text/plain": "             Date  Total Attendance  Total Attendence > 4 hours\n0  W/E 05/01/2014            387463                       22113\n1  W/E 12/01/2014            383566                       21083\n2  W/E 19/01/2014            390532                       17779\n3  W/E 26/01/2014            398018                       15588\n4  W/E 02/02/2014            406929                       19251",
            "text/html": "<div>\n<style scoped>\n    .dataframe tbody tr th:only-of-type {\n        vertical-align: middle;\n    }\n\n    .dataframe tbody tr th {\n        vertical-align: top;\n    }\n\n    .dataframe thead th {\n        text-align: right;\n    }\n</style>\n<table border=\"1\" class=\"dataframe\">\n  <thead>\n    <tr style=\"text-align: right;\">\n      <th></th>\n      <th>Date</th>\n      <th>Total Attendance</th>\n      <th>Total Attendence &gt; 4 hours</th>\n    </tr>\n  </thead>\n  <tbody>\n    <tr>\n      <th>0</th>\n      <td>W/E 05/01/2014</td>\n      <td>387463</td>\n      <td>22113</td>\n    </tr>\n    <tr>\n      <th>1</th>\n      <td>W/E 12/01/2014</td>\n      <td>383566</td>\n      <td>21083</td>\n    </tr>\n    <tr>\n      <th>2</th>\n      <td>W/E 19/01/2014</td>\n      <td>390532</td>\n      <td>17779</td>\n    </tr>\n    <tr>\n      <th>3</th>\n      <td>W/E 26/01/2014</td>\n      <td>398018</td>\n      <td>15588</td>\n    </tr>\n    <tr>\n      <th>4</th>\n      <td>W/E 02/02/2014</td>\n      <td>406929</td>\n      <td>19251</td>\n    </tr>\n  </tbody>\n</table>\n</div>"
          },
          "metadata": {}
        }
      ]
    },
    {
      "metadata": {},
      "cell_type": "markdown",
      "source": "The target for admission in less than 4 hours for the NHS is 95%.\n\nHow many weeks in 2013 and 2014, respectively, did they not meet this target?"
    },
    {
      "metadata": {
        "trusted": true
      },
      "cell_type": "code",
      "source": "def get_year(week_str):\n    year = int(week_str[-4:])\n    return year\n\ndf['Year'] = df['Date'].map(get_year)\ndf['Target_Not_Met'] = (df['Total Attendence > 4 hours'] / df['Total Attendance']) > 0.05\nprint(len(df[(df['Target_Not_Met'] == True) & (df['Year'] == 2013)]))\nprint(len(df[(df['Target_Not_Met'] == True) & (df['Year'] == 2014)]))",
      "execution_count": 60,
      "outputs": [
        {
          "output_type": "stream",
          "text": "17\n30\n",
          "name": "stdout"
        }
      ]
    },
    {
      "metadata": {},
      "cell_type": "markdown",
      "source": "# Section 5 - Exercises"
    },
    {
      "metadata": {},
      "cell_type": "markdown",
      "source": "### Vector Magnitudes\n\nThe magnitude of a vector is the square root of the sum of squares of a vector, i.e. the magnitude of the vector a below is:\n\n$$\n\\bar{a} = \\begin{bmatrix} x \\\\ y \\\\ z \\end{bmatrix}\n$$\n\n\n$ |\\bar{a}| = \\sqrt{x^2 + y^2 + z^2} $\n\nAdd a column to the following DataFrame called `magnitude` that is the magnitude of each of the vectors a-j. \n\nRound this column to 2 decimal places."
    },
    {
      "metadata": {
        "trusted": true
      },
      "cell_type": "code",
      "source": "# Run this cell first\nvectors = pd.DataFrame({\n    'x': [1, 3, -3, 4, 8, -7, 10, -2, -5, 9],\n    'y': [-1, 13, 0, -2, 4, 6, 7, 19, 3, 12],\n    'z': [3, 4, 7, 4, 2, -5, 0, 12, 8, -6]\n}, index=['a', 'b', 'c', 'd', 'e', 'f', 'g', 'h', 'i', 'j'])",
      "execution_count": 61,
      "outputs": []
    },
    {
      "metadata": {
        "trusted": true
      },
      "cell_type": "code",
      "source": "# Write your code here\nvectors['magnitude'] = np.sqrt((vectors['x'] ** 2) + (vectors['y'] ** 2) + (vectors['z'] ** 2))\nvectors['magnitude'] = np.round(vectors['magnitude'], 2)",
      "execution_count": 62,
      "outputs": []
    },
    {
      "metadata": {
        "trusted": true
      },
      "cell_type": "code",
      "source": "# Now test your function\ntest_1 = 'magnitude' in vectors.columns\ntest_2 = vectors.loc['a', 'magnitude'] == 3.32\ntest_3 = vectors.loc['h', 'magnitude'] == 22.56\ntest_4 = vectors.loc['i', 'magnitude'] == 9.90\ntest_5 = vectors.loc['c', 'magnitude'] == 7.62\ntest_6 = vectors.loc['d', 'magnitude'] == 6.00\n\nif all([test_1, test_2, test_3, test_4, test_5, test_6]):\n    print(\"PASSED\")\nelse:\n    print(\"FAILED\")",
      "execution_count": 63,
      "outputs": [
        {
          "output_type": "stream",
          "text": "PASSED\n",
          "name": "stdout"
        }
      ]
    },
    {
      "metadata": {},
      "cell_type": "markdown",
      "source": "### Calculating $R^2$\n\nThe $R^2$ statistic is a common method of measuring how well a regression model performs at predicting outcomes.  \n\n$R^2$ is the proportion of the variance in data explained by the model, given a number of independent variable inputs.\n\n$ y $ is the observed (actual) output y\n\n$ \\hat{y} $ is our prediction of the output y\n\n$ \\bar{y} $ is the mean of the observed output y\n\nThe total sum of squares (TSS) is defined as follows:\n\n$TSS = \\Sigma^n_i (y_i - \\bar{y_i})^2 $\n\nThe residual sum of squares (RSS), also known as the sum of squared error, is defined as follows:\n\n$RSS = \\Sigma^n_i (y_i - \\hat{y_i})^2 $\n\n$R^2$ is then calculated as:\n\n$R^2 = 1 - \\dfrac{RSS}{TSS} $\n\nCalculate the $R^2$ value from the Data Frame below and store it in a variable `r_squared`"
    },
    {
      "metadata": {
        "trusted": true
      },
      "cell_type": "code",
      "source": "# Run this cell first\n\ndf = pd.DataFrame({\n    'y_predicted': [220, 165, 140, 130, 160, 178, 200, 123, 130, 140, 162, 157],\n    'y_observed': [195, 160, 120, 155, 161, 180, 185, 123, 128, 160, 180, 182]\n})",
      "execution_count": 64,
      "outputs": []
    },
    {
      "metadata": {
        "trusted": true
      },
      "cell_type": "code",
      "source": "# Write your code here\ntss = np.sum((df['y_observed'] - np.mean(df['y_observed'])) ** 2)\nrss = np.sum((df['y_observed'] - df['y_predicted']) ** 2)\nr_squared = 1 - (rss / tss)\nr_squared",
      "execution_count": 65,
      "outputs": [
        {
          "output_type": "execute_result",
          "execution_count": 65,
          "data": {
            "text/plain": "0.544096554136785"
          },
          "metadata": {}
        }
      ]
    },
    {
      "metadata": {
        "trusted": true
      },
      "cell_type": "code",
      "source": "# Now test your function\n\ntest_1 = round(r_squared, 2) == 0.54\n\nif test_1:\n    print(\"PASSED\")\nelse:\n    print(\"FAILED\")",
      "execution_count": 66,
      "outputs": [
        {
          "output_type": "stream",
          "text": "PASSED\n",
          "name": "stdout"
        }
      ]
    },
    {
      "metadata": {},
      "cell_type": "markdown",
      "source": "`pd.read_html()` will return a list of tables on an html page.  \nThe documentation for this can be found at http://pandas.pydata.org/pandas-docs/stable/generated/pandas.read_html.html\n\nDownload the table at https://simple.wikipedia.org/wiki/List_of_U.S._states   \n\nThen use pandas to take in this data, find how many states there are."
    },
    {
      "metadata": {
        "trusted": true
      },
      "cell_type": "code",
      "source": "states = pd.read_html('https://simple.wikipedia.org/wiki/List_of_U.S._states', header=0)\nstates = states[0]\nprint(states.head())\nprint(\"There are {} states\".format(len(states)))",
      "execution_count": 67,
      "outputs": [
        {
          "output_type": "stream",
          "text": "   Sl no. Abbreviations  State Name      Capital     Became a State\n0       1            AL     Alabama   Montgomery  December 14, 1819\n1       2            AK      Alaska       Juneau    January 3, 1959\n2       3            AZ     Arizona      Phoenix  February 14, 1912\n3       4            AR    Arkansas  Little Rock      June 15, 1836\n4       5            CA  California   Sacramento  September 9, 1850\nThere are 50 states\n",
          "name": "stdout"
        }
      ]
    },
    {
      "metadata": {},
      "cell_type": "markdown",
      "source": "Now sort by the date they became a state and display just the oldest 5 states.\n\nRemember you'll have to parse the dates given as strings"
    },
    {
      "metadata": {
        "trusted": true
      },
      "cell_type": "code",
      "source": "import datetime\n\ndef convert_to_date(dt_str):\n    dt = datetime.datetime.strptime(dt_str, '%B %d, %Y')\n    dt = dt.date()\n    return dt\n\nstates['Became a State'] = states['Became a State'].map(convert_to_date)\nstates.sort_values('Became a State').head()",
      "execution_count": 68,
      "outputs": [
        {
          "output_type": "execute_result",
          "execution_count": 68,
          "data": {
            "text/plain": "    Sl no. Abbreviations    State Name     Capital Became a State\n7        8            DE      Delaware       Dover     1787-12-07\n37      38            PA  Pennsylvania  Harrisburg     1787-12-12\n29      30            NJ    New Jersey     Trenton     1787-12-18\n9       10            GA       Georgia     Atlanta     1788-01-02\n6        7            CT   Connecticut    Hartford     1788-01-09",
            "text/html": "<div>\n<style scoped>\n    .dataframe tbody tr th:only-of-type {\n        vertical-align: middle;\n    }\n\n    .dataframe tbody tr th {\n        vertical-align: top;\n    }\n\n    .dataframe thead th {\n        text-align: right;\n    }\n</style>\n<table border=\"1\" class=\"dataframe\">\n  <thead>\n    <tr style=\"text-align: right;\">\n      <th></th>\n      <th>Sl no.</th>\n      <th>Abbreviations</th>\n      <th>State Name</th>\n      <th>Capital</th>\n      <th>Became a State</th>\n    </tr>\n  </thead>\n  <tbody>\n    <tr>\n      <th>7</th>\n      <td>8</td>\n      <td>DE</td>\n      <td>Delaware</td>\n      <td>Dover</td>\n      <td>1787-12-07</td>\n    </tr>\n    <tr>\n      <th>37</th>\n      <td>38</td>\n      <td>PA</td>\n      <td>Pennsylvania</td>\n      <td>Harrisburg</td>\n      <td>1787-12-12</td>\n    </tr>\n    <tr>\n      <th>29</th>\n      <td>30</td>\n      <td>NJ</td>\n      <td>New Jersey</td>\n      <td>Trenton</td>\n      <td>1787-12-18</td>\n    </tr>\n    <tr>\n      <th>9</th>\n      <td>10</td>\n      <td>GA</td>\n      <td>Georgia</td>\n      <td>Atlanta</td>\n      <td>1788-01-02</td>\n    </tr>\n    <tr>\n      <th>6</th>\n      <td>7</td>\n      <td>CT</td>\n      <td>Connecticut</td>\n      <td>Hartford</td>\n      <td>1788-01-09</td>\n    </tr>\n  </tbody>\n</table>\n</div>"
          },
          "metadata": {}
        }
      ]
    },
    {
      "metadata": {},
      "cell_type": "markdown",
      "source": "How many states have a capital city starting with the letter \"O\"?"
    },
    {
      "metadata": {
        "trusted": true
      },
      "cell_type": "code",
      "source": "def starts_with_o(capital):\n    return capital.startswith('O')\n\nlen(states[states['Capital'].map(starts_with_o)])",
      "execution_count": 69,
      "outputs": [
        {
          "output_type": "execute_result",
          "execution_count": 69,
          "data": {
            "text/plain": "2"
          },
          "metadata": {}
        }
      ]
    }
  ],
  "metadata": {
    "kernelspec": {
      "name": "python2",
      "display_name": "Python 2",
      "language": "python"
    },
    "language_info": {
      "mimetype": "text/x-python",
      "nbconvert_exporter": "python",
      "name": "python",
      "pygments_lexer": "ipython2",
      "version": "2.7.15",
      "file_extension": ".py",
      "codemirror_mode": {
        "version": 2,
        "name": "ipython"
      }
    }
  },
  "nbformat": 4,
  "nbformat_minor": 1
}