{
  "cells": [
    {
      "metadata": {},
      "cell_type": "markdown",
      "source": "# Introduction To Python\n## Section 1 - Data Types"
    },
    {
      "metadata": {},
      "cell_type": "markdown",
      "source": "Welcome to Azure Notebooks!  \nYou can write and run your own python code here without installing anything locally.  \nHave a go at printing a string.  \nHold shift and press return to run the cell below or press the 'Run' button above to run the cell.  \nYou can insert more cells or delete cells using functions in the menus above.  "
    },
    {
      "metadata": {
        "trusted": true
      },
      "cell_type": "code",
      "source": "print(\"Welcome to Introduction to Python\")",
      "execution_count": null,
      "outputs": []
    },
    {
      "metadata": {},
      "cell_type": "markdown",
      "source": "Have a go at printing your own string here.  \nWrite your code below then hold shift and press return.  "
    },
    {
      "metadata": {
        "trusted": true
      },
      "cell_type": "code",
      "source": "",
      "execution_count": null,
      "outputs": []
    },
    {
      "metadata": {},
      "cell_type": "markdown",
      "source": "You can assign a string to a variable and print the variable"
    },
    {
      "metadata": {
        "trusted": true
      },
      "cell_type": "code",
      "source": "# You can assign a string to a variable and print the variable\na = \"This is the first half of a sentence, \"\nb = \"and this is its second half\"\nprint(a)\nprint(a + b)",
      "execution_count": null,
      "outputs": []
    },
    {
      "metadata": {},
      "cell_type": "markdown",
      "source": "Assign the string \"Empowering every person and every organisation on the planet to achieve more\" to the variable `mission`, then print this variable"
    },
    {
      "metadata": {
        "trusted": true
      },
      "cell_type": "code",
      "source": "mission = \nprint(mission)",
      "execution_count": null,
      "outputs": []
    },
    {
      "metadata": {},
      "cell_type": "markdown",
      "source": "Assign variables `a` and `b` to integers of your choice, then add them together and print the results"
    },
    {
      "metadata": {
        "trusted": true
      },
      "cell_type": "code",
      "source": "a =\nb =\n\n",
      "execution_count": null,
      "outputs": []
    },
    {
      "metadata": {},
      "cell_type": "markdown",
      "source": "Now subtract b from a, and print the result"
    },
    {
      "metadata": {
        "trusted": true
      },
      "cell_type": "code",
      "source": "",
      "execution_count": null,
      "outputs": []
    },
    {
      "metadata": {},
      "cell_type": "markdown",
      "source": "Now print a multiplied by b"
    },
    {
      "metadata": {
        "trusted": true
      },
      "cell_type": "code",
      "source": "",
      "execution_count": null,
      "outputs": []
    },
    {
      "metadata": {},
      "cell_type": "markdown",
      "source": "Now print a divided by b"
    },
    {
      "metadata": {
        "trusted": true
      },
      "cell_type": "code",
      "source": "",
      "execution_count": null,
      "outputs": []
    },
    {
      "metadata": {},
      "cell_type": "markdown",
      "source": "Print the remainder of a divided by b"
    },
    {
      "metadata": {
        "trusted": true
      },
      "cell_type": "code",
      "source": "",
      "execution_count": null,
      "outputs": []
    },
    {
      "metadata": {},
      "cell_type": "markdown",
      "source": "Print a squared plus b to the power of 3"
    },
    {
      "metadata": {
        "trusted": true
      },
      "cell_type": "code",
      "source": "",
      "execution_count": null,
      "outputs": []
    },
    {
      "metadata": {},
      "cell_type": "markdown",
      "source": "Run the cell below:"
    },
    {
      "metadata": {
        "trusted": true
      },
      "cell_type": "code",
      "source": "# This is an unformatted string\nmy_str = \"I have {} apples and {} pears\"\n\n# We can format it as follows\napples = 5\npears = 4\n\nprint(my_str.format(apples, pears))",
      "execution_count": null,
      "outputs": []
    },
    {
      "metadata": {},
      "cell_type": "markdown",
      "source": "Now try it for yourself, define your own unformatted string and format it using the format function"
    },
    {
      "metadata": {
        "trusted": true
      },
      "cell_type": "code",
      "source": "# Now define your own unformatted string and format it using the format function\n",
      "execution_count": null,
      "outputs": []
    },
    {
      "metadata": {},
      "cell_type": "markdown",
      "source": "You can re-assign a variable, and even change its type.  \nRun this cell and follow what is happening on each line."
    },
    {
      "metadata": {
        "trusted": true
      },
      "cell_type": "code",
      "source": "x = 5\nprint(x)\nx = x + 4\nprint(x)\ny = 12\nx = y + 10\nprint(x)\nx = \"X is now a string\"\nprint(x)",
      "execution_count": null,
      "outputs": []
    },
    {
      "metadata": {},
      "cell_type": "markdown",
      "source": "This is an example of a list.  \nUsing integer indexing print crackle from this list:"
    },
    {
      "metadata": {
        "trusted": true
      },
      "cell_type": "code",
      "source": "example_list = [\"Snap\", \"Crackle\", \"Pop\"]\n\n",
      "execution_count": null,
      "outputs": []
    },
    {
      "metadata": {},
      "cell_type": "markdown",
      "source": "Create your own list of 6 different items and set it to the variable `my_list`.  \nHave a go at printing the first item."
    },
    {
      "metadata": {
        "trusted": true
      },
      "cell_type": "code",
      "source": "my_list = ",
      "execution_count": null,
      "outputs": []
    },
    {
      "metadata": {},
      "cell_type": "markdown",
      "source": "Now print the last item of the list (without using the number 5)"
    },
    {
      "metadata": {
        "trusted": true
      },
      "cell_type": "code",
      "source": "",
      "execution_count": null,
      "outputs": []
    },
    {
      "metadata": {},
      "cell_type": "markdown",
      "source": "In one line of code, print the 2nd, 3rd and 4th items from your list."
    },
    {
      "metadata": {
        "trusted": true
      },
      "cell_type": "code",
      "source": "",
      "execution_count": null,
      "outputs": []
    },
    {
      "metadata": {},
      "cell_type": "markdown",
      "source": "Now print all the items in the list from the 3rd item onwards"
    },
    {
      "metadata": {
        "trusted": true
      },
      "cell_type": "code",
      "source": "",
      "execution_count": null,
      "outputs": []
    },
    {
      "metadata": {},
      "cell_type": "markdown",
      "source": "What do you get if you add the 2nd number in the list_of_numbers below to the 4th Number?"
    },
    {
      "metadata": {
        "trusted": true
      },
      "cell_type": "code",
      "source": "list_of_numbers = [4, 2.5, 7, 19, 12, 1, 0, 22]",
      "execution_count": null,
      "outputs": []
    },
    {
      "metadata": {
        "collapsed": true
      },
      "cell_type": "markdown",
      "source": "What do you get if you divide the 5th number in the `list_of_numbers` by the 1st number?"
    },
    {
      "metadata": {
        "trusted": true
      },
      "cell_type": "code",
      "source": "",
      "execution_count": null,
      "outputs": []
    },
    {
      "metadata": {},
      "cell_type": "markdown",
      "source": "What do you get if you raise the last number in the `list_of_numbers` by the penultimate number?"
    },
    {
      "metadata": {
        "trusted": true
      },
      "cell_type": "code",
      "source": "",
      "execution_count": null,
      "outputs": []
    },
    {
      "metadata": {},
      "cell_type": "markdown",
      "source": "Assign the example dict below to the variable `microsoft`"
    },
    {
      "metadata": {
        "trusted": true
      },
      "cell_type": "code",
      "source": "microsoft = { \n    \"Name\": \"Microsoft\",\n    \"Employees\": 134944,\n    \"Revenue_2018_USD_bns\": 110.36,\n    \"Founders\": [\"Bill Gates\", \"Paul Allen\"],\n    \"HQ\": \"Redmond, Washington, Seattle, USA\",\n    \"Founding_Year\": 1975,\n    \"Products\": [\"Azure\", \"Windows\", \"Surface\", \"Xbox\"]\n}",
      "execution_count": null,
      "outputs": []
    },
    {
      "metadata": {},
      "cell_type": "markdown",
      "source": "If $1 is €0.88, print out what Microsoft's revenue is in Euros."
    },
    {
      "metadata": {
        "trusted": true
      },
      "cell_type": "code",
      "source": "",
      "execution_count": null,
      "outputs": []
    },
    {
      "metadata": {},
      "cell_type": "markdown",
      "source": "How many years old is Microsoft?"
    },
    {
      "metadata": {
        "trusted": true
      },
      "cell_type": "code",
      "source": "",
      "execution_count": null,
      "outputs": []
    },
    {
      "metadata": {},
      "cell_type": "markdown",
      "source": "Have a go at defining your own dict and select some values from it"
    },
    {
      "metadata": {
        "trusted": true
      },
      "cell_type": "code",
      "source": "",
      "execution_count": null,
      "outputs": []
    },
    {
      "metadata": {},
      "cell_type": "markdown",
      "source": "## Section 2 - Functions"
    },
    {
      "metadata": {},
      "cell_type": "markdown",
      "source": "Defining functions, remember that python is indentation-significant.  \nThis function takes two numbers as parameters, adds them together and prints the result.  "
    },
    {
      "metadata": {
        "trusted": true
      },
      "cell_type": "code",
      "source": "def add_numbers(x1, x2):\n    y = x1 + x2\n    print(y)",
      "execution_count": null,
      "outputs": []
    },
    {
      "metadata": {
        "trusted": true
      },
      "cell_type": "code",
      "source": "# try calling the function\nadd_numbers(10, 15)",
      "execution_count": null,
      "outputs": []
    },
    {
      "metadata": {
        "trusted": true
      },
      "cell_type": "code",
      "source": "# Choose some numbers and call the function yourself\nadd_numbers()",
      "execution_count": null,
      "outputs": []
    },
    {
      "metadata": {},
      "cell_type": "markdown",
      "source": "Call the function below with your own name as the parameter"
    },
    {
      "metadata": {
        "trusted": true
      },
      "cell_type": "code",
      "source": "def happy_birthday(name):\n    print(\"Happy Birthday to you\")\n    print(\"Happy Birthday to you\")\n    print(\"Happy Birthday dear \" + name)\n    print(\"Happy Birthday to you\")\n\n",
      "execution_count": null,
      "outputs": []
    },
    {
      "metadata": {},
      "cell_type": "markdown",
      "source": "Have a go at defining a function that multiplies two numbers together, adds 5, and prints the result.  \nThen call it with some numbers to test it out."
    },
    {
      "metadata": {
        "trusted": true
      },
      "cell_type": "code",
      "source": "",
      "execution_count": null,
      "outputs": []
    },
    {
      "metadata": {},
      "cell_type": "markdown",
      "source": "#### Logical Operators\n\nThe following statement should evaluate to True, run this cell to make sure:"
    },
    {
      "metadata": {
        "trusted": true
      },
      "cell_type": "code",
      "source": "print(1 + 2 == 3)",
      "execution_count": null,
      "outputs": []
    },
    {
      "metadata": {},
      "cell_type": "markdown",
      "source": "The following statement should evaluate to False, run this cell to make sure:"
    },
    {
      "metadata": {
        "trusted": true
      },
      "cell_type": "code",
      "source": "print(1 + 2 == 5)",
      "execution_count": null,
      "outputs": []
    },
    {
      "metadata": {},
      "cell_type": "markdown",
      "source": "Have a go at writing statements that evaluate to True.  \nFill in the right hand and left hand sides of these statements so that they evaluate to True:"
    },
    {
      "metadata": {
        "trusted": true
      },
      "cell_type": "code",
      "source": "print( == )\nprint( != )\nprint( < )\nprint( > )\nprint( >= )\nprint( <= )",
      "execution_count": null,
      "outputs": []
    },
    {
      "metadata": {},
      "cell_type": "markdown",
      "source": "Have a go at writing statements that evaluate to False.  \nFill in the right hand and left hand sides of these statements so that they evaluate to False:"
    },
    {
      "metadata": {
        "trusted": true
      },
      "cell_type": "code",
      "source": "print( == )\nprint( != )\nprint( < )\nprint( > )\nprint( >= )\nprint( <= )",
      "execution_count": null,
      "outputs": []
    },
    {
      "metadata": {},
      "cell_type": "markdown",
      "source": "Choose a number:"
    },
    {
      "metadata": {
        "trusted": true
      },
      "cell_type": "code",
      "source": "num = ",
      "execution_count": null,
      "outputs": []
    },
    {
      "metadata": {},
      "cell_type": "markdown",
      "source": "Run this cell to describe your number"
    },
    {
      "metadata": {
        "trusted": true
      },
      "cell_type": "code",
      "source": "if num < 0:\n    print(\"{} is negative\".format(num))\nelif num > 0:\n    print(\"{} is positive\".format(num))\nelse:\n    print(\"{} is zero\".format(num))\n\nif num != 5:\n    print(\"{} is not five\".format(num))\nelse:\n    print(\"{} is five\".format(num))",
      "execution_count": null,
      "outputs": []
    },
    {
      "metadata": {},
      "cell_type": "markdown",
      "source": "Have a go at defining your own if/elif/else clauses to describe `num`"
    },
    {
      "metadata": {
        "trusted": true
      },
      "cell_type": "code",
      "source": "",
      "execution_count": null,
      "outputs": []
    },
    {
      "metadata": {},
      "cell_type": "markdown",
      "source": "Choose a type of swallow out of `\"European\"` or `\"African\"`, then call the function below with that type to find its unladen air speed velocity"
    },
    {
      "metadata": {
        "trusted": true
      },
      "cell_type": "code",
      "source": "def swallow_velocity(type):\n    if type == \"European\":\n        print(\"12 m/s\")\n    elif type == \"African\":\n        print(\"10 m/s\")\n    else:\n        print(\"I don't know that type of swallow\")\n\n",
      "execution_count": null,
      "outputs": []
    },
    {
      "metadata": {},
      "cell_type": "markdown",
      "source": "Fill in the function below.  \nDo some error checking to make sure the number passed isn't negative.  \nThen print the square root of the number.  \n_Hint: Square root of a number is the number raised to the power of 0.5_  "
    },
    {
      "metadata": {
        "trusted": true
      },
      "cell_type": "code",
      "source": "def print_square_root(x):\n    ",
      "execution_count": null,
      "outputs": []
    },
    {
      "metadata": {},
      "cell_type": "markdown",
      "source": "Using your function, check the square root of 41370624"
    },
    {
      "metadata": {
        "trusted": true
      },
      "cell_type": "code",
      "source": "",
      "execution_count": null,
      "outputs": []
    },
    {
      "metadata": {},
      "cell_type": "markdown",
      "source": "We can chain logical operators together using \"and\".  \nDefine a new variable `num` with a float or integer.  \nTry running this cell to describe `num`.  "
    },
    {
      "metadata": {
        "trusted": true
      },
      "cell_type": "code",
      "source": "num = \n\nif (num % 2 == 0) and (num % 3 == 0):\n    print(\"{} is divisible by six\".format(num))\nelse:\n    print(\"{} is not divisible by six\".format(num))\n\nif isinstance(num, int) and (num > 0) and (num < 10):\n    print(\"{} is a positive single digit\".format(num))",
      "execution_count": null,
      "outputs": []
    },
    {
      "metadata": {},
      "cell_type": "markdown",
      "source": "We can also chain logical operators together using \"or\".  \nChoose a halogen.  \nThen run this cell to print the state of the halogen at room temperature.  "
    },
    {
      "metadata": {
        "trusted": true
      },
      "cell_type": "code",
      "source": "halogen = \n\nif halogen == \"chlorine\" or halogen == \"fluorine\":\n    state = \"gas\"\nelif halogen == \"iodine\" or halogen == \"astatine\":\n    state = \"solid\"\nelif halogen == \"bromine\":\n    state = \"liquid\"\nelse:\n    state = None\n\nif state is not None:\n    print(\"{} is a {} at room temperature\".format(halogen, state))\nelse:\n    print(\"{} is not a halogen\".format(halogen))",
      "execution_count": null,
      "outputs": []
    },
    {
      "metadata": {},
      "cell_type": "markdown",
      "source": "Now have a go at this yourself!   \nDefine a variable and test it out with   \nyour own \"or\" and \"and\" conditional statements  "
    },
    {
      "metadata": {
        "trusted": true
      },
      "cell_type": "code",
      "source": "",
      "execution_count": null,
      "outputs": []
    },
    {
      "metadata": {},
      "cell_type": "markdown",
      "source": "You can check whether something is in a string or a list, or if a key is in a dict, using the `in` keyword.  \nTry this out by running the three cells below."
    },
    {
      "metadata": {
        "trusted": true
      },
      "cell_type": "code",
      "source": "# String\nstring_1 = \"Ni\"\nstring_2 = \"We are the knights who say 'Ni!'\"\n\nif string_1 in string_2:\n    print(\"String 1 is a substring of String 2\")\nelse:\n    print(\"String 1 is not a substring of String 2\")",
      "execution_count": null,
      "outputs": []
    },
    {
      "metadata": {
        "trusted": true
      },
      "cell_type": "code",
      "source": "# List\nmost_common_pets = ['dog', 'cat', 'hamster', 'fish', 'mouse', 'guinea pig', 'bird', 'lizard', 'snake']\n\n# Fill in this variable with your pet\nmy_pet = ''\n\nif my_pet in most_common_pets:\n    print(\"Your {} is a regular pet\".format(my_pet))\nelif my_pet == '':\n    print(\"You don't have a pet\")\nelse:\n    print(\"Your {} is an odd pet\".format(my_pet))",
      "execution_count": null,
      "outputs": []
    },
    {
      "metadata": {
        "trusted": true
      },
      "cell_type": "code",
      "source": "# Dict\nstadia = {\n    'Arsenal': 'Emirates Stadium',\n    'Chelsea': 'Stamford Bridge',\n    'Everton': 'Goodison Park',\n    'Liverpool': 'Anfield',\n    'Manchester United': 'Old Trafford',\n    'Manchester City': 'Etihad Stadium'\n}\n\n# Fill in the variable with your favourite team\nmy_fave_team = ''\n\nif my_fave_team in stadia:\n    print(\"The stadium for {} is {}\".format(my_fave_team, stadia[my_fave_team]))\nelse:\n    print(\"Sorry I don't have the stadium for {}\".format(my_fave_team))",
      "execution_count": null,
      "outputs": []
    },
    {
      "metadata": {},
      "cell_type": "markdown",
      "source": "The `append()` method will append an item to a list.  \nDefine a function that will check if the item is in the list.  \nIf the item is not in the list, append it to the list.  \nThen print the list. Try this out with a few items.  "
    },
    {
      "metadata": {
        "trusted": true
      },
      "cell_type": "code",
      "source": "",
      "execution_count": null,
      "outputs": []
    },
    {
      "metadata": {},
      "cell_type": "markdown",
      "source": "## Section 3 - Loops"
    },
    {
      "metadata": {},
      "cell_type": "markdown",
      "source": "The range function will give you a list of numbers between two given numbers.  \nAssign integers to two variables `x` and `y`.  \nThen call range on these numbers to get the integers between x and y.  \nThen loop through this range and print each number between x and y.  "
    },
    {
      "metadata": {
        "trusted": true
      },
      "cell_type": "code",
      "source": "",
      "execution_count": null,
      "outputs": []
    },
    {
      "metadata": {},
      "cell_type": "markdown",
      "source": "Now loop through this range and print the square of each number between x and y"
    },
    {
      "metadata": {
        "trusted": true
      },
      "cell_type": "code",
      "source": "",
      "execution_count": null,
      "outputs": []
    },
    {
      "metadata": {},
      "cell_type": "markdown",
      "source": "You can loop through a list and run conditionals on each number."
    },
    {
      "metadata": {
        "trusted": true
      },
      "cell_type": "code",
      "source": "# You can loop through the list and run conditionals on each number\nfor missing_limbs in range(0, 5):\n    if missing_limbs == 0:\n        print(\"None Shall Pass\")\n    elif missing_limbs == 1:\n        print(\"Tis but a scratch\")\n    elif missing_limbs == 2:\n        print(\"It's just a flesh wound\")\n    elif missing_limbs == 3:\n        print(\"I'm Invincible\")\n    elif missing_limbs == 4:\n        print(\"All right, we'll call it a draw.\")",
      "execution_count": null,
      "outputs": []
    },
    {
      "metadata": {},
      "cell_type": "markdown",
      "source": "Assign two variables to integers, then have a go at looping through each integer between these numbers are exactly divisible by 4.   \n\nIf the number is divisible by 4, print out one quarter of this number."
    },
    {
      "metadata": {
        "trusted": true
      },
      "cell_type": "code",
      "source": "",
      "execution_count": null,
      "outputs": []
    },
    {
      "metadata": {},
      "cell_type": "markdown",
      "source": "You can iterate through a list and break when a requirement is met, run the cell below to see this in action."
    },
    {
      "metadata": {
        "trusted": true
      },
      "cell_type": "code",
      "source": "food_list = [\"Spaghetti\", \"Coconuts\", \"Spam\", \"Eggs\"]\n\nfor food in food_list:\n    if food == \"Spam\":\n        print(\"Yum, spam!\")\n        break\n    else:\n        print(\"I don't want \" + food + \", I want spam\")",
      "execution_count": null,
      "outputs": []
    },
    {
      "metadata": {},
      "cell_type": "markdown",
      "source": "If you iterate through a dict, you actually iterate through the keys in the dict."
    },
    {
      "metadata": {
        "trusted": true
      },
      "cell_type": "code",
      "source": "stock_prices = {'IBM': 131.80, 'MSFT': 105.66, 'CSCO': 45.26, 'AAPL': 152.21, 'HTHIY': 67.76}\nfor stock in stock_prices:\n    print(\"The price of {} is ${}\".format(stock, stock_prices[stock]))",
      "execution_count": null,
      "outputs": []
    },
    {
      "metadata": {},
      "cell_type": "markdown",
      "source": "Have a go at this yourself, define your own key-value pairs in a dict.  \nIterate through the keys and print the key and the value."
    },
    {
      "metadata": {
        "trusted": true
      },
      "cell_type": "code",
      "source": "",
      "execution_count": null,
      "outputs": []
    },
    {
      "metadata": {},
      "cell_type": "markdown",
      "source": "While loops allow you to iterate through until a condition is met.\nRun the cell below to see an example."
    },
    {
      "metadata": {
        "trusted": true
      },
      "cell_type": "code",
      "source": "a = 5\nb = 1\nwhile b < a:\n    print(\"{} is less than {}\".format(b, a))\n    b += 1\nprint(\"{} is not less than {}\".format(b, a))",
      "execution_count": null,
      "outputs": []
    },
    {
      "metadata": {},
      "cell_type": "markdown",
      "source": "Have a go at defining your own while loop.  \nDefine a string and try adding full stops to it until the length of the string is 20."
    },
    {
      "metadata": {
        "trusted": true
      },
      "cell_type": "code",
      "source": "",
      "execution_count": null,
      "outputs": []
    },
    {
      "metadata": {},
      "cell_type": "markdown",
      "source": "#### List comprehensions\n\nIf we have a list defined as follows:"
    },
    {
      "metadata": {
        "trusted": true
      },
      "cell_type": "code",
      "source": "my_list = [1, 4, 5, 7, 8, 10, 12, 15, 16, 20, 24, 28, 30, 35, 38]",
      "execution_count": null,
      "outputs": []
    },
    {
      "metadata": {},
      "cell_type": "markdown",
      "source": "Instead of doing the following:"
    },
    {
      "metadata": {
        "trusted": true
      },
      "cell_type": "code",
      "source": "odd_numbers_from_my_list = []\nfor i in my_list:\n    if i % 2 == 1:\n        odd_numbers_from_my_list.append(i)\n        \nodd_numbers_from_my_list",
      "execution_count": null,
      "outputs": []
    },
    {
      "metadata": {},
      "cell_type": "markdown",
      "source": "We can write:"
    },
    {
      "metadata": {
        "trusted": true
      },
      "cell_type": "code",
      "source": "odd_numbers_from_my_list = [i for i in my_list if i % 2 == 1]\n\nodd_numbers_from_my_list",
      "execution_count": null,
      "outputs": []
    },
    {
      "metadata": {},
      "cell_type": "markdown",
      "source": "Write a list comprehension that does the same as the following statement:"
    },
    {
      "metadata": {
        "trusted": true
      },
      "cell_type": "code",
      "source": "cubed_even_numbers = []\n\nfor i in my_list:\n    if i % 2 == 0:\n        cubed_even_numbers.append(i ** 3)\n\ncubed_even_numbers",
      "execution_count": null,
      "outputs": []
    },
    {
      "metadata": {
        "trusted": true
      },
      "cell_type": "code",
      "source": "# Write your list comprehension here:\n",
      "execution_count": null,
      "outputs": []
    },
    {
      "metadata": {},
      "cell_type": "markdown",
      "source": "## Section 4 - Exercises"
    },
    {
      "metadata": {},
      "cell_type": "markdown",
      "source": "__For each of the exercises below, carry out the instructions then try out your functions with the test cases given and make sure you don't get an assertion error__"
    },
    {
      "metadata": {},
      "cell_type": "markdown",
      "source": "Define a function `power` that takes two paramaters: `x` and `y`  \nReturn the value of the `x` to the power of `y`"
    },
    {
      "metadata": {
        "trusted": true
      },
      "cell_type": "code",
      "source": "# Write your function here\n",
      "execution_count": null,
      "outputs": []
    },
    {
      "metadata": {
        "trusted": true
      },
      "cell_type": "code",
      "source": "# Now test your function\ntest_1 = power(4, 5) == 1024\ntest_2 = power(6, 3) == 216\ntest_3 = power(10, 10) == 10000000000\ntest_4 = power(4, -0.5) == 0.5\ntest_5 = power(6561, 0.125) == 3\n\nif all([test_1, test_2, test_3, test_4, test_5]):\n    print(\"PASSED\")\nelse:\n    print(\"FAILED\")",
      "execution_count": null,
      "outputs": []
    },
    {
      "metadata": {},
      "cell_type": "markdown",
      "source": "Write a function `is_vowel` that takes a character (i.e. a string of length 1)  \nand returns `True` if it is a vowel or `False` otherwise"
    },
    {
      "metadata": {
        "trusted": true
      },
      "cell_type": "code",
      "source": "",
      "execution_count": null,
      "outputs": []
    },
    {
      "metadata": {
        "trusted": true
      },
      "cell_type": "code",
      "source": "test_1 = is_vowel('a')\ntest_2 = not is_vowel('q')\ntest_3 = is_vowel('e')\ntest_4 = not is_vowel('9')\ntest_5 = not is_vowel(';')\ntest_6 = is_vowel('u')\n\nif all([test_1, test_2, test_3, test_4, test_5, test_6]) and (test_1 is True):\n    print(\"PASSED\")\nelse:\n    print(\"FAILED\")",
      "execution_count": null,
      "outputs": []
    },
    {
      "metadata": {},
      "cell_type": "markdown",
      "source": "Define a function `volume_from_dimensions` that takes 3 parameters: length, width and depth in cm.  \nReturn the volume in litres  \n_Hint: 1 litre = 1dm<sup>3</sup>_"
    },
    {
      "metadata": {
        "trusted": true
      },
      "cell_type": "code",
      "source": "",
      "execution_count": null,
      "outputs": []
    },
    {
      "metadata": {
        "trusted": true
      },
      "cell_type": "code",
      "source": "test_1 = volume_from_dimensions(10, 5, 1) == 0.05\ntest_2 = volume_from_dimensions(15, 15, 15) == 3.375\ntest_3 = volume_from_dimensions(14, 0, 12) == 0\ntest_4 = volume_from_dimensions(100, 200, 300) == 6000\n\nif all([test_1, test_2, test_3, test_4]):\n    print(\"PASSED\")\nelse:\n    print(\"FAILED\")",
      "execution_count": null,
      "outputs": []
    },
    {
      "metadata": {},
      "cell_type": "markdown",
      "source": "Define a function `pythagoras` that takes 2 numerical parameters: length and width of a right-angled triangle  \nReturn the length of the hypotenuse"
    },
    {
      "metadata": {
        "trusted": true
      },
      "cell_type": "code",
      "source": "",
      "execution_count": null,
      "outputs": []
    },
    {
      "metadata": {
        "trusted": true
      },
      "cell_type": "code",
      "source": "test_1 = pythagoras(3, 4) == 5\ntest_2 = pythagoras(5, 12) == 13\ntest_3 = pythagoras(9, 40) == 41\ntest_4 = pythagoras(58, 840) == 842\ntest_5 = pythagoras(0, 10) == 10\n\nif all([test_1, test_2, test_3, test_4, test_5]):\n    print(\"PASSED\")\nelse:\n    print(\"FAILED\")",
      "execution_count": null,
      "outputs": []
    },
    {
      "metadata": {
        "collapsed": true
      },
      "cell_type": "markdown",
      "source": "Define a function `factorial` that takes 1 integer parameter: `x`  \nReturn x! (\"x factorial\")"
    },
    {
      "metadata": {
        "trusted": true
      },
      "cell_type": "code",
      "source": "",
      "execution_count": null,
      "outputs": []
    },
    {
      "metadata": {
        "trusted": true
      },
      "cell_type": "code",
      "source": "test_1 = factorial(4) == 24\ntest_2 = factorial(20) == 2432902008176640000\ntest_3 = factorial(0) == 1\ntest_4 = factorial(1) == 1\ntest_5 = factorial(5) == 120\n\nif all([test_1, test_2, test_3, test_4, test_5]):\n    print(\"PASSED\")\nelse:\n    print(\"FAILED\")",
      "execution_count": null,
      "outputs": []
    },
    {
      "metadata": {},
      "cell_type": "markdown",
      "source": "Define a function `compound_interest` that takes 3 parameters: \n* an amount saved\n* an annual interest rate\n* and a number of years  \n\nReturn the value of the savings to the nearest penny at the end of the period assuming the interest is paid once a year."
    },
    {
      "metadata": {
        "trusted": true
      },
      "cell_type": "code",
      "source": "",
      "execution_count": null,
      "outputs": []
    },
    {
      "metadata": {
        "trusted": true
      },
      "cell_type": "code",
      "source": "test_1 = compound_interest(20, 5, 15) == 41.58\ntest_2 = compound_interest(1000, 10, 10) == 2593.74\ntest_3 = compound_interest(75, 12, 15) == 410.52\ntest_4 = compound_interest(0, 12, 15) == 0\ntest_5 = compound_interest(10000, 1, 50) == 16446.32\n\nif all([test_1, test_2, test_3, test_4, test_5]):\n    print(\"PASSED\")\nelse:\n    print(\"FAILED\")",
      "execution_count": null,
      "outputs": []
    },
    {
      "metadata": {
        "collapsed": true
      },
      "cell_type": "markdown",
      "source": "Define a function `numbers_divisible_by_5` that takes two integer parameters and returns a list with all the numbers between these two numbers (inclusive) that are divisible by 5."
    },
    {
      "metadata": {
        "trusted": true
      },
      "cell_type": "code",
      "source": "",
      "execution_count": null,
      "outputs": []
    },
    {
      "metadata": {
        "trusted": true
      },
      "cell_type": "code",
      "source": "test_1 = numbers_divisible_by_5(4, 6) == [5]\ntest_2 = numbers_divisible_by_5(96, 123) == [100, 105, 110, 115, 120]\ntest_3 = numbers_divisible_by_5(95, 125) == [95, 100, 105, 110, 115, 120, 125]\ntest_4 = numbers_divisible_by_5(-3, 6) == [0, 5]\ntest_5 = numbers_divisible_by_5(6, 9) == []\n\nif all([test_1, test_2, test_3, test_4, test_5]):\n    print(\"PASSED\")\nelse:\n    print(\"FAILED\")",
      "execution_count": null,
      "outputs": []
    },
    {
      "metadata": {},
      "cell_type": "markdown",
      "source": "Define a function `fibonacci` that takes 1 positive integer parameter.  \nReturn a list of the first n numbers in the fibonacci sequence"
    },
    {
      "metadata": {
        "trusted": true
      },
      "cell_type": "code",
      "source": "",
      "execution_count": null,
      "outputs": []
    },
    {
      "metadata": {
        "trusted": true
      },
      "cell_type": "code",
      "source": "test_1 = fibonacci(1) == [1]\ntest_2 = fibonacci(2) == [1, 1]\ntest_3 = fibonacci(3) == [1, 1, 2]\ntest_4 = fibonacci(7) == [1, 1, 2, 3, 5, 8, 13]\ntest_5 = fibonacci(20)[-1] == 6765\n\nif all([test_1, test_2, test_3, test_4, test_5]):\n    print(\"PASSED\")\nelse:\n    print(\"FAILED\")",
      "execution_count": null,
      "outputs": []
    },
    {
      "metadata": {
        "collapsed": true
      },
      "cell_type": "markdown",
      "source": "Define a function `max_in_list` that takes a list of numbers as a parameter.  \nReturn the highest number in the list, without using the max function."
    },
    {
      "metadata": {
        "trusted": true
      },
      "cell_type": "code",
      "source": "",
      "execution_count": null,
      "outputs": []
    },
    {
      "metadata": {
        "trusted": true
      },
      "cell_type": "code",
      "source": "test_1 = max_in_list([0, 3, 4, 323.12, 7, 9]) == 323.12\ntest_2 = max_in_list([0, 0, 0, 0, 0, 0]) == 0\ntest_3 = max_in_list([-5, -4, -3, -10, -20, -50]) == -3\ntest_4 = max_in_list([-5, -4, -3, 20, -20, 55]) == 55\ntest_5 = max_in_list([60, 60, 20, 20, 40, 40]) == 60\ntest_6 = max_in_list([]) == None\n\nif all([test_1, test_2, test_3, test_4, test_5, test_6]):\n    print(\"PASSED\")\nelse:\n    print(\"FAILED\")",
      "execution_count": null,
      "outputs": []
    },
    {
      "metadata": {},
      "cell_type": "markdown",
      "source": "Write a function `lengths_of_words` that takes a string and returns a list of lengths of words in the list."
    },
    {
      "metadata": {
        "trusted": true
      },
      "cell_type": "code",
      "source": "",
      "execution_count": null,
      "outputs": []
    },
    {
      "metadata": {
        "trusted": true
      },
      "cell_type": "code",
      "source": "test_1 = lengths_of_words('My dog Spot') == [2, 3, 4]\ntest_2 = lengths_of_words('The quick brown fox jumps over the lazy dog') == [3, 5, 5, 3, 5, 4, 3, 4, 3]\ntest_3 = lengths_of_words('Antidisestablishmentarianism') == [28]\ntest_4 = lengths_of_words('') == [0]\ntest_5 = lengths_of_words('Nobody expects the Spanish Inquisition') == [6, 7, 3, 7, 11]\n\nif all([test_1, test_2, test_3, test_4, test_5]):\n    print(\"PASSED\")\nelse:\n    print(\"FAILED\")",
      "execution_count": null,
      "outputs": []
    },
    {
      "metadata": {},
      "cell_type": "markdown",
      "source": "_For more exercises, have a go at the exercises on Hacker Rank_"
    },
    {
      "metadata": {},
      "cell_type": "markdown",
      "source": "## Section 5 - Modules"
    },
    {
      "metadata": {},
      "cell_type": "markdown",
      "source": "You can import individual variables/functions/classes from a module into your namespace"
    },
    {
      "metadata": {
        "trusted": true
      },
      "cell_type": "code",
      "source": "from math import pi\nprint(pi)",
      "execution_count": null,
      "outputs": []
    },
    {
      "metadata": {},
      "cell_type": "markdown",
      "source": "Or you can import all variables from a module and call them using module.variable"
    },
    {
      "metadata": {
        "trusted": true
      },
      "cell_type": "code",
      "source": "import math\nprint(math.log10(10000))",
      "execution_count": null,
      "outputs": []
    },
    {
      "metadata": {},
      "cell_type": "markdown",
      "source": "Have a go at importing `cos` and `pi` from the math module\nPrint the cosine of pi"
    },
    {
      "metadata": {
        "trusted": true
      },
      "cell_type": "code",
      "source": "",
      "execution_count": null,
      "outputs": []
    },
    {
      "metadata": {},
      "cell_type": "markdown",
      "source": "The random module has a function randint which takes in two parameters, a lower integer and an upper integer and returns an integer between those two numbers (inclusive).\n\n\nUse the randint function to roll a six-sided die and a 10-sided die and add the results together"
    },
    {
      "metadata": {
        "trusted": true
      },
      "cell_type": "code",
      "source": "",
      "execution_count": null,
      "outputs": []
    },
    {
      "metadata": {},
      "cell_type": "markdown",
      "source": "## Section 6 - Dates and Times"
    },
    {
      "metadata": {},
      "cell_type": "markdown",
      "source": "Import the `datetime` module and use a `date` and `timedelta`  \nto work out what the date is 10,000 days after you were born.  \nIs this date in the future or the past?"
    },
    {
      "metadata": {
        "trusted": true
      },
      "cell_type": "code",
      "source": "",
      "execution_count": null,
      "outputs": []
    },
    {
      "metadata": {},
      "cell_type": "markdown",
      "source": "Use `datetime.datetime.strptime` to convert these strings into datetime  \n_Hint: If you need help, visit strftime.org_"
    },
    {
      "metadata": {
        "trusted": true
      },
      "cell_type": "code",
      "source": "date_1_str = '2017-12-25 04:00'\n",
      "execution_count": null,
      "outputs": []
    },
    {
      "metadata": {
        "trusted": true
      },
      "cell_type": "code",
      "source": "date_2_str = '2017-01-01 01:00:00'\n",
      "execution_count": null,
      "outputs": []
    },
    {
      "metadata": {
        "trusted": true
      },
      "cell_type": "code",
      "source": "date_3_str = '23/04/2012 03:04:24'\n",
      "execution_count": null,
      "outputs": []
    },
    {
      "metadata": {
        "trusted": true
      },
      "cell_type": "code",
      "source": "date_4_str = '12/31/14 13:34'\n",
      "execution_count": null,
      "outputs": []
    },
    {
      "metadata": {
        "trusted": true
      },
      "cell_type": "code",
      "source": "date_5_str = '2015-10-01T10:03:10'\n",
      "execution_count": null,
      "outputs": []
    },
    {
      "metadata": {},
      "cell_type": "markdown",
      "source": "Convert the date in the cell below into the string formats below  \n_Hint: If you need help, visit strftime.org_"
    },
    {
      "metadata": {
        "trusted": true
      },
      "cell_type": "code",
      "source": "my_dt = datetime.datetime(2010, 4, 5, 17, 11, 54)",
      "execution_count": null,
      "outputs": []
    },
    {
      "metadata": {
        "trusted": true
      },
      "cell_type": "code",
      "source": "# \"2010/04/05 17:11:54\"\n",
      "execution_count": null,
      "outputs": []
    },
    {
      "metadata": {
        "trusted": true
      },
      "cell_type": "code",
      "source": "# \"17:11:54 on 5 April 2010\"\n",
      "execution_count": null,
      "outputs": []
    },
    {
      "metadata": {
        "trusted": true
      },
      "cell_type": "code",
      "source": "# \"2010-04-05T17:11:54\n",
      "execution_count": null,
      "outputs": []
    },
    {
      "metadata": {
        "trusted": true
      },
      "cell_type": "code",
      "source": "# \"5:11:54 PM\"\n",
      "execution_count": null,
      "outputs": []
    },
    {
      "metadata": {
        "trusted": true
      },
      "cell_type": "code",
      "source": "# \"Monday\"\n",
      "execution_count": null,
      "outputs": []
    },
    {
      "metadata": {
        "collapsed": true
      },
      "cell_type": "markdown",
      "source": "Now have a go at converting this string from  \n`\"1989-11-09 19:17:00\"`  \nTo \"17 minutes past 7 on November 9, 1989\"  "
    },
    {
      "metadata": {
        "trusted": true
      },
      "cell_type": "code",
      "source": "",
      "execution_count": null,
      "outputs": []
    },
    {
      "metadata": {},
      "cell_type": "markdown",
      "source": "The `datetime.datetime` class has a method `utcnow()`, use it to show you the time now in UTC"
    },
    {
      "metadata": {
        "trusted": true
      },
      "cell_type": "code",
      "source": "",
      "execution_count": null,
      "outputs": []
    },
    {
      "metadata": {},
      "cell_type": "markdown",
      "source": "Assign the current date to a variable named `today`.  \nLinkedIn was acquired by Microsoft on 8th December 2016.  \nHow many days has it been?"
    },
    {
      "metadata": {
        "trusted": true
      },
      "cell_type": "code",
      "source": "# Note the output will be different depending on the date you do this\n",
      "execution_count": null,
      "outputs": []
    },
    {
      "metadata": {},
      "cell_type": "markdown",
      "source": "How many seconds are there between 04:05:12 on 17/09/2014 and 17:32:15 on 17/09/2018  \nHow many hours is this?  \nHow many days?  "
    },
    {
      "metadata": {
        "trusted": true
      },
      "cell_type": "code",
      "source": "",
      "execution_count": null,
      "outputs": []
    },
    {
      "metadata": {},
      "cell_type": "markdown",
      "source": "#### Talking Clock\n\nWe're going to write a `talking_clock` function!  \nWrite a function that takes no parameters  \nThis function should calculate what the time will be in 3 seconds  \nPrint \"At the beep, the time will be 12:04 and 34 seconds\" (But with what the time will be in 3 seconds)  \nThen wait for 3 seconds  \nThen print \"Beep!\"  \n_Hint: To wait in python, you will need to import the time module and use `time.sleep(<seconds>)`_  "
    },
    {
      "metadata": {
        "trusted": true
      },
      "cell_type": "code",
      "source": "# Write your talking clock function here\n",
      "execution_count": null,
      "outputs": []
    },
    {
      "metadata": {
        "trusted": true
      },
      "cell_type": "code",
      "source": "# Call your talking clock function here\ntalking_clock()",
      "execution_count": null,
      "outputs": []
    }
  ],
  "metadata": {
    "kernelspec": {
      "name": "python2",
      "display_name": "Python 2",
      "language": "python"
    },
    "language_info": {
      "mimetype": "text/x-python",
      "nbconvert_exporter": "python",
      "name": "python",
      "pygments_lexer": "ipython2",
      "version": "2.7.15",
      "file_extension": ".py",
      "codemirror_mode": {
        "version": 2,
        "name": "ipython"
      }
    }
  },
  "nbformat": 4,
  "nbformat_minor": 1
}