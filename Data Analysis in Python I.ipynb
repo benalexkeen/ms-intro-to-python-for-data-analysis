{
 "cells": [
  {
   "cell_type": "markdown",
   "metadata": {},
   "source": [
    "# Pandas and NumPy"
   ]
  },
  {
   "cell_type": "markdown",
   "metadata": {},
   "source": [
    "## Section 1 - NumPy: Arrays and Matrices\n",
    "\n",
    "We'll start by importing the packages we'll be using in this section"
   ]
  },
  {
   "cell_type": "code",
   "execution_count": null,
   "metadata": {
    "collapsed": true
   },
   "outputs": [],
   "source": [
    "import numpy as np\n",
    "import pandas as pd"
   ]
  },
  {
   "cell_type": "markdown",
   "metadata": {},
   "source": [
    "Create two 1D numpy arrays (`np.array([])` as follows and take one away from the other, do you get the same answer as shown below:\n",
    "\n",
    "$$\n",
    "\\begin{bmatrix} -1 \\\\ 12 \\\\ 14 \\\\ 2 \\end{bmatrix} - \\begin{bmatrix} 10 \\\\ 3 \\\\ 0 \\\\ 2\\end{bmatrix} = \n",
    "\\begin{bmatrix} -11 \\\\ 9 \\\\ 14 \\\\ 0\\end{bmatrix}\n",
    "$$"
   ]
  },
  {
   "cell_type": "code",
   "execution_count": null,
   "metadata": {
    "collapsed": true
   },
   "outputs": [],
   "source": []
  },
  {
   "cell_type": "markdown",
   "metadata": {},
   "source": [
    "Now try multiplying the first array by a scalar, do you get the following results:\n",
    "\n",
    "$$\n",
    "\\begin{bmatrix} -1 \\\\ 12 \\\\ 14 \\\\ 2 \\end{bmatrix} * 4 = \n",
    "\\begin{bmatrix} -4 \\\\ 48 \\\\ 56 \\\\ 8\\end{bmatrix}\n",
    "$$"
   ]
  },
  {
   "cell_type": "code",
   "execution_count": null,
   "metadata": {
    "collapsed": true
   },
   "outputs": [],
   "source": []
  },
  {
   "cell_type": "markdown",
   "metadata": {},
   "source": [
    "Carry out an element-wise multiplication on the following matrices and check you get same answer as below:\n",
    "$$\n",
    "\\begin{bmatrix} -1 & 2 \\\\ 3 & -4 \\end{bmatrix} * \\begin{bmatrix} 13 & 25 \\\\ 16 & -4 \\end{bmatrix} = \n",
    "\\begin{bmatrix} -13 & 50 \\\\ 48 & 16\\end{bmatrix}\n",
    "$$"
   ]
  },
  {
   "cell_type": "code",
   "execution_count": null,
   "metadata": {
    "collapsed": true
   },
   "outputs": [],
   "source": []
  },
  {
   "cell_type": "markdown",
   "metadata": {},
   "source": [
    "Create a 3x3 matrix with numbers of your choice and carry out a dot product (`np.dot(m1, m2)`) with the matrix below:  \n",
    "\n",
    "$\\begin{bmatrix} 2 & 0 & 0 \\\\ 0 & 2 & 0 \\\\ 0 & 0 & 2 \\end{bmatrix}$  \n",
    "\n",
    "How does the first matrix relate to the dot product?"
   ]
  },
  {
   "cell_type": "code",
   "execution_count": null,
   "metadata": {
    "collapsed": true
   },
   "outputs": [],
   "source": []
  },
  {
   "cell_type": "markdown",
   "metadata": {},
   "source": [
    "Now that we're comfortable with Vectors and Matrices, we'll get started with pandas"
   ]
  },
  {
   "cell_type": "markdown",
   "metadata": {},
   "source": [
    "## Section 2 -  pandas: Series and Data Frames"
   ]
  },
  {
   "cell_type": "markdown",
   "metadata": {},
   "source": [
    "Series will carry out vector arithmetic aligned on their indices.  \n",
    "\n",
    "Run the cell below and see how the two Series are added together, not by the order they are in but by their indices."
   ]
  },
  {
   "cell_type": "code",
   "execution_count": null,
   "metadata": {
    "collapsed": true
   },
   "outputs": [],
   "source": [
    "s1 = pd.Series([1, 2, 3, 4], index=['a', 'b', 'c', 'd'])\n",
    "s2 = pd.Series([10, 20, 30, 40], index=['c', 'd', 'b', 'a'])\n",
    "print(s1)\n",
    "print(s2)\n",
    "print(s1 + s2)"
   ]
  },
  {
   "cell_type": "markdown",
   "metadata": {},
   "source": [
    "Have a go at this yourself, create two Series:\n",
    "\n",
    "* one with the values [5, 10, 15, 20] \n",
    "* one with values [0.1, 1, 10, 100]  \n",
    "\n",
    "and assign the indices such that when you multiply the two Series together, the resulting Series' values are [50, 1000, 1.5, 20]."
   ]
  },
  {
   "cell_type": "code",
   "execution_count": null,
   "metadata": {
    "collapsed": true
   },
   "outputs": [],
   "source": []
  },
  {
   "cell_type": "markdown",
   "metadata": {},
   "source": [
    "Run the cell below to assign the Series to s3 and print the result"
   ]
  },
  {
   "cell_type": "code",
   "execution_count": null,
   "metadata": {
    "collapsed": true
   },
   "outputs": [],
   "source": [
    "s3_index = ['alpha', 'beta', 'gamma', 'delta', 'epsilon', 'zeta', 'eta', 'theta', 'iota', 'kappa']\n",
    "s3 = pd.Series([1, 14, 5, 12, 9, 52, 40, 100, 15, 37], index=s3_index)\n",
    "print(s3)"
   ]
  },
  {
   "cell_type": "markdown",
   "metadata": {},
   "source": [
    "Using a list of index names, select the values 12, 52, 15 and 37"
   ]
  },
  {
   "cell_type": "code",
   "execution_count": null,
   "metadata": {
    "collapsed": true
   },
   "outputs": [],
   "source": []
  },
  {
   "cell_type": "markdown",
   "metadata": {},
   "source": [
    "Using a list of booleans, select values with the labels `delta`, `epsilon`, `zeta` and `iota`"
   ]
  },
  {
   "cell_type": "code",
   "execution_count": null,
   "metadata": {
    "collapsed": true
   },
   "outputs": [],
   "source": []
  },
  {
   "cell_type": "markdown",
   "metadata": {},
   "source": [
    "Using a comparison statement, select all the values that are less than 10"
   ]
  },
  {
   "cell_type": "code",
   "execution_count": null,
   "metadata": {
    "collapsed": true
   },
   "outputs": [],
   "source": []
  },
  {
   "cell_type": "markdown",
   "metadata": {},
   "source": [
    "Using another comparison statement, select all values that are greater than the value of `'eta'`"
   ]
  },
  {
   "cell_type": "code",
   "execution_count": null,
   "metadata": {
    "collapsed": true
   },
   "outputs": [],
   "source": []
  },
  {
   "cell_type": "markdown",
   "metadata": {},
   "source": [
    "Using another comparison statement, select all the negative values"
   ]
  },
  {
   "cell_type": "code",
   "execution_count": null,
   "metadata": {
    "collapsed": true
   },
   "outputs": [],
   "source": []
  },
  {
   "cell_type": "markdown",
   "metadata": {},
   "source": [
    "Create your own Series using the notation `pd.Series(<array here>, index=<index here>)` and print your Series"
   ]
  },
  {
   "cell_type": "code",
   "execution_count": null,
   "metadata": {
    "collapsed": true
   },
   "outputs": [],
   "source": []
  },
  {
   "cell_type": "markdown",
   "metadata": {},
   "source": [
    "Now construct the same Series using a dict"
   ]
  },
  {
   "cell_type": "code",
   "execution_count": null,
   "metadata": {
    "collapsed": true
   },
   "outputs": [],
   "source": []
  },
  {
   "cell_type": "markdown",
   "metadata": {},
   "source": [
    "#### Manitoba Lakes Data Set\n",
    "The following data describes the 9 largest lakes in Manitoba, Canada, run this cell to see the Data Frame.\n",
    "\n",
    "The elevation is given in metres area is given in km<sup>2</sup>."
   ]
  },
  {
   "cell_type": "code",
   "execution_count": null,
   "metadata": {
    "collapsed": true
   },
   "outputs": [],
   "source": [
    "lakes = pd.DataFrame({\n",
    "    'elevation': [217, 254, 248, 254, 253, 227, 178, 207, 217],\n",
    "    'area': [24387, 5374, 4624, 2247, 1353, 1223, 1151, 755, 657]\n",
    "    }, index=['Winnipeg', 'Winnipegosis', 'Manitoba', 'SouthernIndian', 'Cedar', 'Island', 'Gods', 'Cross', 'Playgreen']\n",
    ")\n",
    "print(lakes)"
   ]
  },
  {
   "cell_type": "markdown",
   "metadata": {},
   "source": [
    "Print the elevation of Cedar Lake"
   ]
  },
  {
   "cell_type": "code",
   "execution_count": null,
   "metadata": {
    "collapsed": true
   },
   "outputs": [],
   "source": []
  },
  {
   "cell_type": "markdown",
   "metadata": {},
   "source": [
    "Select the data from the lakes whose area is greater than 1000 but less than 2000 km<sup>2</sup>"
   ]
  },
  {
   "cell_type": "code",
   "execution_count": null,
   "metadata": {
    "collapsed": true
   },
   "outputs": [],
   "source": []
  },
  {
   "cell_type": "markdown",
   "metadata": {},
   "source": [
    "How much bigger in km<sup>2</sup> is Lake Manitoba from the area of the Southern Indian Lake, Gods Lake and Cross Lake combined?"
   ]
  },
  {
   "cell_type": "code",
   "execution_count": null,
   "metadata": {
    "collapsed": true
   },
   "outputs": [],
   "source": []
  },
  {
   "cell_type": "markdown",
   "metadata": {},
   "source": [
    "Select from the `lakes` Data Frame just Lake Winnipegosis, Island Lake and Playgreen Lake"
   ]
  },
  {
   "cell_type": "code",
   "execution_count": null,
   "metadata": {
    "collapsed": true
   },
   "outputs": [],
   "source": []
  },
  {
   "cell_type": "markdown",
   "metadata": {},
   "source": [
    "It has been decided that Cross Lake is actually a pond, drop this lake from the Data Frame"
   ]
  },
  {
   "cell_type": "code",
   "execution_count": null,
   "metadata": {
    "collapsed": true
   },
   "outputs": [],
   "source": []
  },
  {
   "cell_type": "markdown",
   "metadata": {},
   "source": [
    "New statistics show that due to erosion, the size of Lake Manitoba is now 4750 km<sup>2</sup>.  \n",
    "Make this change in your Data Frame"
   ]
  },
  {
   "cell_type": "code",
   "execution_count": null,
   "metadata": {
    "collapsed": true
   },
   "outputs": [],
   "source": []
  },
  {
   "cell_type": "markdown",
   "metadata": {},
   "source": [
    "Thanks to some significant tectonic activity, Southern Indian Lake is now at an altitude of 265 m. Make this change in your Data Frame."
   ]
  },
  {
   "cell_type": "code",
   "execution_count": null,
   "metadata": {
    "collapsed": true
   },
   "outputs": [],
   "source": []
  },
  {
   "cell_type": "markdown",
   "metadata": {},
   "source": [
    "#### Sugar Data Set\n",
    "The following data set is the mg weight of sugar from  3 different genetically modified sugar plant, as well as an unmodified (control; con) version of the plant."
   ]
  },
  {
   "cell_type": "code",
   "execution_count": null,
   "metadata": {
    "collapsed": true
   },
   "outputs": [],
   "source": [
    "sugar = pd.DataFrame({\n",
    "    'weight': [82, 97.8, 69.9, 58.3, 67.9, 59.3, 68.1, 70.8, 63.6, 50.7, 47.1, 48.9],\n",
    "    'treatments': ['con', 'con', 'con', 'A', 'A', 'A', 'B', 'B', 'B', 'C', 'C', 'C']\n",
    "})\n",
    "print(sugar)"
   ]
  },
  {
   "cell_type": "markdown",
   "metadata": {},
   "source": [
    "First we want to drill in to treatment `B`, select just the the plants that were genetically modified with alteration `B`"
   ]
  },
  {
   "cell_type": "code",
   "execution_count": null,
   "metadata": {
    "collapsed": true
   },
   "outputs": [],
   "source": []
  },
  {
   "cell_type": "markdown",
   "metadata": {},
   "source": [
    "We want to find the best performing plants, select just those plants from which more than 65 mg of sugar was extracted"
   ]
  },
  {
   "cell_type": "code",
   "execution_count": null,
   "metadata": {
    "collapsed": true
   },
   "outputs": [],
   "source": []
  },
  {
   "cell_type": "markdown",
   "metadata": {},
   "source": [
    "Now we want to compare group `C` to the control (`con`) group, select the plants whose treatment was in the control group or genetically modified with alteration `C`"
   ]
  },
  {
   "cell_type": "code",
   "execution_count": null,
   "metadata": {
    "collapsed": true
   },
   "outputs": [],
   "source": []
  },
  {
   "cell_type": "markdown",
   "metadata": {},
   "source": [
    "We would like to compare which of the alterations performed best, select all of the plants that are not in the control group"
   ]
  },
  {
   "cell_type": "code",
   "execution_count": null,
   "metadata": {
    "collapsed": true
   },
   "outputs": [],
   "source": []
  },
  {
   "cell_type": "markdown",
   "metadata": {},
   "source": [
    "#### London Terminal Stations\n",
    "\n",
    "The data set below describes 9 popular London Terminal stations. Run this cell.  "
   ]
  },
  {
   "cell_type": "code",
   "execution_count": null,
   "metadata": {
    "collapsed": true
   },
   "outputs": [],
   "source": [
    "stations = pd.DataFrame({\n",
    "    'Station': ['Waterloo', 'Victoria', 'Liverpool Street', 'London Bridge', 'Euston', 'Kings Cross', 'Charing Cross'],\n",
    "    'Opened': [1848, 1862, 1874, 1836, 1837, 1852, 1864],\n",
    "    'Passengers': [99148338, 81151418, 66556690,  53850938,  41677870, 33361696, 28998152],\n",
    "    'Operator': ['Network Rail', 'Network Rail', 'Network Rail', 'Network Rail', 'Network Rail', 'Network Rail', 'Network Rail'],\n",
    "    'Platforms': [22, 19, 18, 15, 18, 12, 6]\n",
    "    }\n",
    ")\n",
    "stations = stations.set_index('Station')\n",
    "print(stations)"
   ]
  },
  {
   "cell_type": "markdown",
   "metadata": {},
   "source": [
    "Use the `describe()` method for the `stations` Data Frame to describe the data"
   ]
  },
  {
   "cell_type": "code",
   "execution_count": null,
   "metadata": {
    "collapsed": true
   },
   "outputs": [],
   "source": []
  },
  {
   "cell_type": "markdown",
   "metadata": {},
   "source": [
    "What is the total annual passenger figure for stations in the data set that were opened before 1860?"
   ]
  },
  {
   "cell_type": "code",
   "execution_count": null,
   "metadata": {
    "collapsed": true
   },
   "outputs": [],
   "source": []
  },
  {
   "cell_type": "markdown",
   "metadata": {},
   "source": [
    "What is the average opening year for stations with more than 6 million passengers annually?"
   ]
  },
  {
   "cell_type": "code",
   "execution_count": null,
   "metadata": {
    "collapsed": true
   },
   "outputs": [],
   "source": []
  },
  {
   "cell_type": "markdown",
   "metadata": {},
   "source": [
    "Sort the Data Frame by the number of platforms each station has."
   ]
  },
  {
   "cell_type": "code",
   "execution_count": null,
   "metadata": {
    "collapsed": true
   },
   "outputs": [],
   "source": []
  },
  {
   "cell_type": "markdown",
   "metadata": {},
   "source": [
    "## Section 3 -  Vectorised Functions"
   ]
  },
  {
   "cell_type": "markdown",
   "metadata": {},
   "source": [
    "#### Energy of a Photon\n",
    "\n",
    "The Data Frame below gives the wavelengths of light in the visible spectrum"
   ]
  },
  {
   "cell_type": "code",
   "execution_count": null,
   "metadata": {
    "collapsed": true
   },
   "outputs": [],
   "source": [
    "light = pd.DataFrame([\n",
    "    {'colour': 'violet', 'wavelength': 400 * 10 ** -9},\n",
    "    {'colour': 'blue', 'wavelength': 450 * 10 ** -9},\n",
    "    {'colour': 'green', 'wavelength': 500 * 10 ** -9},\n",
    "    {'colour': 'yellow', 'wavelength': 580 * 10 ** -9},\n",
    "    {'colour': 'orange', 'wavelength': 600 * 10 ** -9},\n",
    "    {'colour': 'red', 'wavelength': 650 * 10 ** -9},\n",
    "])\n",
    "light = light.set_index('colour')\n",
    "print(light)"
   ]
  },
  {
   "cell_type": "markdown",
   "metadata": {},
   "source": [
    "Assign a new column \"`energy_of_photon`\" to the Data Frame that is the energy of a photon as calculated by:  \n",
    "\n",
    "$ E = \\dfrac{hc}{\\lambda} $  \n",
    "\n",
    "Where:  \n",
    "* E is the energy of a photon\n",
    "* h is the Planck constant\n",
    "* c is the speed of light\n",
    "* $ \\lambda $ is the wavelength\n",
    "\n",
    "The speed of light is approximately $3 \\times 10^9 m/s$ and the Plank constant is approximately $6.62 \\times 10^{-34} Js$"
   ]
  },
  {
   "cell_type": "code",
   "execution_count": null,
   "metadata": {
    "collapsed": true
   },
   "outputs": [],
   "source": []
  },
  {
   "cell_type": "markdown",
   "metadata": {},
   "source": [
    "It takes 4.18 Joules to heat 1 gram of water by 1 degree Celcius. \n",
    "\n",
    "How many photons of red light would be needed to heat 1 gram of water by 1 degree Celcius?"
   ]
  },
  {
   "cell_type": "code",
   "execution_count": null,
   "metadata": {
    "collapsed": true
   },
   "outputs": [],
   "source": []
  },
  {
   "cell_type": "markdown",
   "metadata": {},
   "source": [
    "#### FBI Crime Data Set\n",
    "The following cell provides FBI data on crime statistics in the USA over 25 years. Run the cell to see the DataFrame"
   ]
  },
  {
   "cell_type": "code",
   "execution_count": null,
   "metadata": {
    "collapsed": true
   },
   "outputs": [],
   "source": [
    "crime = pd.DataFrame([\n",
    "    {'Population': 262803276, 'Violent_Crimes': 1798792, 'Murders': 21606},\n",
    "    {'Population': 281421906, 'Violent_Crimes': 1425486, 'Murders': 15586},\n",
    "    {'Population': 296507061, 'Violent_Crimes': 1390745, 'Murders': 16740},\n",
    "    {'Population': 309330219, 'Violent_Crimes': 1251248, 'Murders': 14722},\n",
    "    {'Population': 321444981, 'Violent_Crimes': 1197704, 'Murders': 15696}\n",
    "], columns=['Population', 'Violent_Crimes', 'Murders'], index=[1995, 2000, 2005, 2010, 2015])\n",
    "print(crime)"
   ]
  },
  {
   "cell_type": "markdown",
   "metadata": {},
   "source": [
    "The number of murders went up slightly from 2000 to 2015, but what happened to the murder rate (murders per 100,000 population)?"
   ]
  },
  {
   "cell_type": "code",
   "execution_count": null,
   "metadata": {
    "collapsed": true
   },
   "outputs": [],
   "source": []
  },
  {
   "cell_type": "markdown",
   "metadata": {},
   "source": [
    "Print just the data for the years that the violent crime rate was between 400 and 500 violent crimes per 100,000 citizens"
   ]
  },
  {
   "cell_type": "code",
   "execution_count": null,
   "metadata": {
    "collapsed": true
   },
   "outputs": [],
   "source": []
  },
  {
   "cell_type": "markdown",
   "metadata": {},
   "source": [
    "#### Employee Salary Data Set (Mock)\n",
    "\n",
    "The following is mocked HR data for employees in a large corporation. The employees are assigned a tier based on how long they've been with the company and the level of their position.   \n",
    "\n",
    "Run the cell below to see the Data Frame."
   ]
  },
  {
   "cell_type": "code",
   "execution_count": null,
   "metadata": {
    "collapsed": true
   },
   "outputs": [],
   "source": [
    "employees = pd.DataFrame([\n",
    "    {\"name\": \"Peter Butler\", \"salary\": 87031, \"title\": \"Financial Analyst\", \"tier\": 3}, \n",
    "    {\"name\": \"Amanda Wood\", \"salary\": 80277, \"title\": \"Senior Sales Associate\", \"tier\": 1},\n",
    "    {\"name\": \"Stephanie Stanley\", \"salary\": 72947, \"title\": \"Senior Financial Analyst\", \"tier\": 4}, \n",
    "    {\"name\": \"Todd Rice\", \"salary\": 64779, \"title\": \"Web Developer I\", \"tier\": 2}, \n",
    "    {\"name\": \"Victor Dixon\", \"salary\": 24377, \"title\": \"Instructor\", \"tier\": 3}, \n",
    "    {\"name\": \"Charles Wood\", \"salary\": 79613, \"title\": \"Database Administrator I\", \"tier\": 2}, \n",
    "    {\"name\": \"Ryan Moreno\", \"salary\": 95183, \"title\": \"General Manager\", \"tier\": 1},\n",
    "    {\"name\": \"Edward Cook\", \"salary\": 17525, \"title\": \"Research Assistant III\", \"tier\": 3},\n",
    "    {\"name\": \"Amanda Stephens\", \"salary\": 69428, \"title\": \"General Manager\", \"tier\": 3}, \n",
    "    {\"name\": \"Joseph Green\", \"salary\": 38846, \"title\": \"Recruitment Specialist\", \"tier\": 2},\n",
    "    {\"name\": \"Stephen Morris\", \"salary\": 221440, \"title\": \"Automation Specialist I\", \"tier\": 1}\n",
    "])\n",
    "\n",
    "print(employees)"
   ]
  },
  {
   "cell_type": "markdown",
   "metadata": {},
   "source": [
    "The company is doing well and has decided that each employee will get a one-off bonus based on their salary and tier as follows:\n",
    "* Tier 1 employees get 10% of their salary, up to a maximum of £7500\n",
    "* Tier 2 employees get 7.5% of their salary, up to a maximum of £7500\n",
    "* Tier 3 employees get 5% of their salary, or £1500, whichever is greater\n",
    "* Tier 4 employees get 5% of their salary, or £1000, whichever is greater\n",
    "\n",
    "Write a function and apply the function to the Data Frame to calculate the bonuses for each employee"
   ]
  },
  {
   "cell_type": "code",
   "execution_count": null,
   "metadata": {
    "collapsed": true
   },
   "outputs": [],
   "source": []
  },
  {
   "cell_type": "markdown",
   "metadata": {},
   "source": [
    "Who has the highest bonus? and the lowest?"
   ]
  },
  {
   "cell_type": "code",
   "execution_count": null,
   "metadata": {
    "collapsed": true
   },
   "outputs": [],
   "source": []
  },
  {
   "cell_type": "markdown",
   "metadata": {},
   "source": [
    "#### Premier League 2015/16\n",
    "\n",
    "The data set below is the final league table of the Premier League for 2015/16, Leicester's famous league winning season.\n",
    "\n",
    "Run the cell below to see the league table"
   ]
  },
  {
   "cell_type": "code",
   "execution_count": null,
   "metadata": {
    "collapsed": true
   },
   "outputs": [],
   "source": [
    "prem = pd.DataFrame([\n",
    "    {'D': 9,'GA': 67, 'GF': 45, 'L': 18, 'Pld': 38, 'Team': 'AFC Bournemouth', 'W': 11}, \n",
    "    {'D': 11, 'GA': 36, 'GF': 65, 'L': 7, 'Pld': 38, 'Team': 'Arsenal', 'W': 20}, \n",
    "    {'D': 8, 'GA': 76, 'GF': 27, 'L': 27, 'Pld': 38, 'Team': 'Aston Villa', 'W': 3}, \n",
    "    {'D': 14, 'GA': 53, 'GF': 59, 'L': 12, 'Pld': 38, 'Team': 'Chelsea', 'W': 12}, \n",
    "    {'D': 9, 'GA': 51, 'GF': 39, 'L': 18, 'Pld': 38, 'Team': 'Crystal Palace', 'W': 11}, \n",
    "    {'D': 14, 'GA': 55, 'GF': 59, 'L': 13, 'Pld': 38, 'Team': 'Everton', 'W': 11}, \n",
    "    {'D': 12, 'GA': 36, 'GF': 68, 'L': 3, 'Pld': 38, 'Team': 'Leicester City', 'W': 23}, \n",
    "    {'D': 12, 'GA': 50, 'GF': 63, 'L': 10, 'Pld': 38, 'Team': 'Liverpool', 'W': 16}, \n",
    "    {'D': 9, 'GA': 41, 'GF': 71, 'L': 10, 'Pld': 38, 'Team': 'Manchester City', 'W': 19}, \n",
    "    {'D': 9, 'GA': 35, 'GF': 49, 'L': 10, 'Pld': 38, 'Team': 'Manchester United', 'W': 19}, \n",
    "    {'D': 10, 'GA': 65, 'GF': 44, 'L': 19, 'Pld': 38, 'Team': 'Newcastle United', 'W': 9}, \n",
    "    {'D': 7, 'GA': 67, 'GF': 39, 'L': 22, 'Pld': 38, 'Team': 'Norwich City', 'W': 9}, \n",
    "    {'D': 9, 'GA': 41, 'GF': 59, 'L': 11, 'Pld': 38, 'Team': 'Southampton', 'W': 18}, \n",
    "    {'D': 9, 'GA': 55, 'GF': 41, 'L': 15, 'Pld': 38, 'Team': 'Stoke City', 'W': 14}, \n",
    "    {'D': 12, 'GA': 62, 'GF': 48, 'L': 17, 'Pld': 38, 'Team': 'Sunderland', 'W': 9}, \n",
    "    {'D': 11, 'GA': 52, 'GF': 42, 'L': 15, 'Pld': 38, 'Team': 'Swansea City', 'W': 12}, \n",
    "    {'D': 13, 'GA': 35, 'GF': 69, 'L': 6, 'Pld': 38, 'Team': 'Tottenham Hotspur', 'W': 19}, \n",
    "    {'D': 9, 'GA': 50, 'GF': 40, 'L': 17, 'Pld': 38, 'Team': 'Watford', 'W': 12}, \n",
    "    {'D': 13, 'GA': 48, 'GF': 34, 'L': 15, 'Pld': 38, 'Team': 'West Bromwich Albion', 'W': 10}, \n",
    "    {'D': 14, 'GA': 51, 'GF': 65, 'L': 8, 'Pld': 38, 'Team': 'West Ham United', 'W': 16}\n",
    "], columns = ['Team', 'Pld', 'W', 'D', 'L', 'GF', 'GA'])\n",
    "print(prem)"
   ]
  },
  {
   "cell_type": "markdown",
   "metadata": {},
   "source": [
    "Notice that the data is, however, in alphabetical order by team name.\n",
    "\n",
    "You must order the league table by the number of points, then by the goal difference, to show how the final table looked.\n",
    "\n",
    "The goal difference is the difference between the number of goals scored and the number of goals conceded.\n",
    "The number of points is as follows:\n",
    "* 3 points for a win\n",
    "* 1 point for a draw\n",
    "* 0 points for a loss"
   ]
  },
  {
   "cell_type": "code",
   "execution_count": null,
   "metadata": {
    "collapsed": true
   },
   "outputs": [],
   "source": []
  },
  {
   "cell_type": "markdown",
   "metadata": {},
   "source": [
    "# Section 4 -  Cleaning, Transforming and Merging Data"
   ]
  },
  {
   "cell_type": "markdown",
   "metadata": {},
   "source": [
    "#### Used Car Dealership (Mocked Data)"
   ]
  },
  {
   "cell_type": "markdown",
   "metadata": {},
   "source": [
    "A used car dealership sells Toyotas and Fords.  \n",
    "\n",
    "They keep the details of the cars and the prices these cars sold for in two separate files:\n",
    "* data/car_details.csv\n",
    "* data/car_prices.csv\n",
    "\n",
    "Load the car details and car prices csvs as two separate Data Frames"
   ]
  },
  {
   "cell_type": "code",
   "execution_count": null,
   "metadata": {
    "collapsed": true
   },
   "outputs": [],
   "source": []
  },
  {
   "cell_type": "markdown",
   "metadata": {},
   "source": [
    "Using `.head()`, what does each of these Data Frames look like?"
   ]
  },
  {
   "cell_type": "code",
   "execution_count": null,
   "metadata": {
    "collapsed": true
   },
   "outputs": [],
   "source": []
  },
  {
   "cell_type": "markdown",
   "metadata": {},
   "source": [
    "What is the average price paid for a Ford Mustang?"
   ]
  },
  {
   "cell_type": "code",
   "execution_count": null,
   "metadata": {
    "collapsed": true
   },
   "outputs": [],
   "source": []
  },
  {
   "cell_type": "markdown",
   "metadata": {},
   "source": [
    "What is the average price paid for a 2006 Toyota RAV4?"
   ]
  },
  {
   "cell_type": "code",
   "execution_count": null,
   "metadata": {
    "collapsed": true
   },
   "outputs": [],
   "source": []
  },
  {
   "cell_type": "markdown",
   "metadata": {},
   "source": [
    "What is the minimum price paid for a car built in 2007? What is the make and model of this car?"
   ]
  },
  {
   "cell_type": "code",
   "execution_count": null,
   "metadata": {
    "collapsed": true
   },
   "outputs": [],
   "source": []
  },
  {
   "cell_type": "markdown",
   "metadata": {},
   "source": [
    "A man comes in looking for a Ford Mustang, but only has £20,000 to spend.   \n",
    "\n",
    "Looking at the historical data, what year of Ford Mustang can this man afford?"
   ]
  },
  {
   "cell_type": "code",
   "execution_count": null,
   "metadata": {
    "collapsed": true
   },
   "outputs": [],
   "source": []
  },
  {
   "cell_type": "markdown",
   "metadata": {},
   "source": [
    "A family are looking to buy either a Ford Focus or Toyota Verso, they don't have a preference between the two, but the oldest they would want to buy is 2013. Which car would cost them more money?"
   ]
  },
  {
   "cell_type": "code",
   "execution_count": null,
   "metadata": {
    "collapsed": true
   },
   "outputs": [],
   "source": []
  },
  {
   "cell_type": "markdown",
   "metadata": {},
   "source": [
    "What year of car has the dealership sold the most of?\n",
    "\n",
    "*Hint: You can count values in a column using `Series.count_values()`*"
   ]
  },
  {
   "cell_type": "code",
   "execution_count": null,
   "metadata": {
    "collapsed": true
   },
   "outputs": [],
   "source": []
  },
  {
   "cell_type": "markdown",
   "metadata": {},
   "source": [
    "#### Pokemon Dataset\n",
    "\n",
    "There is a dataset with pokemon in it stored in `data/pokemon.csv`\n",
    "\n",
    "Load this dataset and view the top 10 rows using the method `.head(10)`"
   ]
  },
  {
   "cell_type": "code",
   "execution_count": null,
   "metadata": {
    "collapsed": true
   },
   "outputs": [],
   "source": []
  },
  {
   "cell_type": "markdown",
   "metadata": {},
   "source": [
    "Notice that some Pokemon have variants with the same Pokedex number (`'#'`), we will count these as duplicates, remove these duplicates, only keeping the first instance of each pokemon."
   ]
  },
  {
   "cell_type": "code",
   "execution_count": null,
   "metadata": {
    "collapsed": true
   },
   "outputs": [],
   "source": []
  },
  {
   "cell_type": "markdown",
   "metadata": {},
   "source": [
    "Some of the `Sp. Def` statistics are missing. For those missing `Sp. Def`, assume that the value is the same as `Sp. Atk` and fill the missing values with the values from `Sp. Atk`."
   ]
  },
  {
   "cell_type": "code",
   "execution_count": null,
   "metadata": {
    "collapsed": true
   },
   "outputs": [],
   "source": []
  },
  {
   "cell_type": "markdown",
   "metadata": {},
   "source": [
    "Create a new column `Total` with the sum of the columns `HP`, `Attack`, `Defense`, `Sp. Atk`, `Sp. Def` and `Speed`"
   ]
  },
  {
   "cell_type": "code",
   "execution_count": null,
   "metadata": {
    "collapsed": true
   },
   "outputs": [],
   "source": []
  },
  {
   "cell_type": "markdown",
   "metadata": {},
   "source": [
    "Which Pokemon from Generation 1 is the most powerful in terms of total stats?"
   ]
  },
  {
   "cell_type": "code",
   "execution_count": null,
   "metadata": {
    "collapsed": true
   },
   "outputs": [],
   "source": []
  },
  {
   "cell_type": "markdown",
   "metadata": {},
   "source": [
    "Which pokemon makes the best punching bag (HP + Defence + Sp. Def)?"
   ]
  },
  {
   "cell_type": "code",
   "execution_count": null,
   "metadata": {
    "collapsed": true
   },
   "outputs": [],
   "source": []
  },
  {
   "cell_type": "markdown",
   "metadata": {},
   "source": [
    "#### NHS England Admission Data\n",
    "\n",
    "There are two datasets for NHS England Admission Data\n",
    "* data/ae_2014.csv\n",
    "* data/ae_2013.csv\n",
    "\n",
    "Load these two data sets into Data Frames and concatenate the Data Frames into one Data Frame"
   ]
  },
  {
   "cell_type": "code",
   "execution_count": null,
   "metadata": {
    "collapsed": true
   },
   "outputs": [],
   "source": []
  },
  {
   "cell_type": "markdown",
   "metadata": {},
   "source": [
    "`Total Attendence > 4 hours` is the number of patients that had to wait >4 hours from arrival to admission.  \n",
    "\n",
    "What is the average percentage of patients that had to wait >4 hours for admission?"
   ]
  },
  {
   "cell_type": "code",
   "execution_count": null,
   "metadata": {
    "collapsed": true
   },
   "outputs": [],
   "source": []
  },
  {
   "cell_type": "markdown",
   "metadata": {},
   "source": [
    "The target for admission in less than 4 hours for the NHS is 95%.\n",
    "\n",
    "How many weeks in 2013 and 2014, respectively, did they not meet this target?"
   ]
  },
  {
   "cell_type": "code",
   "execution_count": null,
   "metadata": {
    "collapsed": true
   },
   "outputs": [],
   "source": []
  },
  {
   "cell_type": "markdown",
   "metadata": {},
   "source": [
    "# Section 5 - Exercises"
   ]
  },
  {
   "cell_type": "markdown",
   "metadata": {},
   "source": [
    "### Vector Magnitudes\n",
    "\n",
    "The magnitude of a vector is the square root of the sum of squares of a vector, i.e. the magnitude of the vector a below is:\n",
    "\n",
    "$$\n",
    "\\bar{a} = \\begin{bmatrix} x \\\\ y \\\\ z \\end{bmatrix}\n",
    "$$\n",
    "\n",
    "\n",
    "$ |\\bar{a}| = \\sqrt{x^2 + y^2 + z^2} $\n",
    "\n",
    "Add a column to the following DataFrame called `magnitude` that is the magnitude of each of the vectors a-j. \n",
    "\n",
    "Round this column to 2 decimal places."
   ]
  },
  {
   "cell_type": "code",
   "execution_count": null,
   "metadata": {
    "collapsed": true
   },
   "outputs": [],
   "source": [
    "# Run this cell first\n",
    "vectors = pd.DataFrame({\n",
    "    'x': [1, 3, -3, 4, 8, -7, 10, -2, -5, 9],\n",
    "    'y': [-1, 13, 0, -2, 4, 6, 7, 19, 3, 12],\n",
    "    'z': [3, 4, 7, 4, 2, -5, 0, 12, 8, -6]\n",
    "}, index=['a', 'b', 'c', 'd', 'e', 'f', 'g', 'h', 'i', 'j'])"
   ]
  },
  {
   "cell_type": "code",
   "execution_count": null,
   "metadata": {
    "collapsed": true
   },
   "outputs": [],
   "source": [
    "# Write your code here\n"
   ]
  },
  {
   "cell_type": "code",
   "execution_count": null,
   "metadata": {
    "collapsed": true
   },
   "outputs": [],
   "source": [
    "# Now test your function\n",
    "test_1 = 'magnitude' in vectors.columns\n",
    "test_2 = vectors.loc['a', 'magnitude'] == 3.32\n",
    "test_3 = vectors.loc['h', 'magnitude'] == 22.56\n",
    "test_4 = vectors.loc['i', 'magnitude'] == 9.90\n",
    "test_5 = vectors.loc['c', 'magnitude'] == 7.62\n",
    "test_6 = vectors.loc['d', 'magnitude'] == 6.00\n",
    "\n",
    "if all([test_1, test_2, test_3, test_4, test_5, test_6]):\n",
    "    print(\"PASSED\")\n",
    "else:\n",
    "    print(\"FAILED\")"
   ]
  },
  {
   "cell_type": "markdown",
   "metadata": {},
   "source": [
    "### Calculating $R^2$\n",
    "\n",
    "The $R^2$ statistic is a common method of measuring how well a regression model performs at predicting outcomes.  \n",
    "\n",
    "$R^2$ is the proportion of the variance in data explained by the model, given a number of independent variable inputs.\n",
    "\n",
    "$ y $ is the observed (actual) output y\n",
    "\n",
    "$ \\hat{y} $ is our prediction of the output y\n",
    "\n",
    "$ \\bar{y} $ is the mean of the observed output y\n",
    "\n",
    "The total sum of squares (TSS) is defined as follows:\n",
    "\n",
    "$TSS = \\Sigma^n_i (y_i - \\bar{y_i})^2 $\n",
    "\n",
    "The residual sum of squares (RSS), also known as the sum of squared error, is defined as follows:\n",
    "\n",
    "$RSS = \\Sigma^n_i (y_i - \\hat{y_i})^2 $\n",
    "\n",
    "$R^2$ is then calculated as:\n",
    "\n",
    "$R^2 = 1 - \\dfrac{RSS}{TSS} $\n",
    "\n",
    "Calculate the $R^2$ value from the Data Frame below and store it in a variable `r_squared`"
   ]
  },
  {
   "cell_type": "code",
   "execution_count": null,
   "metadata": {
    "collapsed": true
   },
   "outputs": [],
   "source": [
    "# Run this cell first\n",
    "\n",
    "df = pd.DataFrame({\n",
    "    'y_predicted': [220, 165, 140, 130, 160, 178, 200, 123, 130, 140, 162, 157],\n",
    "    'y_observed': [195, 160, 120, 155, 161, 180, 185, 123, 128, 160, 180, 182]\n",
    "})"
   ]
  },
  {
   "cell_type": "code",
   "execution_count": null,
   "metadata": {
    "collapsed": true
   },
   "outputs": [],
   "source": [
    "# Write your code here\n",
    "\n",
    "tss = np.sum((df['y_observed'] - np.mean(df['y_observed'])) ** 2)\n",
    "rss = np.sum((df['y_observed'] - df['y_predicted']) ** 2)\n",
    "r_squared = 1 - (rss / tss)"
   ]
  },
  {
   "cell_type": "code",
   "execution_count": null,
   "metadata": {
    "collapsed": true
   },
   "outputs": [],
   "source": [
    "\n",
    "\n",
    "r_squared"
   ]
  },
  {
   "cell_type": "code",
   "execution_count": null,
   "metadata": {
    "collapsed": true
   },
   "outputs": [],
   "source": [
    "# Now test your function\n",
    "\n",
    "test_1 = round(r_squared, 2) == 0.54\n",
    "\n",
    "if test_1:\n",
    "    print(\"PASSED\")\n",
    "else:\n",
    "    print(\"FAILED\")"
   ]
  },
  {
   "cell_type": "markdown",
   "metadata": {},
   "source": [
    "`pd.read_html()` will return a list of tables on an html page.  \n",
    "The documentation for this can be found at http://pandas.pydata.org/pandas-docs/stable/generated/pandas.read_html.html\n",
    "\n",
    "Download the table at https://simple.wikipedia.org/wiki/List_of_U.S._states   \n",
    "\n",
    "Then use pandas to take in this data, find how many states there are."
   ]
  },
  {
   "cell_type": "code",
   "execution_count": null,
   "metadata": {
    "collapsed": true
   },
   "outputs": [],
   "source": []
  },
  {
   "cell_type": "markdown",
   "metadata": {},
   "source": [
    "Now sort by the date they became a state and display just the oldest 5 states.\n",
    "\n",
    "Remember you'll have to parse the dates given as strings"
   ]
  },
  {
   "cell_type": "code",
   "execution_count": null,
   "metadata": {
    "collapsed": true
   },
   "outputs": [],
   "source": []
  },
  {
   "cell_type": "markdown",
   "metadata": {},
   "source": [
    "How many states have a capital city starting with the letter \"O\"?"
   ]
  },
  {
   "cell_type": "code",
   "execution_count": null,
   "metadata": {
    "collapsed": true
   },
   "outputs": [],
   "source": []
  }
 ],
 "metadata": {
  "kernelspec": {
   "display_name": "Python 3",
   "language": "python",
   "name": "python3"
  },
  "language_info": {
   "codemirror_mode": {
    "name": "ipython",
    "version": 3
   },
   "file_extension": ".py",
   "mimetype": "text/x-python",
   "name": "python",
   "nbconvert_exporter": "python",
   "pygments_lexer": "ipython3",
   "version": "3.6.1"
  }
 },
 "nbformat": 4,
 "nbformat_minor": 1
}
