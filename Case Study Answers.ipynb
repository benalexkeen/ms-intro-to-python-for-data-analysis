{
  "cells": [
    {
      "metadata": {},
      "cell_type": "markdown",
      "source": "You've been contracted in to help a hospital with operations and diagnoses.\n\n## Surgery\n\nFirst, you're brought into surgery, where the head of surgery has tasked you with predicting the length of stay of patients depending on which surgery/surgeries they require. \n\nFrom such information they can begin to start tackling the surgeries with the most inefficiencies and they can more effectively predict allocation of bed spaces to incoming patients. They'll also be able to work out the costs incurred from a given patient's surgeries.\n\nStart by loading in the patient records of patients with surgery (`\"case_study_data/patients.csv\"`) and surgeries data (`\"case_study_data/surgery.csv\"`). In both cases, make your index patient_id.\n\nHave a quick explore of this data and fill any missing surgery values with zeroes."
    },
    {
      "metadata": {
        "trusted": true
      },
      "cell_type": "code",
      "source": "import pandas as pd\nimport numpy as np\n\n# Your code here\n\npatients = pd.read_csv('case_study_data/patients.csv', index_col='patient_id')\nsurgeries = pd.read_csv('case_study_data/surgery.csv', index_col='patient_id')\n\nsurgeries = surgeries.fillna(0)",
      "execution_count": 1,
      "outputs": []
    },
    {
      "metadata": {},
      "cell_type": "markdown",
      "source": "Draw a histogram of patient ages to view the distribution of the ages of surgical patients."
    },
    {
      "metadata": {
        "trusted": true
      },
      "cell_type": "code",
      "source": "import matplotlib.pyplot as plt\nimport matplotlib\n%matplotlib inline\n\nplt.style.use('ggplot')\n\n# Your code here\n\nplt.hist(patients['age'], bins=20, range=(0, 100), edgecolor='black')\nplt.show()",
      "execution_count": 2,
      "outputs": [
        {
          "output_type": "display_data",
          "data": {
            "image/png": "[encoded data removed]",
            "text/plain": "<Figure size 432x288 with 1 Axes>"
          },
          "metadata": {}
        }
      ]
    },
    {
      "metadata": {},
      "cell_type": "markdown",
      "source": "Now plot a boxplot of length of stay for each gender. You'll need to perform a join on the two tables."
    },
    {
      "metadata": {
        "trusted": true
      },
      "cell_type": "code",
      "source": "# Your code here\n\ndf = patients.join(surgeries)\n\nplt.boxplot([\n    df[df['gender'] == 'Female']['length_of_stay'],\n    df[df['gender'] == 'Male']['length_of_stay']\n], labels=['Female', 'Male'])\nplt.show()",
      "execution_count": 3,
      "outputs": [
        {
          "output_type": "display_data",
          "data": {
            "image/png": "[encoded data removed]",
            "text/plain": "<Figure size 432x288 with 1 Axes>"
          },
          "metadata": {
            "needs_background": "light"
          }
        }
      ]
    },
    {
      "metadata": {},
      "cell_type": "markdown",
      "source": "Now we'll create a linear regression model to predict length of stay given a patient's sex, age, and surgeries that were undertaken.\n\nDrop the name of the patient from your Data Frame and convert the gender of the patient to an integer boolean (0 for female or 1 for male)."
    },
    {
      "metadata": {
        "trusted": true
      },
      "cell_type": "code",
      "source": "# Your code here\n\ndf = df.drop(['first_name', 'last_name'], axis=1)\ndf['gender'] = df['gender'].map({'Female': 0, 'Male': 1})",
      "execution_count": 4,
      "outputs": []
    },
    {
      "metadata": {},
      "cell_type": "markdown",
      "source": "Now split the data into\n\n* X (predictors) values and y (response) values \n* Testing and training set\n\nusing a test size of 0.25 and random state of 1 for repeatability."
    },
    {
      "metadata": {
        "trusted": true
      },
      "cell_type": "code",
      "source": "from sklearn.model_selection import train_test_split \n\n# Your code here\n\nX = df.drop(['length_of_stay'], axis=1)\ny = df['length_of_stay']\n\nX_train, X_test, y_train, y_test = train_test_split(X, y, test_size=0.25, random_state=1)",
      "execution_count": 5,
      "outputs": []
    },
    {
      "metadata": {},
      "cell_type": "markdown",
      "source": "Use your training data set to create a linear regression model."
    },
    {
      "metadata": {
        "trusted": true
      },
      "cell_type": "code",
      "source": "from sklearn import linear_model\n\n# Your code here\n\nlm = linear_model.LinearRegression()\n\nlm.fit(X_train, y_train)",
      "execution_count": 6,
      "outputs": [
        {
          "output_type": "execute_result",
          "execution_count": 6,
          "data": {
            "text/plain": "LinearRegression(copy_X=True, fit_intercept=True, n_jobs=1, normalize=False)"
          },
          "metadata": {}
        }
      ]
    },
    {
      "metadata": {},
      "cell_type": "markdown",
      "source": "What is the $R^2$ value for your regression model using your test data?"
    },
    {
      "metadata": {
        "trusted": true
      },
      "cell_type": "code",
      "source": "# Your code here\n\nlm.score(X_test, y_test)",
      "execution_count": 7,
      "outputs": [
        {
          "output_type": "execute_result",
          "execution_count": 7,
          "data": {
            "text/plain": "0.8561696945821946"
          },
          "metadata": {}
        }
      ]
    },
    {
      "metadata": {},
      "cell_type": "markdown",
      "source": "Given the following average prices of surgery and price of length of stay, what does the model predict the most expensive surgery is on average?\n* General Surgery - £5,300\n* Orthopaedic Surgery - £7,100\n* Cardiothoracic Surgery - £5,100\n* Neurosurgery - £4,900\n* Oral Surgery - £1,200\n* Plastic Surgery - £6,600\n* Cost of hospital stay per day - £1,000"
    },
    {
      "metadata": {
        "trusted": true
      },
      "cell_type": "code",
      "source": "surgery_costs = {\n    'general_surgery': 5300,\n    'orthopaedic_surgery': 7100,\n    'cardiothoracic_surgery': 5100,\n    'neurosurgery': 4900,\n    'oral_surgery': 1200,\n    'plastic_surgery': 6600,\n}\nbed_cost_per_day = 1000\n\n# Your code here\n\ncoefficients = {\n    'gender': lm.coef_[0],\n    'age': lm.coef_[1],\n    'general_surgery': lm.coef_[2],\n    'orthopaedic_surgery': lm.coef_[3],\n    'cardiothoracic_surgery': lm.coef_[4],\n    'neurosurgery': lm.coef_[5],\n    'oral_surgery': lm.coef_[6],\n    'plastic_surgery': lm.coef_[7]\n}\n\nfor surgery_type in surgery_costs:\n    surgery_cost = surgery_costs[surgery_type]\n    bed_cost = coefficients[surgery_type] * bed_cost_per_day\n    total_cost = round(surgery_cost + bed_cost, 2)\n    print(\"Cost for {} is £{}\".format(surgery_type, total_cost))",
      "execution_count": 8,
      "outputs": [
        {
          "output_type": "stream",
          "text": "Cost for oral_surgery is £2260.5\nCost for cardiothoracic_surgery is £9833.53\nCost for orthopaedic_surgery is £8736.92\nCost for neurosurgery is £9922.29\nCost for plastic_surgery is £8076.46\nCost for general_surgery is £6888.0\n",
          "name": "stdout"
        }
      ]
    },
    {
      "metadata": {},
      "cell_type": "markdown",
      "source": "Do men or women tend to stay in the hospital longer?"
    },
    {
      "metadata": {
        "trusted": true
      },
      "cell_type": "code",
      "source": "# Your code here\n\nmen = coefficients['gender'] * 1\nwomen = coefficients['gender'] * 0\n\nif men > women:\n    print(\"Men spend longer in the hospital\")\nelse:\n    print(\"Women spend longer in the hospital\")",
      "execution_count": 9,
      "outputs": [
        {
          "output_type": "stream",
          "text": "Women spend longer in the hospital\n",
          "name": "stdout"
        }
      ]
    },
    {
      "metadata": {},
      "cell_type": "markdown",
      "source": "For the following patients, make a prediction on their hospital stay length and costs:\n* A 29 year old man that needs Plastic Surgery\n* A 42 year old woman that needs Cardiothoracic and Orthopaedic Surgery\n* A 72 year old man that needs 2 Oral Surgeries"
    },
    {
      "metadata": {
        "trusted": true
      },
      "cell_type": "code",
      "source": "# Your code here\n\npatient1 = [1, 29, 0, 0, 0, 0, 0, 1]\npatient2 = [0, 42, 0, 1, 1, 0, 0, 0]\npatient3 = [0, 42, 0, 0, 0, 0, 2, 0]\n\npredictions = lm.predict([patient1, patient2, patient3])\n\npatient_1_stay = predictions[0]\npatient_2_stay = predictions[1]\npatient_3_stay = predictions[2]\n\npatient_1_cost = surgery_costs['plastic_surgery'] + patient_1_stay * bed_cost_per_day\npatient_2_cost = (surgery_costs['cardiothoracic_surgery'] + \n                  surgery_costs['orthopaedic_surgery'] \n                  + patient_2_stay * bed_cost_per_day)\npatient_3_cost = surgery_costs['oral_surgery'] * 2 + patient_3_stay * bed_cost_per_day\n\nprint(\"Patient 1 will stay for {} days and cost £{}\".format(round(patient_1_stay, 2), round(patient_1_cost, 2)))\nprint(\"Patient 2 will stay for {} days and cost £{}\".format(round(patient_2_stay, 2), round(patient_2_cost, 2)))\nprint(\"Patient 3 will stay for {} days and cost £{}\".format(round(patient_3_stay, 2), round(patient_3_cost, 2)))",
      "execution_count": 10,
      "outputs": [
        {
          "output_type": "stream",
          "text": "Patient 1 will stay for 0.9 days and cost £7503.79\nPatient 2 will stay for 6.52 days and cost £18718.86\nPatient 3 will stay for 2.27 days and cost £4669.41\n",
          "name": "stdout"
        }
      ]
    },
    {
      "metadata": {},
      "cell_type": "markdown",
      "source": "## Tumour Malignancy"
    },
    {
      "metadata": {},
      "cell_type": "markdown",
      "source": "You've now been asked to predict the malignancy of a breast cancer tumour given a range of physical measurements of the tumour.\n\nStart by reading in the file `\"data/breast_cancer.csv\"`"
    },
    {
      "metadata": {
        "trusted": true
      },
      "cell_type": "code",
      "source": "# Your code here\n\nbreast_cancer = pd.read_csv('data/breast_cancer.csv')",
      "execution_count": 11,
      "outputs": []
    },
    {
      "metadata": {},
      "cell_type": "markdown",
      "source": "Remove any rows that have been duplicated."
    },
    {
      "metadata": {
        "trusted": true
      },
      "cell_type": "code",
      "source": "# Your code here\n\nbreast_cancer = breast_cancer.drop_duplicates()",
      "execution_count": 12,
      "outputs": []
    },
    {
      "metadata": {},
      "cell_type": "markdown",
      "source": "Now split the data into\n\n* X (predictors) values and y (response) values \n* Testing and training set\n\nusing a test size of 0.25 and random state of 1 for repeatability."
    },
    {
      "metadata": {
        "trusted": true
      },
      "cell_type": "code",
      "source": "# Your code here\n\nX = breast_cancer.drop('malignancy', axis=1)\ny = breast_cancer['malignancy']\n\nX_train, X_test, y_train, y_test = train_test_split(X, y, test_size=0.25, random_state=1)",
      "execution_count": 13,
      "outputs": []
    },
    {
      "metadata": {},
      "cell_type": "markdown",
      "source": "Now using a for loop, create a `KNeighborsClassifier` model, fit the model and test the accuracy when predicting the testing X (predictor) values for k values between 1 and 20. \n\nWhich k value gives the most accurate predictions?"
    },
    {
      "metadata": {
        "trusted": true
      },
      "cell_type": "code",
      "source": "from sklearn.neighbors import KNeighborsClassifier\nfrom sklearn.metrics import accuracy_score\n\n# Your code here\n\nfor k in range(1, 21):\n    knn_model = KNeighborsClassifier(n_neighbors=k)\n    knn_model.fit(X_train, y_train)\n    y_predict = knn_model.predict(X_test)\n    accuracy = accuracy_score(y_test, y_predict)\n    print(\"Accuracy Score for k={} is {}\".format(k, round(accuracy, 4)))",
      "execution_count": 14,
      "outputs": [
        {
          "output_type": "stream",
          "text": "Accuracy Score for k=1 is 0.9231\nAccuracy Score for k=2 is 0.9021\nAccuracy Score for k=3 is 0.9231\nAccuracy Score for k=4 is 0.9441\nAccuracy Score for k=5 is 0.9371\nAccuracy Score for k=6 is 0.9231\nAccuracy Score for k=7 is 0.9301\nAccuracy Score for k=8 is 0.9231\nAccuracy Score for k=9 is 0.9231\nAccuracy Score for k=10 is 0.9231\nAccuracy Score for k=11 is 0.9231\nAccuracy Score for k=12 is 0.9231\nAccuracy Score for k=13 is 0.9231\nAccuracy Score for k=14 is 0.9231\nAccuracy Score for k=15 is 0.9231\nAccuracy Score for k=16 is 0.9161\nAccuracy Score for k=17 is 0.9161\nAccuracy Score for k=18 is 0.9161\nAccuracy Score for k=19 is 0.9161\nAccuracy Score for k=20 is 0.9161\n",
          "name": "stdout"
        }
      ]
    },
    {
      "metadata": {},
      "cell_type": "markdown",
      "source": "The problem with your accuracy score is that it doesn't give any information about false positives.\n\nHowever, in this case, there's a lot more cost to have false negatives than false positives in this case. If you mis-diagnose someone with a benign tumour when it's malignant, this could have devastating effects for that patient.\n\nUsing the best k value above, create your own confusion matrix of:\n```\nTrue Positives  | False Negatives\n--------------- | ---------------\nFalse Positives | True Negatives\n```"
    },
    {
      "metadata": {
        "trusted": true
      },
      "cell_type": "code",
      "source": "# Your code here\n\nknn_model = KNeighborsClassifier(n_neighbors=4)\nknn_model.fit(X_train, y_train)\ny_predict = knn_model.predict(X_test)\n\ntrue_positives = false_negatives = false_positives = true_negatives = 0\n\nfor idx in range(len(y_test)):\n    if y_test.iloc[idx] == 1 and y_predict[idx] == 1:\n        true_positives += 1\n    elif y_test.iloc[idx] == 1 and y_predict[idx] == 0:\n        false_negatives += 1\n    elif y_test.iloc[idx] == 0 and y_predict[idx] == 0:\n        true_negatives += 1\n    else:\n        false_positives += 1\n\nnp.array([[true_positives, false_negatives], [false_positives, true_negatives]])",
      "execution_count": 15,
      "outputs": [
        {
          "output_type": "execute_result",
          "execution_count": 15,
          "data": {
            "text/plain": "array([[49,  6],\n       [ 2, 86]])"
          },
          "metadata": {}
        }
      ]
    },
    {
      "metadata": {},
      "cell_type": "markdown",
      "source": "If doctors are currently working on a 5% false negative rate, does your model perform better or worse than this?"
    }
  ],
  "metadata": {
    "kernelspec": {
      "name": "python2",
      "display_name": "Python 2",
      "language": "python"
    },
    "language_info": {
      "mimetype": "text/x-python",
      "nbconvert_exporter": "python",
      "name": "python",
      "pygments_lexer": "ipython2",
      "version": "2.7.15",
      "file_extension": ".py",
      "codemirror_mode": {
        "version": 2,
        "name": "ipython"
      }
    }
  },
  "nbformat": 4,
  "nbformat_minor": 2
}