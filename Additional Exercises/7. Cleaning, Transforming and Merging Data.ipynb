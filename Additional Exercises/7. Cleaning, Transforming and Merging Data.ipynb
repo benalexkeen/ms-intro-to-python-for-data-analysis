{
 "cells": [
  {
   "cell_type": "markdown",
   "metadata": {},
   "source": [
    "### House Prices\n",
    "\n",
    "We have data for the house prices on one road, and we want to know the price per bedroom for these houses."
   ]
  },
  {
   "cell_type": "code",
   "execution_count": null,
   "metadata": {},
   "outputs": [],
   "source": [
    "import pandas as pd\n",
    "\n",
    "houses = pd.DataFrame([\n",
    "    [3, 2, 1945, \"£445,000\"],\n",
    "    [2, 1, 1975, \"£300,000\"],\n",
    "    [1, 1, 2013, \"£240,000\"],\n",
    "    [2, None, 1945, \"£314,000\"],\n",
    "    [1, 1, 2011, \"£265,000\"],\n",
    "    [3, None, 1992, \"£384,000\"],\n",
    "    [4, 2, 1986, \"£498,000\"],\n",
    "])\n",
    "\n",
    "houses"
   ]
  },
  {
   "cell_type": "markdown",
   "metadata": {},
   "source": [
    "Rename the columns as `\"Bedrooms\"`, `\"Bathrooms\"`, `\"Year Built\"` and `\"Price\"`"
   ]
  },
  {
   "cell_type": "code",
   "execution_count": null,
   "metadata": {
    "collapsed": true
   },
   "outputs": [],
   "source": []
  },
  {
   "cell_type": "markdown",
   "metadata": {},
   "source": [
    "There are missing values for two of the houses' number of bedrooms.\n",
    "\n",
    "Fill these in with their number of bedrooms instead."
   ]
  },
  {
   "cell_type": "code",
   "execution_count": null,
   "metadata": {
    "collapsed": true
   },
   "outputs": [],
   "source": []
  },
  {
   "cell_type": "markdown",
   "metadata": {},
   "source": [
    "Write a function to remove the `\"£\"` and `\",\"` from the string and return the price as a numerical value instead of a string. Map this function to the price column."
   ]
  },
  {
   "cell_type": "code",
   "execution_count": null,
   "metadata": {
    "collapsed": true
   },
   "outputs": [],
   "source": []
  },
  {
   "cell_type": "markdown",
   "metadata": {},
   "source": [
    "What is the average price per bedroom for a house on this road?"
   ]
  },
  {
   "cell_type": "code",
   "execution_count": null,
   "metadata": {
    "collapsed": true
   },
   "outputs": [],
   "source": []
  },
  {
   "cell_type": "markdown",
   "metadata": {},
   "source": [
    "### Superstore Returns\n",
    "\n",
    "Load the superstore data we used in the previous section by running the cell below:"
   ]
  },
  {
   "cell_type": "code",
   "execution_count": null,
   "metadata": {},
   "outputs": [],
   "source": [
    "superstore_sales = pd.read_csv('data/superstore_sales.csv')\n",
    "# show top 5 rows\n",
    "superstore_sales.head()"
   ]
  },
  {
   "cell_type": "markdown",
   "metadata": {},
   "source": [
    "From this data frame, select only the `\"Row ID\"`, `\"Order ID\"`, `\"Shipping Cost\"` and `\"Profit\"` columns"
   ]
  },
  {
   "cell_type": "code",
   "execution_count": null,
   "metadata": {
    "collapsed": true
   },
   "outputs": [],
   "source": []
  },
  {
   "cell_type": "markdown",
   "metadata": {},
   "source": [
    "We will now load a second Data Frame with all the returned orders data for this superstore."
   ]
  },
  {
   "cell_type": "code",
   "execution_count": null,
   "metadata": {},
   "outputs": [],
   "source": [
    "superstore_returns = pd.read_csv('data/superstore_returns.csv')\n",
    "superstore_returns.head()"
   ]
  },
  {
   "cell_type": "markdown",
   "metadata": {},
   "source": [
    "Merge the two data frames together using an outer join on the column `\"Order ID\"`.\n",
    "\n",
    "Show the first 5 rows of the merged dataframe using the `head()` method."
   ]
  },
  {
   "cell_type": "code",
   "execution_count": null,
   "metadata": {
    "collapsed": true
   },
   "outputs": [],
   "source": []
  },
  {
   "cell_type": "markdown",
   "metadata": {},
   "source": [
    "Note that the `\"Status\"` row is mostly missing as it is now only filled in for the rows for which orders were returned.\n",
    "\n",
    "Fill the null `Status` values with the string `\"Not Returned\"`."
   ]
  },
  {
   "cell_type": "code",
   "execution_count": null,
   "metadata": {
    "collapsed": true
   },
   "outputs": [],
   "source": []
  },
  {
   "cell_type": "markdown",
   "metadata": {},
   "source": [
    "We want to calculate a more correct profit figure, given that we know which orders were returned.\n",
    "\n",
    "The company doesn't pass on shipping costs to its customers.\n",
    "\n",
    "Therefore, to calculate a more correct profit value:\n",
    "* Sum up only the profit from the `\"Not Returned\"` columns\n",
    "* Take away the `\"Shipping Costs\"` from the `\"Returned\"` columns"
   ]
  },
  {
   "cell_type": "code",
   "execution_count": null,
   "metadata": {
    "collapsed": true
   },
   "outputs": [],
   "source": []
  },
  {
   "cell_type": "markdown",
   "metadata": {},
   "source": [
    "### Cleaning Strings\n",
    "\n",
    "Some people filled in a form with their first names, last names and heights. \n",
    "\n",
    "However the height field was a free text field and there was no error checking. Your job is to clean up these heights.\n",
    "\n",
    "All the heights are given in metric but the string formats are different\n",
    "\n",
    "Run the cell below to see the table."
   ]
  },
  {
   "cell_type": "code",
   "execution_count": null,
   "metadata": {
    "collapsed": true
   },
   "outputs": [],
   "source": [
    "heights = pd.DataFrame([\n",
    "    {\"first_name\": \"Stephanie\", \"last_name\": \"Bambery\", \"height\": \"1.60 metres\"},\n",
    "    {\"first_name\": \"Barnard\", \"last_name\": \"Darbey\", \"height\": '1m 80cm'},\n",
    "    {\"first_name\": \"Gale\", \"last_name\": \"Blind\", \"height\": \"154\"},\n",
    "    {\"first_name\": \"Corry\", \"last_name\": \"Erbe\", \"height\": \"1 meter 80\"},\n",
    "    {\"first_name\": \"Godard\", \"last_name\": \"Haslam\", \"height\": \"170 cm\"},\n",
    "    {\"first_name\": \"Raimundo\", \"last_name\": \"Pelman\", \"height\": \"172 cm\"}, \n",
    "    {\"first_name\": \"Evvie\", \"last_name\": \"Rathke\", \"height\": \"165\"},\n",
    "    {\"first_name\": \"Darius\", \"last_name\": \"Hymers\", \"height\": \"1.67 m\"}\n",
    "], columns=['first_name', 'last_name', 'height'])\n",
    "\n",
    "heights"
   ]
  },
  {
   "cell_type": "markdown",
   "metadata": {},
   "source": [
    "They are currently strings but you would like them as floats in centimetres.\n",
    "\n",
    "Write a function that will read in all of these height strings, convert them to centimetres, strip out any non-digit characters and return a float.\n",
    "\n",
    "_Hint: have a look back at the presentation at all of the string transformation functions_\n",
    "_This is not an easy problem, so you may want to look at the solution for help_"
   ]
  },
  {
   "cell_type": "code",
   "execution_count": null,
   "metadata": {
    "collapsed": true
   },
   "outputs": [],
   "source": []
  }
 ],
 "metadata": {
  "kernelspec": {
   "display_name": "Python 3",
   "language": "python",
   "name": "python3"
  },
  "language_info": {
   "codemirror_mode": {
    "name": "ipython",
    "version": 3
   },
   "file_extension": ".py",
   "mimetype": "text/x-python",
   "name": "python",
   "nbconvert_exporter": "python",
   "pygments_lexer": "ipython3",
   "version": "3.6.1"
  }
 },
 "nbformat": 4,
 "nbformat_minor": 2
}
