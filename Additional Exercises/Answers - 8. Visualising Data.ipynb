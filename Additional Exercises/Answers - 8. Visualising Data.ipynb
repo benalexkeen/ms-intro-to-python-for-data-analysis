{
 "cells": [
  {
   "cell_type": "markdown",
   "metadata": {},
   "source": [
    "## Sales Data\n",
    "\n",
    "In this exercise, we're going to explore our sales data a bit more graphically.\n",
    "\n",
    "Read the superstore data in from the `superstore_sales` csv by running the cell below."
   ]
  },
  {
   "cell_type": "code",
   "execution_count": 1,
   "metadata": {},
   "outputs": [
    {
     "data": {
      "text/html": [
       "<div>\n",
       "<style>\n",
       "    .dataframe thead tr:only-child th {\n",
       "        text-align: right;\n",
       "    }\n",
       "\n",
       "    .dataframe thead th {\n",
       "        text-align: left;\n",
       "    }\n",
       "\n",
       "    .dataframe tbody tr th {\n",
       "        vertical-align: top;\n",
       "    }\n",
       "</style>\n",
       "<table border=\"1\" class=\"dataframe\">\n",
       "  <thead>\n",
       "    <tr style=\"text-align: right;\">\n",
       "      <th></th>\n",
       "      <th>Row ID</th>\n",
       "      <th>Order ID</th>\n",
       "      <th>Order Date</th>\n",
       "      <th>Order Priority</th>\n",
       "      <th>Order Quantity</th>\n",
       "      <th>Sales</th>\n",
       "      <th>Discount</th>\n",
       "      <th>Ship Mode</th>\n",
       "      <th>Profit</th>\n",
       "      <th>Unit Price</th>\n",
       "      <th>...</th>\n",
       "      <th>Customer Name</th>\n",
       "      <th>Province</th>\n",
       "      <th>Region</th>\n",
       "      <th>Customer Segment</th>\n",
       "      <th>Product Category</th>\n",
       "      <th>Product Sub-Category</th>\n",
       "      <th>Product Name</th>\n",
       "      <th>Product Container</th>\n",
       "      <th>Product Base Margin</th>\n",
       "      <th>Ship Date</th>\n",
       "    </tr>\n",
       "  </thead>\n",
       "  <tbody>\n",
       "    <tr>\n",
       "      <th>0</th>\n",
       "      <td>1</td>\n",
       "      <td>3</td>\n",
       "      <td>13/10/2010</td>\n",
       "      <td>Low</td>\n",
       "      <td>6</td>\n",
       "      <td>261.5400</td>\n",
       "      <td>0.04</td>\n",
       "      <td>Regular Air</td>\n",
       "      <td>-213.25</td>\n",
       "      <td>38.94</td>\n",
       "      <td>...</td>\n",
       "      <td>Muhammed MacIntyre</td>\n",
       "      <td>Nunavut</td>\n",
       "      <td>Nunavut</td>\n",
       "      <td>Small Business</td>\n",
       "      <td>Office Supplies</td>\n",
       "      <td>Storage &amp; Organization</td>\n",
       "      <td>Eldon Base for stackable storage shelf, platinum</td>\n",
       "      <td>Large Box</td>\n",
       "      <td>0.80</td>\n",
       "      <td>20/10/2010</td>\n",
       "    </tr>\n",
       "    <tr>\n",
       "      <th>1</th>\n",
       "      <td>49</td>\n",
       "      <td>293</td>\n",
       "      <td>01/10/2012</td>\n",
       "      <td>High</td>\n",
       "      <td>49</td>\n",
       "      <td>10123.0200</td>\n",
       "      <td>0.07</td>\n",
       "      <td>Delivery Truck</td>\n",
       "      <td>457.81</td>\n",
       "      <td>208.16</td>\n",
       "      <td>...</td>\n",
       "      <td>Barry French</td>\n",
       "      <td>Nunavut</td>\n",
       "      <td>Nunavut</td>\n",
       "      <td>Consumer</td>\n",
       "      <td>Office Supplies</td>\n",
       "      <td>Appliances</td>\n",
       "      <td>1.7 Cubic Foot Compact \"Cube\" Office Refrigera...</td>\n",
       "      <td>Jumbo Drum</td>\n",
       "      <td>0.58</td>\n",
       "      <td>02/10/2012</td>\n",
       "    </tr>\n",
       "    <tr>\n",
       "      <th>2</th>\n",
       "      <td>50</td>\n",
       "      <td>293</td>\n",
       "      <td>01/10/2012</td>\n",
       "      <td>High</td>\n",
       "      <td>27</td>\n",
       "      <td>244.5700</td>\n",
       "      <td>0.01</td>\n",
       "      <td>Regular Air</td>\n",
       "      <td>46.71</td>\n",
       "      <td>8.69</td>\n",
       "      <td>...</td>\n",
       "      <td>Barry French</td>\n",
       "      <td>Nunavut</td>\n",
       "      <td>Nunavut</td>\n",
       "      <td>Consumer</td>\n",
       "      <td>Office Supplies</td>\n",
       "      <td>Binders and Binder Accessories</td>\n",
       "      <td>Cardinal Slant-D® Ring Binder, Heavy Gauge Vinyl</td>\n",
       "      <td>Small Box</td>\n",
       "      <td>0.39</td>\n",
       "      <td>03/10/2012</td>\n",
       "    </tr>\n",
       "    <tr>\n",
       "      <th>3</th>\n",
       "      <td>80</td>\n",
       "      <td>483</td>\n",
       "      <td>10/07/2011</td>\n",
       "      <td>High</td>\n",
       "      <td>30</td>\n",
       "      <td>4965.7595</td>\n",
       "      <td>0.08</td>\n",
       "      <td>Regular Air</td>\n",
       "      <td>1198.97</td>\n",
       "      <td>195.99</td>\n",
       "      <td>...</td>\n",
       "      <td>Clay Rozendal</td>\n",
       "      <td>Nunavut</td>\n",
       "      <td>Nunavut</td>\n",
       "      <td>Corporate</td>\n",
       "      <td>Technology</td>\n",
       "      <td>Telephones and Communication</td>\n",
       "      <td>R380</td>\n",
       "      <td>Small Box</td>\n",
       "      <td>0.58</td>\n",
       "      <td>12/07/2011</td>\n",
       "    </tr>\n",
       "    <tr>\n",
       "      <th>4</th>\n",
       "      <td>85</td>\n",
       "      <td>515</td>\n",
       "      <td>28/08/2010</td>\n",
       "      <td>Not Specified</td>\n",
       "      <td>19</td>\n",
       "      <td>394.2700</td>\n",
       "      <td>0.08</td>\n",
       "      <td>Regular Air</td>\n",
       "      <td>30.94</td>\n",
       "      <td>21.78</td>\n",
       "      <td>...</td>\n",
       "      <td>Carlos Soltero</td>\n",
       "      <td>Nunavut</td>\n",
       "      <td>Nunavut</td>\n",
       "      <td>Consumer</td>\n",
       "      <td>Office Supplies</td>\n",
       "      <td>Appliances</td>\n",
       "      <td>Holmes HEPA Air Purifier</td>\n",
       "      <td>Medium Box</td>\n",
       "      <td>0.50</td>\n",
       "      <td>30/08/2010</td>\n",
       "    </tr>\n",
       "  </tbody>\n",
       "</table>\n",
       "<p>5 rows × 21 columns</p>\n",
       "</div>"
      ],
      "text/plain": [
       "   Row ID  Order ID  Order Date Order Priority  Order Quantity       Sales  \\\n",
       "0       1         3  13/10/2010            Low               6    261.5400   \n",
       "1      49       293  01/10/2012           High              49  10123.0200   \n",
       "2      50       293  01/10/2012           High              27    244.5700   \n",
       "3      80       483  10/07/2011           High              30   4965.7595   \n",
       "4      85       515  28/08/2010  Not Specified              19    394.2700   \n",
       "\n",
       "   Discount       Ship Mode   Profit  Unit Price     ...      \\\n",
       "0      0.04     Regular Air  -213.25       38.94     ...       \n",
       "1      0.07  Delivery Truck   457.81      208.16     ...       \n",
       "2      0.01     Regular Air    46.71        8.69     ...       \n",
       "3      0.08     Regular Air  1198.97      195.99     ...       \n",
       "4      0.08     Regular Air    30.94       21.78     ...       \n",
       "\n",
       "        Customer Name Province   Region Customer Segment Product Category  \\\n",
       "0  Muhammed MacIntyre  Nunavut  Nunavut   Small Business  Office Supplies   \n",
       "1        Barry French  Nunavut  Nunavut         Consumer  Office Supplies   \n",
       "2        Barry French  Nunavut  Nunavut         Consumer  Office Supplies   \n",
       "3       Clay Rozendal  Nunavut  Nunavut        Corporate       Technology   \n",
       "4      Carlos Soltero  Nunavut  Nunavut         Consumer  Office Supplies   \n",
       "\n",
       "             Product Sub-Category  \\\n",
       "0          Storage & Organization   \n",
       "1                      Appliances   \n",
       "2  Binders and Binder Accessories   \n",
       "3    Telephones and Communication   \n",
       "4                      Appliances   \n",
       "\n",
       "                                        Product Name Product Container  \\\n",
       "0   Eldon Base for stackable storage shelf, platinum         Large Box   \n",
       "1  1.7 Cubic Foot Compact \"Cube\" Office Refrigera...        Jumbo Drum   \n",
       "2   Cardinal Slant-D® Ring Binder, Heavy Gauge Vinyl         Small Box   \n",
       "3                                               R380         Small Box   \n",
       "4                           Holmes HEPA Air Purifier        Medium Box   \n",
       "\n",
       "  Product Base Margin   Ship Date  \n",
       "0                0.80  20/10/2010  \n",
       "1                0.58  02/10/2012  \n",
       "2                0.39  03/10/2012  \n",
       "3                0.58  12/07/2011  \n",
       "4                0.50  30/08/2010  \n",
       "\n",
       "[5 rows x 21 columns]"
      ]
     },
     "execution_count": 1,
     "metadata": {},
     "output_type": "execute_result"
    }
   ],
   "source": [
    "import matplotlib.pyplot as plt\n",
    "import numpy as np\n",
    "import pandas as pd\n",
    "\n",
    "# Set the style to use the ggplot style as default\n",
    "plt.style.use('ggplot')\n",
    "\n",
    "\n",
    "sales = pd.read_csv('data/superstore_sales.csv')\n",
    "sales.head()"
   ]
  },
  {
   "cell_type": "markdown",
   "metadata": {},
   "source": [
    "Note that not all of the columns are shown above, if you want to see the names of all of the columns, you can run `df.columns`"
   ]
  },
  {
   "cell_type": "code",
   "execution_count": 2,
   "metadata": {},
   "outputs": [
    {
     "data": {
      "text/plain": [
       "Index(['Row ID', 'Order ID', 'Order Date', 'Order Priority', 'Order Quantity',\n",
       "       'Sales', 'Discount', 'Ship Mode', 'Profit', 'Unit Price',\n",
       "       'Shipping Cost', 'Customer Name', 'Province', 'Region',\n",
       "       'Customer Segment', 'Product Category', 'Product Sub-Category',\n",
       "       'Product Name', 'Product Container', 'Product Base Margin',\n",
       "       'Ship Date'],\n",
       "      dtype='object')"
      ]
     },
     "execution_count": 2,
     "metadata": {},
     "output_type": "execute_result"
    }
   ],
   "source": [
    "sales.columns"
   ]
  },
  {
   "cell_type": "markdown",
   "metadata": {},
   "source": [
    "### Bar Charts"
   ]
  },
  {
   "cell_type": "markdown",
   "metadata": {},
   "source": [
    "You can view the unique values in a column by running `df['col_name'].unique()`, use this to view the unique shipping modes.\n",
    "\n",
    "Do this on the `\"Ship Mode\"` column from the `sales` data frame."
   ]
  },
  {
   "cell_type": "code",
   "execution_count": 3,
   "metadata": {},
   "outputs": [
    {
     "data": {
      "text/plain": [
       "array(['Regular Air', 'Delivery Truck', 'Express Air'], dtype=object)"
      ]
     },
     "execution_count": 3,
     "metadata": {},
     "output_type": "execute_result"
    }
   ],
   "source": [
    "# Write your code to view unique shipping modes here\n",
    "sales['Ship Mode'].unique()"
   ]
  },
  {
   "cell_type": "markdown",
   "metadata": {},
   "source": [
    "Draw a bar graph of the three shipping modes and the **average shipping cost per order** for each one. Shipping cost is in the column `\"Shipping Cost\"`."
   ]
  },
  {
   "cell_type": "code",
   "execution_count": 4,
   "metadata": {},
   "outputs": [
    {
     "data": {
      "image/png": "[encoded data removed]",
      "text/plain": [
       "<matplotlib.figure.Figure at 0x1037d8908>"
      ]
     },
     "metadata": {},
     "output_type": "display_data"
    }
   ],
   "source": [
    "shipping_modes = sales['Ship Mode'].unique()\n",
    "average_shipping_costs = []\n",
    "\n",
    "for mode in shipping_modes:\n",
    "    mode_df = sales[sales['Ship Mode'] == mode]\n",
    "    total_shipping_cost_for_mode = mode_df['Shipping Cost'].sum()\n",
    "    mode_orders = len(mode_df)\n",
    "    average_shipping_cost_for_mode = total_shipping_cost_for_mode / mode_orders\n",
    "    average_shipping_costs.append(average_shipping_cost_for_mode)    \n",
    "\n",
    "xs = range(len(shipping_modes))\n",
    "\n",
    "plt.bar(xs, average_shipping_costs)\n",
    "plt.ylabel(\"Average Shipping Cost per Order\")\n",
    "plt.xlabel(\"Shipping Mode\")\n",
    "\n",
    "plt.xticks(xs, shipping_modes)\n",
    "plt.show()"
   ]
  },
  {
   "cell_type": "markdown",
   "metadata": {},
   "source": [
    "## Line Chart"
   ]
  },
  {
   "cell_type": "markdown",
   "metadata": {},
   "source": [
    "Write a function to that takes a parameter of a string in the format 'DD/MM/YYYY' and returns only the year as an integer."
   ]
  },
  {
   "cell_type": "code",
   "execution_count": 5,
   "metadata": {},
   "outputs": [],
   "source": [
    "def get_year(date_str):\n",
    "    return int(date_str.split('/')[-1])"
   ]
  },
  {
   "cell_type": "markdown",
   "metadata": {},
   "source": [
    "Map this function onto the column `\"Order Date\"` in order and set the result to a new column `\"Order Year\"`."
   ]
  },
  {
   "cell_type": "code",
   "execution_count": 6,
   "metadata": {},
   "outputs": [],
   "source": [
    "sales['Order Year'] = sales['Order Date'].map(get_year)"
   ]
  },
  {
   "cell_type": "markdown",
   "metadata": {},
   "source": [
    "Create a Line Chart to show total annual profits for 2009-2012"
   ]
  },
  {
   "cell_type": "code",
   "execution_count": 7,
   "metadata": {},
   "outputs": [
    {
     "data": {
      "image/png": "[encoded data removed]",
      "text/plain": [
       "<matplotlib.figure.Figure at 0x106a0f128>"
      ]
     },
     "metadata": {},
     "output_type": "display_data"
    }
   ],
   "source": [
    "years = [2009, 2010, 2011, 2012]\n",
    "profits = []\n",
    "\n",
    "for year in years:\n",
    "    profits.append(\n",
    "        sales.loc[sales['Order Year'] == year, 'Profit'].sum()\n",
    "    )\n",
    "\n",
    "plt.plot(years, profits, marker='o')\n",
    "plt.xticks(years)\n",
    "plt.xlabel('Year')\n",
    "plt.ylabel('Annual Profits (CAD $)')\n",
    "\n",
    "plt.show()"
   ]
  },
  {
   "cell_type": "markdown",
   "metadata": {},
   "source": [
    "## Boxplots\n",
    "\n",
    "The manager for the Province `Newfoundland` would like to know the spread of the revenues from orders from each of their product categories. The product categories are found in the `\"Product Category\"` column, the revenues are found in the `\"Sales\"` column. \n",
    "\n",
    "Plot the boxplots of revenue for each of the product categories for only the province Newfoundland. "
   ]
  },
  {
   "cell_type": "code",
   "execution_count": 8,
   "metadata": {},
   "outputs": [
    {
     "data": {
      "image/png": "[encoded data removed]",
      "text/plain": [
       "<matplotlib.figure.Figure at 0x102d22d68>"
      ]
     },
     "metadata": {},
     "output_type": "display_data"
    }
   ],
   "source": [
    "newfoundland_sales = sales[sales['Province'] == 'Newfoundland']\n",
    "\n",
    "segments = newfoundland_sales['Product Category'].unique()\n",
    "segment_profits = [newfoundland_sales.loc[(sales['Product Category'] == segment), \"Sales\"]\n",
    "                   for segment in segments]\n",
    "\n",
    "plt.boxplot(segment_profits, labels=segments)\n",
    "plt.xlabel('Product Categories')\n",
    "plt.ylabel('Revenues (CAD$)')\n",
    "plt.title('Newfoundland Revenues by product categories')\n",
    "plt.show()"
   ]
  },
  {
   "cell_type": "markdown",
   "metadata": {},
   "source": [
    "## Graphing Challenge\n",
    "\n",
    "It is not expected to be able to reproduce this graph, particularly not at this stage of the course, you might want to come back to it, but take it as a challenge to see how close you can get."
   ]
  },
  {
   "cell_type": "code",
   "execution_count": 9,
   "metadata": {},
   "outputs": [
    {
     "name": "stdout",
     "output_type": "stream",
     "text": [
      "Datetime\n",
      "2016-12-23 12:00:00    0.739948\n",
      "2016-12-23 12:10:00    0.720764\n",
      "2016-12-23 12:20:00    0.652249\n",
      "2016-12-23 12:30:00    0.697665\n",
      "2016-12-23 12:40:00    0.715862\n",
      "Name: Flow, dtype: float64\n",
      "Datetime\n",
      "2016-12-25 16:00:00    0.950000\n",
      "2016-12-25 16:10:00    1.495647\n",
      "2016-12-25 16:20:00    1.711233\n",
      "2016-12-25 16:30:00    1.744296\n",
      "2016-12-25 16:40:00    1.933412\n",
      "Name: Flow, dtype: float64\n"
     ]
    }
   ],
   "source": [
    "observed = pd.read_csv('data/river_flow_historical_data.csv', names=['Datetime', 'Flow'])\n",
    "prediction = pd.read_csv('data/river_flow_prediction_data.csv', names=['Datetime', 'Flow'])\n",
    "\n",
    "observed['Datetime'] = pd.to_datetime(observed['Datetime'])\n",
    "prediction['Datetime'] = pd.to_datetime(prediction['Datetime'])\n",
    "\n",
    "# Note that these are Series, not Data Frames\n",
    "observed = pd.Series(observed.set_index('Datetime')['Flow'])\n",
    "prediction = pd.Series(prediction.set_index('Datetime')['Flow'])\n",
    "\n",
    "print(observed.head())\n",
    "print(prediction.head())"
   ]
  },
  {
   "cell_type": "markdown",
   "metadata": {},
   "source": [
    "The graph below was created using matplotlib. Try and reproduce it. The observed data and forcecast data is loaded for you using the cell above."
   ]
  },
  {
   "cell_type": "markdown",
   "metadata": {},
   "source": [
    "![graph challenge graph](data/graph.png)"
   ]
  },
  {
   "cell_type": "markdown",
   "metadata": {},
   "source": [
    "Some hints:\n",
    "* `plt.semilogy(x, y)` will give you a semilog line chart with a log base 10 x axis\n",
    "* `plt.fill_between(x, y_1, y_2)` will fill the graph between x, y_1 and y_2\n",
    "* `plt.axhline(y_scalar)` will give you a horizontal line at y\n",
    "* You can order lines/scatter plots by providing a parameter `zorder` - the higher the z-order, the closer to the front of the graph (i.e. a z-order of 2 will be superimposed on top of 1)"
   ]
  },
  {
   "cell_type": "code",
   "execution_count": 10,
   "metadata": {},
   "outputs": [
    {
     "data": {
      "image/png": "[encoded data removed]",
      "text/plain": [
       "<matplotlib.figure.Figure at 0x106dabb70>"
      ]
     },
     "metadata": {},
     "output_type": "display_data"
    }
   ],
   "source": [
    "# Don't change this code\n",
    "import datetime\n",
    "\n",
    "plt.style.use('fivethirtyeight')\n",
    "\n",
    "now = max(observed.index)\n",
    "yesterday = now - datetime.timedelta(days=1)\n",
    "plus_12_hours = now + datetime.timedelta(hours=12)\n",
    "\n",
    "x_ticks = pd.date_range('2016-12-24 00:00', '2016-12-26 16:00', freq='12H')\n",
    "x_tick_labels = [x.strftime('%d %b %H:%M') for x in x_ticks]\n",
    "y_ticks = [0.1, 1, 10, 100]\n",
    "\n",
    "max_value = max(pd.concat([observed, prediction]))\n",
    "\n",
    "observed_line_color = '#0050d1'\n",
    "prediction_line_color = '#d10000'\n",
    "now_scatter_color = '#f90000'\n",
    "yesterday_scatter_color = '#00a1b7'\n",
    "plus_12_hours_scatter_color = '#6a00b7'\n",
    "observed_fill_color = '#96beff'\n",
    "prediction_fill_color = '#fc7b7b'\n",
    "max_value_text_color = '#00a1b7'\n",
    "max_value_line_color = '#fc7b7b'\n",
    "\n",
    "plt.figure(figsize=(15, 7))\n",
    "\n",
    "\n",
    "# Your code here\n",
    "\n",
    "# Start with your line graphs for observed and forecast points\n",
    "# These are semilogy plots, the line width is 2, the colors are given above\n",
    "# Remember to label your lines so they appear on the graph\n",
    "\n",
    "plt.semilogy(\n",
    "    observed.index,\n",
    "    observed,\n",
    "    linewidth=2,\n",
    "    color=observed_line_color,\n",
    "    label='Observed',\n",
    "    zorder=2\n",
    ")\n",
    "plt.semilogy(\n",
    "    prediction.index,\n",
    "    prediction,\n",
    "    linewidth=2,\n",
    "    color=prediction_line_color,\n",
    "    label='Forecast')\n",
    "\n",
    "# Now add the individual scatter plots\n",
    "# These should be at the front (parameter name `zorder`),\n",
    "# they have a white edgecolor (parameter name `edgecolor`)\n",
    "# Their line width is 2 (parameter name `lw`)\n",
    "# They have a size (parameter name `s`) of 140\n",
    "\n",
    "plt.scatter(\n",
    "    [now],\n",
    "    [observed.loc[now]],\n",
    "    color=now_scatter_color,\n",
    "    edgecolor='white',\n",
    "    lw=2,\n",
    "    s=140,\n",
    "    label='Time Now',\n",
    "    zorder=3\n",
    ")\n",
    "plt.scatter(\n",
    "    [yesterday],\n",
    "    [observed.loc[yesterday]],\n",
    "    color=yesterday_scatter_color,\n",
    "    edgecolor='white',\n",
    "    lw=2,\n",
    "    s=140,\n",
    "    label='Yesterday',\n",
    "    zorder=3\n",
    ")\n",
    "plt.scatter(\n",
    "    [plus_12_hours],\n",
    "    [prediction.loc[plus_12_hours]],\n",
    "    color=plus_12_hours_scatter_color,\n",
    "    edgecolor='white',\n",
    "    lw=2,\n",
    "    s=140,\n",
    "    label='+ 12 Hrs',\n",
    "    zorder=3\n",
    ")\n",
    "\n",
    "\n",
    "# The white lines have no x length, they start and end at the same time\n",
    "# The lines on the y axis start at 0.1 and extend up to the flow value at that time\n",
    "\n",
    "plt.plot(\n",
    "    [now, now],\n",
    "    [0.1, observed.loc[now]],\n",
    "    color='white',\n",
    "    linewidth=2,\n",
    "    zorder=1\n",
    ")\n",
    "plt.plot(\n",
    "    [yesterday, yesterday],\n",
    "    [0.1, observed.loc[yesterday]],\n",
    "    color='white',\n",
    "    linewidth=2,\n",
    "    zorder=1\n",
    ")\n",
    "plt.plot(\n",
    "    [plus_12_hours, plus_12_hours],\n",
    "    [0.1, prediction.loc[plus_12_hours]],\n",
    "    color='white',\n",
    "    linewidth=2,\n",
    "    zorder=1\n",
    ")\n",
    "\n",
    "# Fill the graphs below between 0.1 and the observed/predicted value\n",
    "# The opacity (`alpha`) of the fill should be 0.5\n",
    "\n",
    "plt.fill_between(\n",
    "    observed.index,\n",
    "    0.1,\n",
    "    observed,\n",
    "    color=observed_fill_color,\n",
    "    alpha=0.5\n",
    ")\n",
    "plt.fill_between(\n",
    "    prediction.index,\n",
    "    0.1,\n",
    "    prediction,\n",
    "    color=prediction_fill_color,\n",
    "    alpha=0.5\n",
    ")\n",
    "\n",
    "# Create a horizontal line at the maximum value of the observed or prediction\n",
    "# using plt.axhline(), the linewidth should be 2\n",
    "\n",
    "plt.axhline(\n",
    "    max_value,\n",
    "    linewidth=2,\n",
    "    linestyle='--',\n",
    "    color=max_value_line_color\n",
    ")\n",
    "\n",
    "# You can add text to your graph to indicate the maximum value\n",
    "# using plt.text(x, y, text)\n",
    "# the font size should be 14 (parameter name `fontsize`)\n",
    "\n",
    "plt.text(\n",
    "    min(observed.index),\n",
    "    10 ** (np.log10(max_value) + 0.1), \n",
    "    r'{}'.format(round(max_value, 3)),\n",
    "    fontsize=14,\n",
    "    color=max_value_text_color\n",
    ")\n",
    "\n",
    "# x and y ticks take an array of values as the first parameter\n",
    "# and an array of labels as their second parameter\n",
    "# the tick positions and labels are already defined above\n",
    "\n",
    "plt.yticks(y_ticks, y_ticks)\n",
    "plt.xticks(x_ticks, x_tick_labels)\n",
    "\n",
    "# The x limit should be set between the minimum observed date\n",
    "# and the maximum prediction date\n",
    "\n",
    "plt.xlim(min(observed.index), max(prediction.index))\n",
    "\n",
    "\n",
    "# Add a y label and a title for your graph\n",
    "\n",
    "plt.ylabel('Flow $(m^3/s)$')\n",
    "plt.title('River Flow')\n",
    "\n",
    "\n",
    "# Add your legend, you can put the legend outside of the graph\n",
    "# by providing paramaters `loc='center left', bbox_to_anchor=(1, 0.5)`\n",
    "\n",
    "plt.legend(loc='center left', bbox_to_anchor=(1, 0.5))\n",
    "\n",
    "plt.show()"
   ]
  }
 ],
 "metadata": {
  "kernelspec": {
   "display_name": "Python 3",
   "language": "python",
   "name": "python3"
  },
  "language_info": {
   "codemirror_mode": {
    "name": "ipython",
    "version": 3
   },
   "file_extension": ".py",
   "mimetype": "text/x-python",
   "name": "python",
   "nbconvert_exporter": "python",
   "pygments_lexer": "ipython3",
   "version": "3.6.1"
  }
 },
 "nbformat": 4,
 "nbformat_minor": 2
}
