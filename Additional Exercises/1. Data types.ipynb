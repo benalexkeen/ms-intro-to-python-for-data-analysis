{
 "cells": [
  {
   "cell_type": "markdown",
   "metadata": {},
   "source": [
    "### Data Types\n",
    "\n",
    "To find out the data type of any python object you can use the function `type()`.  \n",
    "Run the cell below:"
   ]
  },
  {
   "cell_type": "code",
   "execution_count": null,
   "metadata": {
    "collapsed": true
   },
   "outputs": [],
   "source": [
    "a = 4\n",
    "b = 5.5\n",
    "c = \"My string\"\n",
    "d = [a, b, c]\n",
    "e = {'a': a, 'b': b, 'c': c}\n",
    "f = (a, b, c)\n",
    "g = {a, b, c}\n",
    "h = print\n",
    "i = True\n",
    "j = None"
   ]
  },
  {
   "cell_type": "markdown",
   "metadata": {},
   "source": [
    "Now using the cells below, find out what each of the data types of the above variables are:"
   ]
  },
  {
   "cell_type": "code",
   "execution_count": null,
   "metadata": {
    "collapsed": true
   },
   "outputs": [],
   "source": [
    "# Type of variable `a`\n",
    "type(a)"
   ]
  },
  {
   "cell_type": "code",
   "execution_count": null,
   "metadata": {
    "collapsed": true
   },
   "outputs": [],
   "source": [
    "# Type of variable `b`\n"
   ]
  },
  {
   "cell_type": "code",
   "execution_count": null,
   "metadata": {
    "collapsed": true
   },
   "outputs": [],
   "source": [
    "# Type of variable `c`\n"
   ]
  },
  {
   "cell_type": "code",
   "execution_count": null,
   "metadata": {
    "collapsed": true
   },
   "outputs": [],
   "source": [
    "# Type of variable `d`\n"
   ]
  },
  {
   "cell_type": "code",
   "execution_count": null,
   "metadata": {
    "collapsed": true
   },
   "outputs": [],
   "source": [
    "# Type of variable `e`\n"
   ]
  },
  {
   "cell_type": "code",
   "execution_count": null,
   "metadata": {
    "collapsed": true
   },
   "outputs": [],
   "source": [
    "# Type of variable `f`\n"
   ]
  },
  {
   "cell_type": "code",
   "execution_count": null,
   "metadata": {
    "collapsed": true
   },
   "outputs": [],
   "source": [
    "# Type of variable `g`\n"
   ]
  },
  {
   "cell_type": "code",
   "execution_count": null,
   "metadata": {
    "collapsed": true
   },
   "outputs": [],
   "source": [
    "# Type of variable `h`\n"
   ]
  },
  {
   "cell_type": "code",
   "execution_count": null,
   "metadata": {
    "collapsed": true
   },
   "outputs": [],
   "source": [
    "# Type of variable `i`\n"
   ]
  },
  {
   "cell_type": "code",
   "execution_count": null,
   "metadata": {
    "collapsed": true
   },
   "outputs": [],
   "source": [
    "# Type of variable `j`\n"
   ]
  },
  {
   "cell_type": "markdown",
   "metadata": {},
   "source": [
    "### Volume of a Sphere\n",
    "\n",
    "Given that the volume of a sphere is given by:\n",
    "$$ \\dfrac{4}{3} \\pi r^3 $$\n",
    "\n",
    "Calulate the volume of a sphere with radius 5 cm"
   ]
  },
  {
   "cell_type": "code",
   "execution_count": null,
   "metadata": {},
   "outputs": [],
   "source": [
    "r = 5\n",
    "pi = 3.141\n",
    "\n"
   ]
  },
  {
   "cell_type": "markdown",
   "metadata": {},
   "source": [
    "### Gravitational Force between 2 objects\n",
    "\n",
    "The gravitational force exerted between 2 objects is given as:\n",
    "$$ F = \\dfrac{G m_1 m_2}{r^2} $$\n",
    "\n",
    "Where $G$ is the gravitational constant, $m_1$ and $m_2$ are the masses of the two objects and $r$ is the distance between them.\n",
    "\n",
    "Using the values given in the cell below, calculate the gravitational force between Earth and the Moon."
   ]
  },
  {
   "cell_type": "code",
   "execution_count": null,
   "metadata": {
    "collapsed": true
   },
   "outputs": [],
   "source": [
    "G = 6.6726 * 10 ** -11\n",
    "masses = [6.0 * 10 ** 24, 7.35 * 10 ** 22]\n",
    "r = 3.844 * 10 ** 8\n"
   ]
  },
  {
   "cell_type": "markdown",
   "metadata": {},
   "source": [
    "### Solving Quadratic Equations\n",
    "\n",
    "The quadratic formula is:\n",
    "\n",
    "$$ x = \\dfrac{-b \\pm \\sqrt{b^2 - 4ac}}{2a}$$\n",
    "\n",
    "for an equation in the format:\n",
    "\n",
    "$$ ax^2 + bx + c $$\n",
    "\n",
    "Use the quadratic formula to solve:\n",
    "\n",
    "$$ 2x^2 + 5x - 3 = 0 $$\n",
    "\n",
    "_hint: The square root of a number is the number raised to the power of 0.5_"
   ]
  },
  {
   "cell_type": "code",
   "execution_count": null,
   "metadata": {
    "collapsed": true
   },
   "outputs": [],
   "source": [
    "a = 2\n",
    "b = 5\n",
    "c = -3\n",
    "\n",
    "# Write your code here\n"
   ]
  },
  {
   "cell_type": "markdown",
   "metadata": {},
   "source": [
    "Run the cell below to check your answers. \n",
    "\n",
    "We will go through in the next session what a lot of this code means"
   ]
  },
  {
   "cell_type": "code",
   "execution_count": null,
   "metadata": {
    "collapsed": true
   },
   "outputs": [],
   "source": [
    "import numpy as np\n",
    "import matplotlib.pyplot as plt\n",
    "\n",
    "fig = plt.figure(figsize=(10, 7))\n",
    "ax = fig.add_subplot(111)\n",
    "\n",
    "ax.spines['left'].set_position('zero')\n",
    "ax.spines['right'].set_color('none')\n",
    "ax.spines['bottom'].set_position('zero')\n",
    "ax.spines['top'].set_color('none')\n",
    "ax.set_xticks(np.arange(-5, 5.5, 0.5))\n",
    "\n",
    "x = np.arange(-5, 5, 0.1)\n",
    "y = 2 * x**2 + 5*x - 3\n",
    "\n",
    "plt.plot(x, y)\n",
    "plt.show()"
   ]
  },
  {
   "cell_type": "markdown",
   "metadata": {},
   "source": [
    "### Distance between two points\n",
    "\n",
    "Using pythagoras, we know that the difference between two points in Euclidean space is:\n",
    "\n",
    "$$ \\sqrt{(x_1 - x_2)^2 + (y_1 - y_2)^2 + (z_1 - z_2)^2}$$\n",
    "\n",
    "Calculate the distance between the two points given below:"
   ]
  },
  {
   "cell_type": "code",
   "execution_count": null,
   "metadata": {
    "collapsed": true
   },
   "outputs": [],
   "source": [
    "point_1 = {'x': 5, 'y': 3, 'z': 0}\n",
    "point_2 = {'x': -7, 'y': 7, 'z': 3}\n"
   ]
  }
 ],
 "metadata": {
  "kernelspec": {
   "display_name": "Python 3",
   "language": "python",
   "name": "python3"
  },
  "language_info": {
   "codemirror_mode": {
    "name": "ipython",
    "version": 3
   },
   "file_extension": ".py",
   "mimetype": "text/x-python",
   "name": "python",
   "nbconvert_exporter": "python",
   "pygments_lexer": "ipython3",
   "version": "3.6.1"
  }
 },
 "nbformat": 4,
 "nbformat_minor": 2
}
