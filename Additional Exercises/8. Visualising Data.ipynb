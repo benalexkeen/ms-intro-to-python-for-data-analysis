{
 "cells": [
  {
   "cell_type": "markdown",
   "metadata": {},
   "source": [
    "## Sales Data\n",
    "\n",
    "In this exercise, we're going to explore our sales data a bit more graphically.\n",
    "\n",
    "Read the superstore data in from the `superstore_sales` csv by running the cell below."
   ]
  },
  {
   "cell_type": "code",
   "execution_count": null,
   "metadata": {},
   "outputs": [],
   "source": [
    "import matplotlib.pyplot as plt\n",
    "import numpy as np\n",
    "import pandas as pd\n",
    "\n",
    "# Set the style to use the ggplot style as default\n",
    "plt.style.use('ggplot')\n",
    "\n",
    "\n",
    "sales = pd.read_csv('data/superstore_sales.csv')\n",
    "sales.head()"
   ]
  },
  {
   "cell_type": "markdown",
   "metadata": {},
   "source": [
    "Note that not all of the columns are shown above, if you want to see the names of all of the columns, you can run `df.columns`"
   ]
  },
  {
   "cell_type": "code",
   "execution_count": null,
   "metadata": {},
   "outputs": [],
   "source": []
  },
  {
   "cell_type": "markdown",
   "metadata": {},
   "source": [
    "### Bar Charts"
   ]
  },
  {
   "cell_type": "markdown",
   "metadata": {},
   "source": [
    "You can view the unique values in a column by running `df['col_name'].unique()`, use this to view the unique shipping modes.\n",
    "\n",
    "Do this on the `\"Ship Mode\"` column from the `sales` data frame."
   ]
  },
  {
   "cell_type": "code",
   "execution_count": null,
   "metadata": {},
   "outputs": [],
   "source": [
    "# Write your code to view unique shipping modes here\n"
   ]
  },
  {
   "cell_type": "markdown",
   "metadata": {},
   "source": [
    "Draw a bar graph of the three shipping modes and the **average shipping cost per order** for each one. Shipping cost is in the column `\"Shipping Cost\"`."
   ]
  },
  {
   "cell_type": "code",
   "execution_count": null,
   "metadata": {},
   "outputs": [],
   "source": []
  },
  {
   "cell_type": "markdown",
   "metadata": {},
   "source": [
    "## Line Chart"
   ]
  },
  {
   "cell_type": "markdown",
   "metadata": {},
   "source": [
    "Write a function to that takes a parameter of a string in the format 'DD/MM/YYYY' and returns only the year as an integer."
   ]
  },
  {
   "cell_type": "code",
   "execution_count": null,
   "metadata": {
    "collapsed": true
   },
   "outputs": [],
   "source": []
  },
  {
   "cell_type": "markdown",
   "metadata": {},
   "source": [
    "Map this function onto the column `\"Order Date\"` in order and set the result to a new column `\"Order Year\"`."
   ]
  },
  {
   "cell_type": "code",
   "execution_count": null,
   "metadata": {
    "collapsed": true
   },
   "outputs": [],
   "source": []
  },
  {
   "cell_type": "markdown",
   "metadata": {},
   "source": [
    "Create a Line Chart to show total annual profits for 2009-2012"
   ]
  },
  {
   "cell_type": "code",
   "execution_count": null,
   "metadata": {},
   "outputs": [],
   "source": []
  },
  {
   "cell_type": "markdown",
   "metadata": {},
   "source": [
    "## Boxplots\n",
    "\n",
    "The manager for the Province `Newfoundland` would like to know the spread of the revenues from orders from each of their product categories. The product categories are found in the `\"Product Category\"` column, the revenues are found in the `\"Sales\"` column. \n",
    "\n",
    "Plot the boxplots of revenue for each of the product categories for only the province Newfoundland. "
   ]
  },
  {
   "cell_type": "code",
   "execution_count": null,
   "metadata": {},
   "outputs": [],
   "source": []
  },
  {
   "cell_type": "markdown",
   "metadata": {},
   "source": [
    "## Graphing Challenge\n",
    "\n",
    "It is not expected to be able to reproduce this graph, particularly not at this stage of the course, you might want to come back to it, but take it as a challenge to see how close you can get."
   ]
  },
  {
   "cell_type": "code",
   "execution_count": null,
   "metadata": {},
   "outputs": [],
   "source": [
    "observed = pd.read_csv('data/river_flow_historical_data.csv', names=['Datetime', 'Flow'])\n",
    "prediction = pd.read_csv('data/river_flow_prediction_data.csv', names=['Datetime', 'Flow'])\n",
    "\n",
    "observed['Datetime'] = pd.to_datetime(observed['Datetime'])\n",
    "prediction['Datetime'] = pd.to_datetime(prediction['Datetime'])\n",
    "\n",
    "# Note that these are Series, not Data Frames\n",
    "observed = pd.Series(observed.set_index('Datetime')['Flow'])\n",
    "prediction = pd.Series(prediction.set_index('Datetime')['Flow'])\n",
    "\n",
    "print(observed.head())\n",
    "print(prediction.head())"
   ]
  },
  {
   "cell_type": "markdown",
   "metadata": {},
   "source": [
    "The graph below was created using matplotlib. Try and reproduce it. The observed data and forcecast data is loaded for you using the cell above."
   ]
  },
  {
   "cell_type": "markdown",
   "metadata": {},
   "source": [
    "![graph challenge graph](data/graph.png)"
   ]
  },
  {
   "cell_type": "markdown",
   "metadata": {},
   "source": [
    "Some hints:\n",
    "* `plt.semilogy(x, y)` will give you a semilog line chart with a log base 10 x axis\n",
    "* `plt.fill_between(x, y_1, y_2)` will fill the graph between x, y_1 and y_2\n",
    "* `plt.axhline(y_scalar)` will give you a horizontal line at y\n",
    "* You can order lines/scatter plots by providing a parameter `zorder` - the higher the z-order, the closer to the front of the graph (i.e. a z-order of 2 will be superimposed on top of 1)"
   ]
  },
  {
   "cell_type": "code",
   "execution_count": null,
   "metadata": {},
   "outputs": [],
   "source": [
    "# Don't change this code\n",
    "import datetime\n",
    "\n",
    "plt.style.use('fivethirtyeight')\n",
    "\n",
    "now = max(observed.index)\n",
    "yesterday = now - datetime.timedelta(days=1)\n",
    "plus_12_hours = now + datetime.timedelta(hours=12)\n",
    "\n",
    "x_ticks = pd.date_range('2016-12-24 00:00', '2016-12-26 16:00', freq='12H')\n",
    "x_tick_labels = [x.strftime('%d %b %H:%M') for x in x_ticks]\n",
    "y_ticks = [0.1, 1, 10, 100]\n",
    "\n",
    "max_value = max(pd.concat([observed, prediction]))\n",
    "\n",
    "observed_line_color = '#0050d1'\n",
    "prediction_line_color = '#d10000'\n",
    "now_scatter_color = '#f90000'\n",
    "yesterday_scatter_color = '#00a1b7'\n",
    "plus_12_hours_scatter_color = '#6a00b7'\n",
    "observed_fill_color = '#96beff'\n",
    "prediction_fill_color = '#fc7b7b'\n",
    "max_value_text_color = '#00a1b7'\n",
    "max_value_line_color = '#fc7b7b'\n",
    "\n",
    "plt.figure(figsize=(15, 7))\n",
    "\n",
    "\n",
    "# Your code here\n",
    "\n",
    "# Start with your line graphs for observed and forecast points\n",
    "# These are semilogy plots, the line width is 2, the colors are given above\n",
    "# Remember to label your lines so they appear on the graph\n",
    "\n",
    "\n",
    "\n",
    "\n",
    "# Now add the individual scatter plots\n",
    "# These should be at the front (parameter name `zorder`),\n",
    "# they have a white edgecolor (parameter name `edgecolor`)\n",
    "# Their line width is 2 (parameter name `lw`)\n",
    "# They have a size (parameter name `s`) of 140\n",
    "\n",
    "\n",
    "\n",
    "\n",
    "# The white lines have no x length, they start and end at the same time\n",
    "# The lines on the y axis start at 0.1 and extend up to the flow value at that time\n",
    "\n",
    "\n",
    "\n",
    "\n",
    "\n",
    "# Fill the graphs below between 0.1 and the observed/predicted value\n",
    "# The opacity (`alpha`) of the fill should be 0.5\n",
    "\n",
    "\n",
    "\n",
    "\n",
    "\n",
    "# Create a horizontal line at the maximum value of the observed or prediction\n",
    "# using plt.axhline(), the linewidth should be 2\n",
    "\n",
    "\n",
    "\n",
    "\n",
    "\n",
    "\n",
    "# You can add text to your graph to indicate the maximum value\n",
    "# using plt.text(x, y, text)\n",
    "# the font size should be 14 (parameter name `fontsize`)\n",
    "\n",
    "\n",
    "\n",
    "\n",
    "\n",
    "# x and y ticks take an array of values as the first parameter\n",
    "# and an array of labels as their second parameter\n",
    "# the tick positions and labels are already defined above\n",
    "\n",
    "\n",
    "\n",
    "\n",
    "\n",
    "# The x limit should be set between the minimum observed date\n",
    "# and the maximum prediction date\n",
    "\n",
    "\n",
    "\n",
    "\n",
    "\n",
    "\n",
    "# Add a y label and a title for your graph\n",
    "\n",
    "\n",
    "\n",
    "\n",
    "\n",
    "\n",
    "# Add your legend, you can put the legend outside of the graph\n",
    "# by providing paramaters `loc='center left', bbox_to_anchor=(1, 0.5)`\n",
    "\n",
    "\n",
    "\n",
    "\n",
    "\n",
    "plt.show()"
   ]
  }
 ],
 "metadata": {
  "kernelspec": {
   "display_name": "Python 3",
   "language": "python",
   "name": "python3"
  },
  "language_info": {
   "codemirror_mode": {
    "name": "ipython",
    "version": 3
   },
   "file_extension": ".py",
   "mimetype": "text/x-python",
   "name": "python",
   "nbconvert_exporter": "python",
   "pygments_lexer": "ipython3",
   "version": "3.6.1"
  }
 },
 "nbformat": 4,
 "nbformat_minor": 2
}
