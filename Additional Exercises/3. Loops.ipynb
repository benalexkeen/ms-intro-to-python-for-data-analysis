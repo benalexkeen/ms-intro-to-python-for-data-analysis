{
 "cells": [
  {
   "cell_type": "markdown",
   "metadata": {},
   "source": [
    "### Multiplication Table\n",
    "\n",
    "Write a function `multiplication_table` that will take a number N and print a multiplication table up to $12 \\times N$.\n",
    "\n",
    "e.g. if given 6, it would print:\n",
    "```\n",
    "1 x 6 = 6\n",
    "2 x 6 = 12\n",
    "3 x 6 = 18\n",
    "4 x 6 = 24\n",
    "5 x 6 = 30\n",
    "6 x 6 = 36\n",
    "7 x 6 = 42\n",
    "8 x 6 = 48\n",
    "9 x 6 = 54\n",
    "10 x 6 = 60\n",
    "11 x 6 = 66\n",
    "12 x 6 = 72\n",
    "```"
   ]
  },
  {
   "cell_type": "code",
   "execution_count": null,
   "metadata": {
    "collapsed": true
   },
   "outputs": [],
   "source": []
  },
  {
   "cell_type": "markdown",
   "metadata": {},
   "source": [
    "Try it out with a couple of numbers (N):"
   ]
  },
  {
   "cell_type": "code",
   "execution_count": null,
   "metadata": {
    "collapsed": true
   },
   "outputs": [],
   "source": []
  },
  {
   "cell_type": "markdown",
   "metadata": {},
   "source": [
    "### FizzBuzz\n",
    "\n",
    "FizzBuzz is often a toy question in an interview to show that programmers have the ability to solve a trivial task.\n",
    "\n",
    "Loop through the first 100 integers, if the number is divisible by 3 output \"Fizz\", if the number is divisble by 5 output \"Buzz\", if the number is divisible by both, output \"FizzBuzz\". If the number is not divisible by 3 or 5, output the number."
   ]
  },
  {
   "cell_type": "code",
   "execution_count": null,
   "metadata": {
    "collapsed": true
   },
   "outputs": [],
   "source": []
  },
  {
   "cell_type": "markdown",
   "metadata": {},
   "source": [
    "### Staircase"
   ]
  },
  {
   "cell_type": "markdown",
   "metadata": {},
   "source": [
    "Print a staircase of height N\n",
    "that consists of # symbols and spaces.\n",
    "\n",
    "For example for N=6, here's a staircase of that height:\n",
    "```\n",
    "       #\n",
    "      ##\n",
    "     ###\n",
    "    ####\n",
    "   #####\n",
    "  ######\n",
    "```"
   ]
  },
  {
   "cell_type": "code",
   "execution_count": null,
   "metadata": {
    "collapsed": true
   },
   "outputs": [],
   "source": []
  },
  {
   "cell_type": "markdown",
   "metadata": {},
   "source": [
    "### Calculate Magnitude\n",
    "\n",
    "Write a function `magnitude` that will take a vector N dimensions.\n",
    "\n",
    "The magnitude of the vector is calculated as the square root of the sum of the vector components squared.\n",
    "\n",
    "For a 3 dimensional vector `a` this is:\n",
    "$$ |a| = \\sqrt{x^2 + y^2 + z^2} $$\n",
    "\n",
    "However, your function should be able to calculate the vector in any number of dimensions.\n",
    "\n",
    "So if your function is given the array `[3, 4]`, it should return `5`\n",
    "\n",
    "_Hint: The square root of a number is that number raised to the power of 0.5_"
   ]
  },
  {
   "cell_type": "code",
   "execution_count": null,
   "metadata": {
    "collapsed": true
   },
   "outputs": [],
   "source": []
  },
  {
   "cell_type": "markdown",
   "metadata": {},
   "source": [
    "Run the cell below to test your function"
   ]
  },
  {
   "cell_type": "code",
   "execution_count": null,
   "metadata": {
    "collapsed": true
   },
   "outputs": [],
   "source": [
    "test_1 = magnitude([3, 4]) == 5\n",
    "test_2 = magnitude([12, 9]) == 15\n",
    "test_3 = magnitude([3, 4, 12]) == 13\n",
    "test_4 = magnitude([6, 15, 42]) == 45\n",
    "test_5 = magnitude([17, 28, 4]) == 33\n",
    "test_6 = magnitude([40, 12, 9, 24]) == 49\n",
    "test_7 = magnitude([22, 21, 14, 20]) == 39\n",
    "\n",
    "if all([test_1, test_2, test_3, test_4, test_5, test_6, test_7]):\n",
    "    print(\"Passed\")\n",
    "else:\n",
    "    print(\"Failed\")"
   ]
  },
  {
   "cell_type": "markdown",
   "metadata": {},
   "source": [
    "### Multiples between two numbers\n",
    "\n",
    "Define a function `multiples_between_a_and_b` that takes in 3 integer parameters a, b and c and returns a list that contains all the numbers between a and b that are divisible by c."
   ]
  },
  {
   "cell_type": "code",
   "execution_count": null,
   "metadata": {
    "collapsed": true
   },
   "outputs": [],
   "source": []
  },
  {
   "cell_type": "markdown",
   "metadata": {},
   "source": [
    "Run the cell below to test your function"
   ]
  },
  {
   "cell_type": "code",
   "execution_count": null,
   "metadata": {
    "collapsed": true
   },
   "outputs": [],
   "source": [
    "test_1 = multiples_between_a_and_b(55, 98, 10) == [60, 70, 80, 90]\n",
    "test_2 = multiples_between_a_and_b(5, 20, 2) == [6, 8, 10, 12, 14, 16, 18]\n",
    "test_3 = multiples_between_a_and_b(12, 50, 5) == [15, 20, 25, 30, 35, 40, 45]\n",
    "test_4 = multiples_between_a_and_b(7, 13, 1) == [7, 8, 9, 10, 11, 12]\n",
    "\n",
    "if all([test_1, test_2, test_3, test_4]):\n",
    "    print(\"Passed\")\n",
    "else:\n",
    "    print(\"Failed\")"
   ]
  },
  {
   "cell_type": "markdown",
   "metadata": {},
   "source": [
    "### Squared Numbers\n",
    "\n",
    "For a given positive input integer N, return a dict with every integer from 1 to N as keys with their squared numbers as the values.\n",
    "\n",
    "e.g. `squared_numbers(3)` would return `{1: 1, 2: 4, 3: 9}`"
   ]
  },
  {
   "cell_type": "code",
   "execution_count": null,
   "metadata": {
    "collapsed": true
   },
   "outputs": [],
   "source": []
  },
  {
   "cell_type": "markdown",
   "metadata": {},
   "source": [
    "Run the cell below to test your function"
   ]
  },
  {
   "cell_type": "code",
   "execution_count": null,
   "metadata": {
    "collapsed": true
   },
   "outputs": [],
   "source": [
    "output = squared_numbers(20)\n",
    "test_status = \"Passed\"\n",
    "\n",
    "for i in range(1, 21):\n",
    "    if i not in output.keys():\n",
    "        test_status = \"Failed\"\n",
    "    if output.get(i) != (i ** 2):\n",
    "        test_status = \"Failed\"\n",
    "\n",
    "print(test_status)"
   ]
  },
  {
   "cell_type": "markdown",
   "metadata": {},
   "source": [
    "### Cubed plus 7\n",
    "\n",
    "Use a list comprehension to take all the numbers in the list `starting_numbers`, cube them and add 7"
   ]
  },
  {
   "cell_type": "code",
   "execution_count": null,
   "metadata": {
    "collapsed": true
   },
   "outputs": [],
   "source": [
    "starting_numbers = [1, 3, 5, 6, 8, 12]\n",
    "\n",
    "cubed_plus_7 = # your code here\n",
    "\n",
    "if cubed_plus_7 == [8, 34, 132, 223, 519, 1735]:\n",
    "    print(\"Passed\")\n",
    "else:\n",
    "    print(\"Failed\")"
   ]
  },
  {
   "cell_type": "markdown",
   "metadata": {},
   "source": [
    "### Blackjack\n",
    "\n",
    "In Blackjack, hands are okay if the sum of their values 21 or lower, otherwise they are bust.\n",
    "\n",
    "A \"J\", \"Q\" or \"K\" card all count as 10 and an \"A\" card can be 1 or 11.\n",
    "\n",
    "Define a function `is_not_bust` that takes in a list of card values and returns True if the hand is okay or False is the hand is bust."
   ]
  },
  {
   "cell_type": "code",
   "execution_count": null,
   "metadata": {
    "collapsed": true
   },
   "outputs": [],
   "source": []
  },
  {
   "cell_type": "markdown",
   "metadata": {},
   "source": [
    "Run the cell below with a number of test cases to see if your function passes or fails the tests."
   ]
  },
  {
   "cell_type": "code",
   "execution_count": null,
   "metadata": {
    "collapsed": true
   },
   "outputs": [],
   "source": [
    "test_1 = is_not_bust([2, 10, 9]) is True\n",
    "test_2 = is_not_bust([5, \"J\", \"A\"]) is True\n",
    "test_3 = is_not_bust([9, \"K\"]) is True\n",
    "test_4 = is_not_bust([4, \"Q\", \"K\"]) is False\n",
    "test_5 = is_not_bust([4, \"Q\", \"A\"]) is True\n",
    "test_6 = is_not_bust([4, 3, 7, 9]) is False\n",
    "\n",
    "if all([test_1, test_2, test_3, test_4, test_5, test_6]):\n",
    "    print(\"Passed\")\n",
    "else:\n",
    "    print(\"Failed\")"
   ]
  },
  {
   "cell_type": "markdown",
   "metadata": {},
   "source": [
    "### Select only even numbers\n",
    "\n",
    "Write a function `only_even_numbers` that will take a integer and return only the even digits from that integer.\n",
    "\n",
    "For example if given the number 8374197673 it would return 846.\n",
    "\n",
    "If a number has no even digits, return `None`."
   ]
  },
  {
   "cell_type": "code",
   "execution_count": null,
   "metadata": {
    "collapsed": true
   },
   "outputs": [],
   "source": []
  },
  {
   "cell_type": "markdown",
   "metadata": {},
   "source": [
    "Run the cell below with a number of test cases to see if your function passes or fails the tests."
   ]
  },
  {
   "cell_type": "code",
   "execution_count": null,
   "metadata": {},
   "outputs": [],
   "source": [
    "test_1 = only_even_numbers(16322875) == 6228\n",
    "test_2 = only_even_numbers(2345791) == 24\n",
    "test_3 = only_even_numbers(1315791) is None\n",
    "test_4 = only_even_numbers(24680) == 24680\n",
    "test_5 = only_even_numbers(0) == 0\n",
    "test_6 = only_even_numbers(1) is None\n",
    "\n",
    "if all([test_1, test_2, test_3, test_4, test_5, test_6]):\n",
    "    print(\"Passed\")\n",
    "else:\n",
    "    print(\"Failed\")"
   ]
  },
  {
   "cell_type": "markdown",
   "metadata": {},
   "source": [
    "### Utopian Tree\n",
    "\n",
    "The Utopian Tree goes through 2 cycles of growth every year.\n",
    "Each spring, it doubles in height.\n",
    "Each summer, its height increases by 1 meter.\n",
    "\n",
    "Laura plants a Utopian Tree sapling with a height of 1 meter at the onset of spring.\n",
    "How tall will her tree be after N growth cycles?\n",
    "\n",
    "Define a function `height_after_n_growth_cycles` that takes in a single parameter and returns the height after N growth cycles. "
   ]
  },
  {
   "cell_type": "code",
   "execution_count": null,
   "metadata": {
    "collapsed": true
   },
   "outputs": [],
   "source": [
    "def height_after_n_growth_cycles(n):\n",
    "    # your code here"
   ]
  },
  {
   "cell_type": "markdown",
   "metadata": {},
   "source": [
    "Now run the cell below to check your code:"
   ]
  },
  {
   "cell_type": "code",
   "execution_count": null,
   "metadata": {
    "collapsed": true
   },
   "outputs": [],
   "source": [
    "test_array = [\n",
    "    (0, 1),\n",
    "    (1, 2),\n",
    "    (4, 7),\n",
    "    (10, 63),\n",
    "    (19, 2046),\n",
    "    (31, 131070),\n",
    "    (60, 2147483647)\n",
    "]\n",
    "\n",
    "passing_tests = [\n",
    "    height_after_n_growth_cycles(test_case[0]) == test_case[1]\n",
    "    for test_case in test_array\n",
    "]\n",
    "if all(passing_tests):\n",
    "    print(\"Passed\")\n",
    "else:\n",
    "    print(\"Failed\")"
   ]
  },
  {
   "cell_type": "markdown",
   "metadata": {},
   "source": [
    "### Recursion - Cut the sticks\n",
    "\n",
    "Recursion is a method of solving problems based on the divide and conquer mentality. The basic idea is that you take the original problem and divide it into smaller (more easily solved) instances of itself, solve those smaller instances (usually by using the same algorithm again) and then reassemble them into the final solution.\n",
    "\n",
    "The most common example of this is factorial. A factorial is the product of each integer between that integer and zero, for example:\n",
    "\n",
    "$$ 6! = 6 \\times 5 \\times 4 \\times 3 \\times 2 \\times 1 = 720$$ \n",
    "\n",
    "It is implemented as follows, see if you can work out what happens at each line:"
   ]
  },
  {
   "cell_type": "code",
   "execution_count": null,
   "metadata": {
    "collapsed": true
   },
   "outputs": [],
   "source": [
    "def factorial(x):\n",
    "    if x == 1:\n",
    "        return x\n",
    "    else:\n",
    "        return x * factorial(x-1)"
   ]
  },
  {
   "cell_type": "code",
   "execution_count": null,
   "metadata": {},
   "outputs": [],
   "source": [
    "factorial(6)"
   ]
  },
  {
   "cell_type": "markdown",
   "metadata": {},
   "source": [
    "See if you can implement the fibonacci sequence using recursion. \n",
    "Given a number N, print the Nth fibonacci number.\n",
    "\n",
    "Fibonacci numbers are calculated as follows:\n",
    "\n",
    "$$\n",
    "f(x) = \n",
    "\\begin{cases}\n",
    "0 & \\text{if}\\ x=0 \\\\\n",
    "1 & \\text{if}\\ x=1  \\\\\n",
    "f(x-1) + f(x-2) & \\text{otherwise}\\ \\\\\n",
    "\\end{cases}$$\n",
    "\n",
    "e.g. the first six fibonacci numbers are 1, 1, 2, 3, 5, 8"
   ]
  },
  {
   "cell_type": "code",
   "execution_count": null,
   "metadata": {
    "collapsed": true
   },
   "outputs": [],
   "source": []
  },
  {
   "cell_type": "markdown",
   "metadata": {},
   "source": [
    "Test your function out below, what is the 30th fibonacci number?"
   ]
  },
  {
   "cell_type": "code",
   "execution_count": null,
   "metadata": {
    "collapsed": true
   },
   "outputs": [],
   "source": []
  },
  {
   "cell_type": "markdown",
   "metadata": {},
   "source": [
    "Did you get 832040?"
   ]
  },
  {
   "cell_type": "markdown",
   "metadata": {},
   "source": [
    "Now we're going to try a more advanced application of recursion. \n",
    "\n",
    "You are given N sticks, where the length of each stick is a positive integer. A cut operation is performed on the sticks such that all of them are reduced by the length of the smallest stick.\n",
    "\n",
    "Suppose we have six sticks of the following lengths:  \n",
    "`5 4 4 2 2 8`\n",
    "\n",
    "Then, in one cut operation we make a cut of length 2 from each of the six sticks.\n",
    "\n",
    "For the next cut operation four sticks are left (of non-zero length), whose lengths are the following: \n",
    "` 3 2 2 6`\n",
    "\n",
    "The above step is repeated until no sticks are left.\n",
    "\n",
    "Given the length of  sticks, print the number of sticks that are left before each subsequent cut operations.\n",
    "\n",
    "Name your function `cut_the_sticks` that takes one parameter, which is an array of sticks, and prints the length of the array of the sticks before cutting the sticks.\n",
    "\n",
    "_Note: For each cut operation, you have to recalcuate the length of smallest sticks (excluding zero-length sticks). You can use the built in functions `len()` and `min()` to get the length of an array and the minimum value in an array._\n",
    "\n",
    "If you're having trouble with recursion, have a go with using a while loop instead."
   ]
  },
  {
   "cell_type": "code",
   "execution_count": null,
   "metadata": {
    "collapsed": true
   },
   "outputs": [],
   "source": []
  },
  {
   "cell_type": "markdown",
   "metadata": {},
   "source": [
    "The output of the test below should be:\n",
    "```\n",
    "6\n",
    "4\n",
    "2\n",
    "1\n",
    "```\n",
    "Run the cell to try it out."
   ]
  },
  {
   "cell_type": "code",
   "execution_count": null,
   "metadata": {},
   "outputs": [],
   "source": [
    "cut_the_sticks([5,4,4,2,2,8])"
   ]
  },
  {
   "cell_type": "markdown",
   "metadata": {},
   "source": [
    "The output of the test below should be:\n",
    "```\n",
    "9\n",
    "7\n",
    "5\n",
    "2\n",
    "```\n",
    "Run the cell to try it out."
   ]
  },
  {
   "cell_type": "code",
   "execution_count": null,
   "metadata": {},
   "outputs": [],
   "source": [
    "cut_the_sticks([1,2,3,4,4,3,3,2,1])"
   ]
  }
 ],
 "metadata": {
  "kernelspec": {
   "display_name": "Python 3",
   "language": "python",
   "name": "python3"
  },
  "language_info": {
   "codemirror_mode": {
    "name": "ipython",
    "version": 3
   },
   "file_extension": ".py",
   "mimetype": "text/x-python",
   "name": "python",
   "nbconvert_exporter": "python",
   "pygments_lexer": "ipython3",
   "version": "3.6.1"
  }
 },
 "nbformat": 4,
 "nbformat_minor": 2
}
