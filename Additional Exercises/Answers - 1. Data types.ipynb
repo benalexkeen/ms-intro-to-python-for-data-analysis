{
 "cells": [
  {
   "cell_type": "markdown",
   "metadata": {},
   "source": [
    "### Data Types\n",
    "\n",
    "To find out the data type of any python object you can use the function `type()`.  \n",
    "Run the cell below:"
   ]
  },
  {
   "cell_type": "code",
   "execution_count": 1,
   "metadata": {
    "collapsed": true
   },
   "outputs": [],
   "source": [
    "a = 4\n",
    "b = 5.5\n",
    "c = \"My string\"\n",
    "d = [a, b, c]\n",
    "e = {'a': a, 'b': b, 'c': c}\n",
    "f = (a, b, c)\n",
    "g = {a, b, c}\n",
    "h = print\n",
    "i = True\n",
    "j = None"
   ]
  },
  {
   "cell_type": "markdown",
   "metadata": {},
   "source": [
    "Now using the cells below, find out what each of the data types of the above variables are:"
   ]
  },
  {
   "cell_type": "code",
   "execution_count": 2,
   "metadata": {},
   "outputs": [
    {
     "data": {
      "text/plain": [
       "int"
      ]
     },
     "execution_count": 2,
     "metadata": {},
     "output_type": "execute_result"
    }
   ],
   "source": [
    "# Type of variable `a`\n",
    "type(a)"
   ]
  },
  {
   "cell_type": "code",
   "execution_count": 3,
   "metadata": {},
   "outputs": [
    {
     "data": {
      "text/plain": [
       "float"
      ]
     },
     "execution_count": 3,
     "metadata": {},
     "output_type": "execute_result"
    }
   ],
   "source": [
    "# Type of variable `b`\n",
    "type(b)"
   ]
  },
  {
   "cell_type": "code",
   "execution_count": 4,
   "metadata": {},
   "outputs": [
    {
     "data": {
      "text/plain": [
       "str"
      ]
     },
     "execution_count": 4,
     "metadata": {},
     "output_type": "execute_result"
    }
   ],
   "source": [
    "# Type of variable `c`\n",
    "type(c)"
   ]
  },
  {
   "cell_type": "code",
   "execution_count": 5,
   "metadata": {},
   "outputs": [
    {
     "data": {
      "text/plain": [
       "list"
      ]
     },
     "execution_count": 5,
     "metadata": {},
     "output_type": "execute_result"
    }
   ],
   "source": [
    "# Type of variable `d`\n",
    "type(d)"
   ]
  },
  {
   "cell_type": "code",
   "execution_count": 6,
   "metadata": {},
   "outputs": [
    {
     "data": {
      "text/plain": [
       "dict"
      ]
     },
     "execution_count": 6,
     "metadata": {},
     "output_type": "execute_result"
    }
   ],
   "source": [
    "# Type of variable `e`\n",
    "type(e)"
   ]
  },
  {
   "cell_type": "code",
   "execution_count": 7,
   "metadata": {},
   "outputs": [
    {
     "data": {
      "text/plain": [
       "tuple"
      ]
     },
     "execution_count": 7,
     "metadata": {},
     "output_type": "execute_result"
    }
   ],
   "source": [
    "# Type of variable `f`\n",
    "type(f)"
   ]
  },
  {
   "cell_type": "code",
   "execution_count": 8,
   "metadata": {},
   "outputs": [
    {
     "data": {
      "text/plain": [
       "set"
      ]
     },
     "execution_count": 8,
     "metadata": {},
     "output_type": "execute_result"
    }
   ],
   "source": [
    "# Type of variable `g`\n",
    "type(g)"
   ]
  },
  {
   "cell_type": "code",
   "execution_count": 9,
   "metadata": {},
   "outputs": [
    {
     "data": {
      "text/plain": [
       "builtin_function_or_method"
      ]
     },
     "execution_count": 9,
     "metadata": {},
     "output_type": "execute_result"
    }
   ],
   "source": [
    "# Type of variable `h`\n",
    "type(h)"
   ]
  },
  {
   "cell_type": "code",
   "execution_count": 10,
   "metadata": {},
   "outputs": [
    {
     "data": {
      "text/plain": [
       "bool"
      ]
     },
     "execution_count": 10,
     "metadata": {},
     "output_type": "execute_result"
    }
   ],
   "source": [
    "# Type of variable `i`\n",
    "type(i)"
   ]
  },
  {
   "cell_type": "code",
   "execution_count": 11,
   "metadata": {},
   "outputs": [
    {
     "data": {
      "text/plain": [
       "NoneType"
      ]
     },
     "execution_count": 11,
     "metadata": {},
     "output_type": "execute_result"
    }
   ],
   "source": [
    "# Type of variable `j`\n",
    "type(j)"
   ]
  },
  {
   "cell_type": "markdown",
   "metadata": {},
   "source": [
    "### Volume of a Sphere\n",
    "\n",
    "Given that the volume of a sphere is given by:\n",
    "$$ \\dfrac{4}{3} \\pi r^3 $$\n",
    "\n",
    "Calulate the volume of a sphere with radius 5 cm"
   ]
  },
  {
   "cell_type": "code",
   "execution_count": 12,
   "metadata": {},
   "outputs": [
    {
     "data": {
      "text/plain": [
       "104.69999999999999"
      ]
     },
     "execution_count": 12,
     "metadata": {},
     "output_type": "execute_result"
    }
   ],
   "source": [
    "r = 5\n",
    "pi = 3.141\n",
    "\n",
    "(4 / 3) * pi * (r ** 2)"
   ]
  },
  {
   "cell_type": "markdown",
   "metadata": {},
   "source": [
    "### Gravitational Force between 2 objects\n",
    "\n",
    "The gravitational force exerted between 2 objects is given as:\n",
    "$$ F = \\dfrac{G m_1 m_2}{r^2} $$\n",
    "\n",
    "Where $G$ is the gravitational constant, $m_1$ and $m_2$ are the masses of the two objects and $r$ is the distance between them.\n",
    "\n",
    "Using the values given in the cell below, calculate the gravitational force between Earth and the Moon."
   ]
  },
  {
   "cell_type": "code",
   "execution_count": 13,
   "metadata": {},
   "outputs": [
    {
     "data": {
      "text/plain": [
       "1.9914386083261776e+20"
      ]
     },
     "execution_count": 13,
     "metadata": {},
     "output_type": "execute_result"
    }
   ],
   "source": [
    "G = 6.6726 * 10 ** -11\n",
    "masses = [6.0 * 10 ** 24, 7.35 * 10 ** 22]\n",
    "r = 3.844 * 10 ** 8\n",
    "\n",
    "\n",
    "(G * masses[0] * masses[1]) / r ** 2"
   ]
  },
  {
   "cell_type": "markdown",
   "metadata": {},
   "source": [
    "### Solving Quadratic Equations\n",
    "\n",
    "The quadratic formula is:\n",
    "\n",
    "$$ x = \\dfrac{-b \\pm \\sqrt{b^2 - 4ac}}{2a}$$\n",
    "\n",
    "to calculate the roots of an equation in the format:\n",
    "\n",
    "$$ ax^2 + bx + c $$\n",
    "\n",
    "Use the quadratic formula to solve:\n",
    "\n",
    "$$ 2x^2 + 5x - 3 = 0 $$\n",
    "\n",
    "_hint: The square root of a number is the number raised to the power of 0.5_"
   ]
  },
  {
   "cell_type": "code",
   "execution_count": 14,
   "metadata": {},
   "outputs": [
    {
     "name": "stdout",
     "output_type": "stream",
     "text": [
      "0.5\n",
      "-3.0\n"
     ]
    }
   ],
   "source": [
    "a = 2\n",
    "b = 5\n",
    "c = -3\n",
    "\n",
    "# Write your code here\n",
    "root_1 = (-b + ((b ** 2 - 4 * a * c)) ** 0.5) / (2 * a)\n",
    "root_2 = (-b - ((b ** 2 - 4 * a * c)) ** 0.5) / (2 * a)\n",
    "print(root_1)\n",
    "print(root_2)"
   ]
  },
  {
   "cell_type": "markdown",
   "metadata": {},
   "source": [
    "Run the cell below to check your answers, no need to write/change any code here. \n",
    "\n",
    "We will go through in the next session what a lot of this code means"
   ]
  },
  {
   "cell_type": "code",
   "execution_count": 15,
   "metadata": {},
   "outputs": [
    {
     "data": {
      "image/png": "[encoded data removed]",
      "text/plain": [
       "<matplotlib.figure.Figure at 0x10f1fc518>"
      ]
     },
     "metadata": {},
     "output_type": "display_data"
    }
   ],
   "source": [
    "import numpy as np\n",
    "import matplotlib.pyplot as plt\n",
    "\n",
    "fig = plt.figure(figsize=(10, 7))\n",
    "ax = fig.add_subplot(111)\n",
    "\n",
    "ax.spines['left'].set_position('zero')\n",
    "ax.spines['right'].set_color('none')\n",
    "ax.spines['bottom'].set_position('zero')\n",
    "ax.spines['top'].set_color('none')\n",
    "ax.set_xticks(np.arange(-5, 5.5, 0.5))\n",
    "\n",
    "x = np.arange(-5, 5, 0.1)\n",
    "y = 2 * x**2 + 5*x - 3\n",
    "\n",
    "plt.plot(x, y)\n",
    "plt.show()"
   ]
  },
  {
   "cell_type": "markdown",
   "metadata": {},
   "source": [
    "### Distance between two points\n",
    "\n",
    "Using pythagoras, we know that the difference between two points in Euclidean space is:\n",
    "\n",
    "$$ \\sqrt{(x_1 - x_2)^2 + (y_1 - y_2)^2 + (z_1 - z_2)^2}$$\n",
    "\n",
    "Calculate the distance between the two points given below:"
   ]
  },
  {
   "cell_type": "code",
   "execution_count": 16,
   "metadata": {},
   "outputs": [
    {
     "data": {
      "text/plain": [
       "13.0"
      ]
     },
     "execution_count": 16,
     "metadata": {},
     "output_type": "execute_result"
    }
   ],
   "source": [
    "point_1 = {'x': 5, 'y': 3, 'z': 0}\n",
    "point_2 = {'x': -7, 'y': 7, 'z': 3}\n",
    "\n",
    "\n",
    "delta_x = point_1['x'] - point_2['x']\n",
    "delta_y = point_1['y'] - point_2['y']\n",
    "delta_z = point_1['z'] - point_2['z']\n",
    "\n",
    "(delta_x ** 2 + delta_y ** 2 + delta_z ** 2) ** 0.5"
   ]
  }
 ],
 "metadata": {
  "kernelspec": {
   "display_name": "Python 3",
   "language": "python",
   "name": "python3"
  },
  "language_info": {
   "codemirror_mode": {
    "name": "ipython",
    "version": 3
   },
   "file_extension": ".py",
   "mimetype": "text/x-python",
   "name": "python",
   "nbconvert_exporter": "python",
   "pygments_lexer": "ipython3",
   "version": "3.6.1"
  }
 },
 "nbformat": 4,
 "nbformat_minor": 2
}
