{
 "cells": [
  {
   "cell_type": "markdown",
   "metadata": {},
   "source": [
    "### Absolute values\n",
    "\n",
    "Define a function `absolute` that takes in a value and returns the absolute value of that number. Don't use python's in-built `abs` function."
   ]
  },
  {
   "cell_type": "code",
   "execution_count": 1,
   "metadata": {
    "collapsed": true
   },
   "outputs": [],
   "source": [
    "def absolute(x):\n",
    "    if x < 0:\n",
    "        return x * -1\n",
    "    else:\n",
    "        return x"
   ]
  },
  {
   "cell_type": "markdown",
   "metadata": {},
   "source": [
    "Test your function by running the cell below:"
   ]
  },
  {
   "cell_type": "code",
   "execution_count": 2,
   "metadata": {},
   "outputs": [
    {
     "name": "stdout",
     "output_type": "stream",
     "text": [
      "Passed\n"
     ]
    }
   ],
   "source": [
    "test_1 = absolute(5) == 5\n",
    "test_2 = absolute(0) == 0\n",
    "test_3 = absolute(-5.6) == 5.6\n",
    "\n",
    "if all([test_1, test_2, test_3]):\n",
    "    print(\"Passed\")\n",
    "else:\n",
    "    print(\"Failed\")"
   ]
  },
  {
   "cell_type": "markdown",
   "metadata": {},
   "source": [
    "### Vowels\n",
    "\n",
    "Define a function `is_vowel` that takes a single character as a parameter and returns `True` if the character is a vowel (a, e, i, o or u) and returns `False` otherwise."
   ]
  },
  {
   "cell_type": "code",
   "execution_count": 3,
   "metadata": {
    "collapsed": true
   },
   "outputs": [],
   "source": [
    "def is_vowel(char):\n",
    "    if char in 'aeiou':\n",
    "        return True\n",
    "    else:\n",
    "        return False"
   ]
  },
  {
   "cell_type": "markdown",
   "metadata": {},
   "source": [
    "Now run the cell below to test your function"
   ]
  },
  {
   "cell_type": "code",
   "execution_count": 4,
   "metadata": {},
   "outputs": [
    {
     "name": "stdout",
     "output_type": "stream",
     "text": [
      "Passed\n"
     ]
    }
   ],
   "source": [
    "test_1 = is_vowel('a') is True\n",
    "test_2 = is_vowel('b') is False\n",
    "test_3 = is_vowel('e') is True\n",
    "test_4 = is_vowel('q') is False\n",
    "test_5 = is_vowel('u') is True\n",
    "test_6 = is_vowel('4') is False\n",
    "test_7 = is_vowel('y') is False\n",
    "test_8 = is_vowel('z') is False\n",
    "\n",
    "if all([test_1, test_2, test_3, test_4, test_5, test_6, test_7, test_8]):\n",
    "    print(\"Passed\")\n",
    "else:\n",
    "    print(\"Failed\")"
   ]
  },
  {
   "cell_type": "markdown",
   "metadata": {},
   "source": [
    "### Parsing Email Address Domains\n",
    "\n",
    "Write a function `get_domain` that takes an email address and returns only the domain of the email address.\n",
    "\n",
    "e.g. \"john.doe@gmail.com\" would return \"gmail.com\""
   ]
  },
  {
   "cell_type": "code",
   "execution_count": 5,
   "metadata": {
    "collapsed": true
   },
   "outputs": [],
   "source": [
    "def get_domain(email):\n",
    "    split_email = email.split('@')\n",
    "    domain = split_email[-1]\n",
    "    return domain"
   ]
  },
  {
   "cell_type": "markdown",
   "metadata": {},
   "source": [
    "Now run the cell below to test your function on a number of test cases.§"
   ]
  },
  {
   "cell_type": "code",
   "execution_count": 6,
   "metadata": {},
   "outputs": [
    {
     "name": "stdout",
     "output_type": "stream",
     "text": [
      "Passed\n"
     ]
    }
   ],
   "source": [
    "test_1 = get_domain('peter.parker@yahoo.com') == 'yahoo.com'\n",
    "test_2 = get_domain('tonystark@hitachi.eu') == 'hitachi.eu'\n",
    "test_3 = get_domain('bruce_wayne@wayne-enterprises.com') == 'wayne-enterprises.com'\n",
    "test_4 = get_domain('steve-rogers@gmail.com') == 'gmail.com'\n",
    "test_5 = get_domain('reed-richards@state.university.edu') == 'state.university.edu'\n",
    "test_6 = get_domain('brucebanner@smash.com') == 'smash.com'\n",
    "\n",
    "if all([test_1, test_2, test_3, test_4, test_5, test_6]):\n",
    "    print(\"Passed\")\n",
    "else:\n",
    "    print(\"Failed\")"
   ]
  },
  {
   "cell_type": "markdown",
   "metadata": {},
   "source": [
    "### Grading University Scores\n",
    "\n",
    "Define a function `grade` that takes one parameter (score) and prints the grade from this score. The grade cut-off points are:\n",
    "* 70 - 1st Class\n",
    "* 60 - 2:1\n",
    "* 50 - 2:2\n",
    "* 40 - 3rd Class\n",
    "* <40 - Fail\n",
    "\n"
   ]
  },
  {
   "cell_type": "code",
   "execution_count": 7,
   "metadata": {
    "collapsed": true
   },
   "outputs": [],
   "source": [
    "def grade(score):\n",
    "    if score >= 70:\n",
    "        print(\"1st Class\")\n",
    "    elif score >= 60:\n",
    "        print(\"2:1\")\n",
    "    elif score >= 50:\n",
    "        print(\"2:2\")\n",
    "    elif score >= 40:\n",
    "        print(\"3rd Class\")\n",
    "    else:\n",
    "        print(\"Fail\")"
   ]
  },
  {
   "cell_type": "markdown",
   "metadata": {},
   "source": [
    "Run the cell below to see how well your function does:"
   ]
  },
  {
   "cell_type": "code",
   "execution_count": 8,
   "metadata": {},
   "outputs": [
    {
     "name": "stdout",
     "output_type": "stream",
     "text": [
      "1st Class\n",
      "1st Class\n",
      "2:1\n",
      "2:1\n",
      "2:2\n",
      "2:2\n",
      "3rd Class\n",
      "3rd Class\n",
      "Fail\n",
      "Fail\n"
     ]
    }
   ],
   "source": [
    "grade(75)\n",
    "grade(70)\n",
    "grade(69)\n",
    "grade(60)\n",
    "grade(55.5)\n",
    "grade(50)\n",
    "grade(40)\n",
    "grade(49.9)\n",
    "grade(31)\n",
    "grade(0)"
   ]
  },
  {
   "cell_type": "markdown",
   "metadata": {},
   "source": [
    "### Get the maximum\n",
    "\n",
    "Define a function `maximum` that takes three parameters and prints the largest number of the 3."
   ]
  },
  {
   "cell_type": "code",
   "execution_count": 9,
   "metadata": {
    "collapsed": true
   },
   "outputs": [],
   "source": [
    "def maximum(a, b, c):\n",
    "    if (a >= b) and (a >= c):\n",
    "        print(a)\n",
    "    elif (b >= a) and (b >= c):\n",
    "        print(b)\n",
    "    else:\n",
    "        print(c)"
   ]
  },
  {
   "cell_type": "markdown",
   "metadata": {},
   "source": [
    "Now try out your function by running the following cell.\n",
    "\n",
    "How does your function do?"
   ]
  },
  {
   "cell_type": "code",
   "execution_count": 10,
   "metadata": {},
   "outputs": [
    {
     "name": "stdout",
     "output_type": "stream",
     "text": [
      "10\n",
      "8.1\n",
      "5\n",
      "12\n",
      "0\n",
      "-10\n"
     ]
    }
   ],
   "source": [
    "maximum(10, 5, 4)\n",
    "maximum(7.4, 3.2, 8.1)\n",
    "maximum(-5, 0, 5)\n",
    "maximum(12, 4, 12)\n",
    "maximum(0, 0, 0)\n",
    "maximum(-10, -30, -20)"
   ]
  },
  {
   "cell_type": "markdown",
   "metadata": {},
   "source": [
    "### Currency Converter\n",
    "\n",
    "Define a function `convert_to_gbp`, if the string starts with a `\"£\"`, strip the pound symbol, convert the remaining string to a float and return the result.\n",
    "\n",
    "If the strings starts with `\"€\"` strip the euro symbol from the beginning of the string and divide the resulting number by 1.1 and return the result.\n",
    "\n",
    "If the string starts with `\"$\"` strip the dollar symbol from the beginning of the string and divide the resulting number by 1.3 and return the result.\n",
    "\n",
    "In all cases, round the result to 2 decimal places (pennies) using the `round()` function."
   ]
  },
  {
   "cell_type": "code",
   "execution_count": 11,
   "metadata": {
    "collapsed": true
   },
   "outputs": [],
   "source": [
    "def convert_to_gbp(currency_str):\n",
    "    if currency_str.startswith('£'):\n",
    "        pounds = float(currency_str.lstrip('£'))\n",
    "    elif currency_str.startswith('€'):\n",
    "        pounds = float(currency_str.lstrip('€')) / 1.1\n",
    "    elif currency_str.startswith('$'):\n",
    "        pounds = float(currency_str.lstrip('$')) / 1.3\n",
    "    else:\n",
    "        raise ValueError(\"Expected a string starting with £, €, or $\")\n",
    "    pounds = round(pounds, 2)\n",
    "    return pounds"
   ]
  },
  {
   "cell_type": "markdown",
   "metadata": {},
   "source": [
    "Try out the test cases below to see if your currency converter is working as expected:"
   ]
  },
  {
   "cell_type": "code",
   "execution_count": 12,
   "metadata": {},
   "outputs": [
    {
     "name": "stdout",
     "output_type": "stream",
     "text": [
      "Passed\n"
     ]
    }
   ],
   "source": [
    "test_1 = convert_to_gbp('£14.02') == 14.02\n",
    "test_2 = convert_to_gbp('€4.95') == 4.50\n",
    "test_3 = convert_to_gbp('$9.10') == 7.00\n",
    "\n",
    "if all([test_1, test_2, test_3]):\n",
    "    print(\"Passed\")\n",
    "else:\n",
    "    print(\"Failed\")"
   ]
  },
  {
   "cell_type": "markdown",
   "metadata": {},
   "source": [
    "### Airline Codes\n",
    "\n",
    "A common task when working with data is extracting data that comes in as a character string.\n",
    "\n",
    "Strings are indexed the same way that lists are e.g. `string[4]` will return you the 5th character of the string (zero-indexed), `string[3:]` will return you all characters from the 4th character onwards.\n",
    "\n",
    "Let's say we have two airlines that format some flight IDs differently.\n",
    "\n",
    "American European Airlines (AEA) formats their IDs as 3-letter airline code, departure airport code, flight number, and arrival airport code. For example:\n",
    "\n",
    "* AEA_JFK_3425_LGW\n",
    "* AEA_MCO_12314_LHR\n",
    "\n",
    "North Atlantic Airways (NAA) formats their IDs as 3-letter airline code, flight number, departure airport, arrival airport.\n",
    "\n",
    "* SPA_12312_IAD_LHR\n",
    "* SPA_487_BOS_DUB\n",
    "\n",
    "Write a function `parse_airline_code` that takes in a parameter of flight ID and returns a tuple of `(airline, departure_airport, arrival_airport)`."
   ]
  },
  {
   "cell_type": "code",
   "execution_count": 13,
   "metadata": {
    "collapsed": true
   },
   "outputs": [],
   "source": [
    "airport_map = {\n",
    "    'JFK': 'John F. Kennedy Airport',\n",
    "    'DUB': 'Dublin Airport',\n",
    "    'LHR': 'London Heathrow Airport',\n",
    "    'LGW': 'London Gatwick Airport',\n",
    "    'MCO': 'Orlando International Airport',\n",
    "    'BOS': 'Boston Logan International Airport',\n",
    "    'IAD': 'Washington Dulles International Airport',\n",
    "    'AMS': 'Amsterdam Airport Schiphol'\n",
    "}\n",
    "\n",
    "airline_map = {\n",
    "    'AEA': 'American European Airlines',\n",
    "    'NAA': 'North Atlantic Airways'\n",
    "}\n",
    "\n",
    "\n",
    "def parse_airline_code(flight_id):\n",
    "    airline_code = flight_id[:3]\n",
    "    airline = airline_map[airline_code]\n",
    "    if airline_code == 'AEA':\n",
    "        departure_code = flight_id[4:7]\n",
    "        arrival_code = flight_id[-3:]\n",
    "    elif airline_code == 'NAA':\n",
    "        departure_code = flight_id[-7:-4]\n",
    "        arrival_code = flight_id[-3:]\n",
    "    departure_airport = airport_map[departure_code]\n",
    "    arrival_airport = airport_map[arrival_code]\n",
    "    return (airline, departure_airport, arrival_airport)"
   ]
  },
  {
   "cell_type": "markdown",
   "metadata": {},
   "source": [
    "Now run the cell below to test your code."
   ]
  },
  {
   "cell_type": "code",
   "execution_count": 14,
   "metadata": {},
   "outputs": [
    {
     "name": "stdout",
     "output_type": "stream",
     "text": [
      "Passed\n"
     ]
    }
   ],
   "source": [
    "test_1 = parse_airline_code('AEA_LGW_3183_BOS') == (\n",
    "    'American European Airlines', 'London Gatwick Airport', 'Boston Logan International Airport'\n",
    ")\n",
    "test_2 = parse_airline_code('NAA_31293_IAD_DUB') == (\n",
    "    'North Atlantic Airways', 'Washington Dulles International Airport', 'Dublin Airport'\n",
    ")\n",
    "test_3 = parse_airline_code('AEA_MCO_17_LHR') == (\n",
    "    'American European Airlines', 'Orlando International Airport', 'London Heathrow Airport'\n",
    ")\n",
    "test_4 = parse_airline_code('NAA_9457_JFK_AMS') == (\n",
    "    'North Atlantic Airways', 'John F. Kennedy Airport', 'Amsterdam Airport Schiphol'\n",
    ")\n",
    "\n",
    "if all([test_1, test_2, test_3, test_4]):\n",
    "    print(\"Passed\")\n",
    "else:\n",
    "    print(\"Failed\")"
   ]
  }
 ],
 "metadata": {
  "kernelspec": {
   "display_name": "Python 3",
   "language": "python",
   "name": "python3"
  },
  "language_info": {
   "codemirror_mode": {
    "name": "ipython",
    "version": 3
   },
   "file_extension": ".py",
   "mimetype": "text/x-python",
   "name": "python",
   "nbconvert_exporter": "python",
   "pygments_lexer": "ipython3",
   "version": "3.6.1"
  }
 },
 "nbformat": 4,
 "nbformat_minor": 2
}
