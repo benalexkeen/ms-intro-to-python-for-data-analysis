{
 "cells": [
  {
   "cell_type": "markdown",
   "metadata": {},
   "source": [
    "### Cars"
   ]
  },
  {
   "cell_type": "markdown",
   "metadata": {},
   "source": [
    "Run the cell below to get a Data Frame with information on cars from different countries, including cars per capita and whether they drive on the right or the left.\n",
    "\n",
    "This data set is from Data Camp so may be familiar to some."
   ]
  },
  {
   "cell_type": "code",
   "execution_count": 1,
   "metadata": {},
   "outputs": [
    {
     "data": {
      "text/html": [
       "<div>\n",
       "<style>\n",
       "    .dataframe thead tr:only-child th {\n",
       "        text-align: right;\n",
       "    }\n",
       "\n",
       "    .dataframe thead th {\n",
       "        text-align: left;\n",
       "    }\n",
       "\n",
       "    .dataframe tbody tr th {\n",
       "        vertical-align: top;\n",
       "    }\n",
       "</style>\n",
       "<table border=\"1\" class=\"dataframe\">\n",
       "  <thead>\n",
       "    <tr style=\"text-align: right;\">\n",
       "      <th></th>\n",
       "      <th>cars_per_cap</th>\n",
       "      <th>country</th>\n",
       "      <th>drives_right</th>\n",
       "    </tr>\n",
       "  </thead>\n",
       "  <tbody>\n",
       "    <tr>\n",
       "      <th>US</th>\n",
       "      <td>809</td>\n",
       "      <td>United States</td>\n",
       "      <td>True</td>\n",
       "    </tr>\n",
       "    <tr>\n",
       "      <th>AUS</th>\n",
       "      <td>731</td>\n",
       "      <td>Australia</td>\n",
       "      <td>False</td>\n",
       "    </tr>\n",
       "    <tr>\n",
       "      <th>JAP</th>\n",
       "      <td>588</td>\n",
       "      <td>Japan</td>\n",
       "      <td>False</td>\n",
       "    </tr>\n",
       "    <tr>\n",
       "      <th>IN</th>\n",
       "      <td>18</td>\n",
       "      <td>India</td>\n",
       "      <td>False</td>\n",
       "    </tr>\n",
       "    <tr>\n",
       "      <th>RU</th>\n",
       "      <td>200</td>\n",
       "      <td>Russia</td>\n",
       "      <td>True</td>\n",
       "    </tr>\n",
       "    <tr>\n",
       "      <th>MOR</th>\n",
       "      <td>70</td>\n",
       "      <td>Morocco</td>\n",
       "      <td>True</td>\n",
       "    </tr>\n",
       "    <tr>\n",
       "      <th>EG</th>\n",
       "      <td>45</td>\n",
       "      <td>Egypt</td>\n",
       "      <td>True</td>\n",
       "    </tr>\n",
       "  </tbody>\n",
       "</table>\n",
       "</div>"
      ],
      "text/plain": [
       "     cars_per_cap        country  drives_right\n",
       "US            809  United States          True\n",
       "AUS           731      Australia         False\n",
       "JAP           588          Japan         False\n",
       "IN             18          India         False\n",
       "RU            200         Russia          True\n",
       "MOR            70        Morocco          True\n",
       "EG             45          Egypt          True"
      ]
     },
     "execution_count": 1,
     "metadata": {},
     "output_type": "execute_result"
    }
   ],
   "source": [
    "import pandas as pd\n",
    "import numpy as np\n",
    "\n",
    "cars = pd.DataFrame([\n",
    "    {'cars_per_cap': 809, 'country': 'United States', 'drives_right': True},\n",
    "    {'cars_per_cap': 731, 'country': 'Australia', 'drives_right': False},\n",
    "    {'cars_per_cap': 588, 'country': 'Japan', 'drives_right': False},\n",
    "    {'cars_per_cap': 18, 'country': 'India', 'drives_right': False},\n",
    "    {'cars_per_cap': 200, 'country': 'Russia', 'drives_right': True},\n",
    "    {'cars_per_cap': 70, 'country': 'Morocco', 'drives_right': True},\n",
    "    {'cars_per_cap': 45, 'country': 'Egypt', 'drives_right': True}\n",
    "], index=['US', 'AUS', 'JAP', 'IN', 'RU', 'MOR', 'EG'])\n",
    "\n",
    "cars"
   ]
  },
  {
   "cell_type": "markdown",
   "metadata": {},
   "source": [
    "Print out the first 4 observations (rows) using `iloc`."
   ]
  },
  {
   "cell_type": "code",
   "execution_count": 2,
   "metadata": {},
   "outputs": [
    {
     "data": {
      "text/html": [
       "<div>\n",
       "<style>\n",
       "    .dataframe thead tr:only-child th {\n",
       "        text-align: right;\n",
       "    }\n",
       "\n",
       "    .dataframe thead th {\n",
       "        text-align: left;\n",
       "    }\n",
       "\n",
       "    .dataframe tbody tr th {\n",
       "        vertical-align: top;\n",
       "    }\n",
       "</style>\n",
       "<table border=\"1\" class=\"dataframe\">\n",
       "  <thead>\n",
       "    <tr style=\"text-align: right;\">\n",
       "      <th></th>\n",
       "      <th>cars_per_cap</th>\n",
       "      <th>country</th>\n",
       "      <th>drives_right</th>\n",
       "    </tr>\n",
       "  </thead>\n",
       "  <tbody>\n",
       "    <tr>\n",
       "      <th>US</th>\n",
       "      <td>809</td>\n",
       "      <td>United States</td>\n",
       "      <td>True</td>\n",
       "    </tr>\n",
       "    <tr>\n",
       "      <th>AUS</th>\n",
       "      <td>731</td>\n",
       "      <td>Australia</td>\n",
       "      <td>False</td>\n",
       "    </tr>\n",
       "    <tr>\n",
       "      <th>JAP</th>\n",
       "      <td>588</td>\n",
       "      <td>Japan</td>\n",
       "      <td>False</td>\n",
       "    </tr>\n",
       "    <tr>\n",
       "      <th>IN</th>\n",
       "      <td>18</td>\n",
       "      <td>India</td>\n",
       "      <td>False</td>\n",
       "    </tr>\n",
       "  </tbody>\n",
       "</table>\n",
       "</div>"
      ],
      "text/plain": [
       "     cars_per_cap        country  drives_right\n",
       "US            809  United States          True\n",
       "AUS           731      Australia         False\n",
       "JAP           588          Japan         False\n",
       "IN             18          India         False"
      ]
     },
     "execution_count": 2,
     "metadata": {},
     "output_type": "execute_result"
    }
   ],
   "source": [
    "cars.iloc[0:4]"
   ]
  },
  {
   "cell_type": "markdown",
   "metadata": {},
   "source": [
    "Print out the 6th and 7th observations"
   ]
  },
  {
   "cell_type": "code",
   "execution_count": 3,
   "metadata": {},
   "outputs": [
    {
     "data": {
      "text/html": [
       "<div>\n",
       "<style>\n",
       "    .dataframe thead tr:only-child th {\n",
       "        text-align: right;\n",
       "    }\n",
       "\n",
       "    .dataframe thead th {\n",
       "        text-align: left;\n",
       "    }\n",
       "\n",
       "    .dataframe tbody tr th {\n",
       "        vertical-align: top;\n",
       "    }\n",
       "</style>\n",
       "<table border=\"1\" class=\"dataframe\">\n",
       "  <thead>\n",
       "    <tr style=\"text-align: right;\">\n",
       "      <th></th>\n",
       "      <th>cars_per_cap</th>\n",
       "      <th>country</th>\n",
       "      <th>drives_right</th>\n",
       "    </tr>\n",
       "  </thead>\n",
       "  <tbody>\n",
       "    <tr>\n",
       "      <th>MOR</th>\n",
       "      <td>70</td>\n",
       "      <td>Morocco</td>\n",
       "      <td>True</td>\n",
       "    </tr>\n",
       "    <tr>\n",
       "      <th>EG</th>\n",
       "      <td>45</td>\n",
       "      <td>Egypt</td>\n",
       "      <td>True</td>\n",
       "    </tr>\n",
       "  </tbody>\n",
       "</table>\n",
       "</div>"
      ],
      "text/plain": [
       "     cars_per_cap  country  drives_right\n",
       "MOR            70  Morocco          True\n",
       "EG             45    Egypt          True"
      ]
     },
     "execution_count": 3,
     "metadata": {},
     "output_type": "execute_result"
    }
   ],
   "source": [
    "cars.iloc[-2:]"
   ]
  },
  {
   "cell_type": "markdown",
   "metadata": {},
   "source": [
    "Print out the observations from Japan and Morocco."
   ]
  },
  {
   "cell_type": "code",
   "execution_count": 4,
   "metadata": {},
   "outputs": [
    {
     "data": {
      "text/html": [
       "<div>\n",
       "<style>\n",
       "    .dataframe thead tr:only-child th {\n",
       "        text-align: right;\n",
       "    }\n",
       "\n",
       "    .dataframe thead th {\n",
       "        text-align: left;\n",
       "    }\n",
       "\n",
       "    .dataframe tbody tr th {\n",
       "        vertical-align: top;\n",
       "    }\n",
       "</style>\n",
       "<table border=\"1\" class=\"dataframe\">\n",
       "  <thead>\n",
       "    <tr style=\"text-align: right;\">\n",
       "      <th></th>\n",
       "      <th>cars_per_cap</th>\n",
       "      <th>country</th>\n",
       "      <th>drives_right</th>\n",
       "    </tr>\n",
       "  </thead>\n",
       "  <tbody>\n",
       "    <tr>\n",
       "      <th>JAP</th>\n",
       "      <td>588</td>\n",
       "      <td>Japan</td>\n",
       "      <td>False</td>\n",
       "    </tr>\n",
       "    <tr>\n",
       "      <th>MOR</th>\n",
       "      <td>70</td>\n",
       "      <td>Morocco</td>\n",
       "      <td>True</td>\n",
       "    </tr>\n",
       "  </tbody>\n",
       "</table>\n",
       "</div>"
      ],
      "text/plain": [
       "     cars_per_cap  country  drives_right\n",
       "JAP           588    Japan         False\n",
       "MOR            70  Morocco          True"
      ]
     },
     "execution_count": 4,
     "metadata": {},
     "output_type": "execute_result"
    }
   ],
   "source": [
    "cars.loc[['JAP', 'MOR']]"
   ]
  },
  {
   "cell_type": "markdown",
   "metadata": {},
   "source": [
    "Print out just the columns `\"cars_per_cap\"` and `\"drives_right\"`."
   ]
  },
  {
   "cell_type": "code",
   "execution_count": 5,
   "metadata": {},
   "outputs": [
    {
     "data": {
      "text/html": [
       "<div>\n",
       "<style>\n",
       "    .dataframe thead tr:only-child th {\n",
       "        text-align: right;\n",
       "    }\n",
       "\n",
       "    .dataframe thead th {\n",
       "        text-align: left;\n",
       "    }\n",
       "\n",
       "    .dataframe tbody tr th {\n",
       "        vertical-align: top;\n",
       "    }\n",
       "</style>\n",
       "<table border=\"1\" class=\"dataframe\">\n",
       "  <thead>\n",
       "    <tr style=\"text-align: right;\">\n",
       "      <th></th>\n",
       "      <th>cars_per_cap</th>\n",
       "      <th>drives_right</th>\n",
       "    </tr>\n",
       "  </thead>\n",
       "  <tbody>\n",
       "    <tr>\n",
       "      <th>US</th>\n",
       "      <td>809</td>\n",
       "      <td>True</td>\n",
       "    </tr>\n",
       "    <tr>\n",
       "      <th>AUS</th>\n",
       "      <td>731</td>\n",
       "      <td>False</td>\n",
       "    </tr>\n",
       "    <tr>\n",
       "      <th>JAP</th>\n",
       "      <td>588</td>\n",
       "      <td>False</td>\n",
       "    </tr>\n",
       "    <tr>\n",
       "      <th>IN</th>\n",
       "      <td>18</td>\n",
       "      <td>False</td>\n",
       "    </tr>\n",
       "    <tr>\n",
       "      <th>RU</th>\n",
       "      <td>200</td>\n",
       "      <td>True</td>\n",
       "    </tr>\n",
       "    <tr>\n",
       "      <th>MOR</th>\n",
       "      <td>70</td>\n",
       "      <td>True</td>\n",
       "    </tr>\n",
       "    <tr>\n",
       "      <th>EG</th>\n",
       "      <td>45</td>\n",
       "      <td>True</td>\n",
       "    </tr>\n",
       "  </tbody>\n",
       "</table>\n",
       "</div>"
      ],
      "text/plain": [
       "     cars_per_cap  drives_right\n",
       "US            809          True\n",
       "AUS           731         False\n",
       "JAP           588         False\n",
       "IN             18         False\n",
       "RU            200          True\n",
       "MOR            70          True\n",
       "EG             45          True"
      ]
     },
     "execution_count": 5,
     "metadata": {},
     "output_type": "execute_result"
    }
   ],
   "source": [
    "cars[['cars_per_cap', 'drives_right']]"
   ]
  },
  {
   "cell_type": "markdown",
   "metadata": {},
   "source": [
    "Print out just the rows where they drive on right in that country."
   ]
  },
  {
   "cell_type": "code",
   "execution_count": 6,
   "metadata": {},
   "outputs": [
    {
     "data": {
      "text/html": [
       "<div>\n",
       "<style>\n",
       "    .dataframe thead tr:only-child th {\n",
       "        text-align: right;\n",
       "    }\n",
       "\n",
       "    .dataframe thead th {\n",
       "        text-align: left;\n",
       "    }\n",
       "\n",
       "    .dataframe tbody tr th {\n",
       "        vertical-align: top;\n",
       "    }\n",
       "</style>\n",
       "<table border=\"1\" class=\"dataframe\">\n",
       "  <thead>\n",
       "    <tr style=\"text-align: right;\">\n",
       "      <th></th>\n",
       "      <th>cars_per_cap</th>\n",
       "      <th>country</th>\n",
       "      <th>drives_right</th>\n",
       "    </tr>\n",
       "  </thead>\n",
       "  <tbody>\n",
       "    <tr>\n",
       "      <th>US</th>\n",
       "      <td>809</td>\n",
       "      <td>United States</td>\n",
       "      <td>True</td>\n",
       "    </tr>\n",
       "    <tr>\n",
       "      <th>RU</th>\n",
       "      <td>200</td>\n",
       "      <td>Russia</td>\n",
       "      <td>True</td>\n",
       "    </tr>\n",
       "    <tr>\n",
       "      <th>MOR</th>\n",
       "      <td>70</td>\n",
       "      <td>Morocco</td>\n",
       "      <td>True</td>\n",
       "    </tr>\n",
       "    <tr>\n",
       "      <th>EG</th>\n",
       "      <td>45</td>\n",
       "      <td>Egypt</td>\n",
       "      <td>True</td>\n",
       "    </tr>\n",
       "  </tbody>\n",
       "</table>\n",
       "</div>"
      ],
      "text/plain": [
       "     cars_per_cap        country  drives_right\n",
       "US            809  United States          True\n",
       "RU            200         Russia          True\n",
       "MOR            70        Morocco          True\n",
       "EG             45          Egypt          True"
      ]
     },
     "execution_count": 6,
     "metadata": {},
     "output_type": "execute_result"
    }
   ],
   "source": [
    "cars[cars['drives_right'] == True]"
   ]
  },
  {
   "cell_type": "markdown",
   "metadata": {},
   "source": [
    "### Tech Firms"
   ]
  },
  {
   "cell_type": "markdown",
   "metadata": {},
   "source": [
    "Run the cell below to load in some data into a Data Frame."
   ]
  },
  {
   "cell_type": "code",
   "execution_count": 7,
   "metadata": {},
   "outputs": [
    {
     "data": {
      "text/html": [
       "<div>\n",
       "<style>\n",
       "    .dataframe thead tr:only-child th {\n",
       "        text-align: right;\n",
       "    }\n",
       "\n",
       "    .dataframe thead th {\n",
       "        text-align: left;\n",
       "    }\n",
       "\n",
       "    .dataframe tbody tr th {\n",
       "        vertical-align: top;\n",
       "    }\n",
       "</style>\n",
       "<table border=\"1\" class=\"dataframe\">\n",
       "  <thead>\n",
       "    <tr style=\"text-align: right;\">\n",
       "      <th></th>\n",
       "      <th>Company</th>\n",
       "      <th>FY</th>\n",
       "      <th>Headquarters</th>\n",
       "      <th>Market cap ($B)</th>\n",
       "      <th>Revenue ($B)</th>\n",
       "    </tr>\n",
       "  </thead>\n",
       "  <tbody>\n",
       "    <tr>\n",
       "      <th>0</th>\n",
       "      <td>Apple Inc.</td>\n",
       "      <td>2016</td>\n",
       "      <td>Cupertino, CA, US</td>\n",
       "      <td>815.39</td>\n",
       "      <td>215.6</td>\n",
       "    </tr>\n",
       "    <tr>\n",
       "      <th>1</th>\n",
       "      <td>Amazon.com</td>\n",
       "      <td>2016</td>\n",
       "      <td>Seattle, WA, US</td>\n",
       "      <td>478.00</td>\n",
       "      <td>135.9</td>\n",
       "    </tr>\n",
       "    <tr>\n",
       "      <th>2</th>\n",
       "      <td>Samsung Electronics</td>\n",
       "      <td>2016</td>\n",
       "      <td>Suwon, South Korea</td>\n",
       "      <td>311.00</td>\n",
       "      <td>173.9</td>\n",
       "    </tr>\n",
       "    <tr>\n",
       "      <th>3</th>\n",
       "      <td>Foxconn</td>\n",
       "      <td>2016</td>\n",
       "      <td>New Taipei City, Taiwan</td>\n",
       "      <td>66.00</td>\n",
       "      <td>135.1</td>\n",
       "    </tr>\n",
       "    <tr>\n",
       "      <th>4</th>\n",
       "      <td>Alphabet Inc.</td>\n",
       "      <td>2016</td>\n",
       "      <td>Mountain View, CA, US</td>\n",
       "      <td>676.00</td>\n",
       "      <td>90.2</td>\n",
       "    </tr>\n",
       "    <tr>\n",
       "      <th>5</th>\n",
       "      <td>Microsoft</td>\n",
       "      <td>2016</td>\n",
       "      <td>Redmond, WA, US</td>\n",
       "      <td>561.00</td>\n",
       "      <td>85.3</td>\n",
       "    </tr>\n",
       "    <tr>\n",
       "      <th>6</th>\n",
       "      <td>Hitachi</td>\n",
       "      <td>2016</td>\n",
       "      <td>Tokyo, Japan</td>\n",
       "      <td>32.00</td>\n",
       "      <td>84.5</td>\n",
       "    </tr>\n",
       "    <tr>\n",
       "      <th>7</th>\n",
       "      <td>IBM</td>\n",
       "      <td>2016</td>\n",
       "      <td>Armonk, NY, US</td>\n",
       "      <td>145.00</td>\n",
       "      <td>79.9</td>\n",
       "    </tr>\n",
       "    <tr>\n",
       "      <th>8</th>\n",
       "      <td>Huawei</td>\n",
       "      <td>2016</td>\n",
       "      <td>Shenzhen, China</td>\n",
       "      <td>NaN</td>\n",
       "      <td>78.5</td>\n",
       "    </tr>\n",
       "    <tr>\n",
       "      <th>9</th>\n",
       "      <td>Sony</td>\n",
       "      <td>2016</td>\n",
       "      <td>Tokyo, Japan</td>\n",
       "      <td>51.00</td>\n",
       "      <td>70.1</td>\n",
       "    </tr>\n",
       "    <tr>\n",
       "      <th>10</th>\n",
       "      <td>Panasonic</td>\n",
       "      <td>2016</td>\n",
       "      <td>Osaka, Japan</td>\n",
       "      <td>33.00</td>\n",
       "      <td>67.7</td>\n",
       "    </tr>\n",
       "    <tr>\n",
       "      <th>11</th>\n",
       "      <td>Dell Technologies</td>\n",
       "      <td>2016</td>\n",
       "      <td>Austin, TX, US</td>\n",
       "      <td>14.00</td>\n",
       "      <td>64.8</td>\n",
       "    </tr>\n",
       "    <tr>\n",
       "      <th>12</th>\n",
       "      <td>Intel</td>\n",
       "      <td>2016</td>\n",
       "      <td>Santa Clara, CA, US</td>\n",
       "      <td>163.00</td>\n",
       "      <td>59.3</td>\n",
       "    </tr>\n",
       "    <tr>\n",
       "      <th>13</th>\n",
       "      <td>Hewlett Packard Enterprise</td>\n",
       "      <td>2016</td>\n",
       "      <td>Palo Alto, CA, US</td>\n",
       "      <td>30.00</td>\n",
       "      <td>50.1</td>\n",
       "    </tr>\n",
       "  </tbody>\n",
       "</table>\n",
       "</div>"
      ],
      "text/plain": [
       "                       Company    FY             Headquarters  \\\n",
       "0                   Apple Inc.  2016        Cupertino, CA, US   \n",
       "1                   Amazon.com  2016          Seattle, WA, US   \n",
       "2          Samsung Electronics  2016       Suwon, South Korea   \n",
       "3                      Foxconn  2016  New Taipei City, Taiwan   \n",
       "4                Alphabet Inc.  2016    Mountain View, CA, US   \n",
       "5                    Microsoft  2016          Redmond, WA, US   \n",
       "6                      Hitachi  2016             Tokyo, Japan   \n",
       "7                          IBM  2016           Armonk, NY, US   \n",
       "8                       Huawei  2016          Shenzhen, China   \n",
       "9                         Sony  2016             Tokyo, Japan   \n",
       "10                   Panasonic  2016             Osaka, Japan   \n",
       "11           Dell Technologies  2016           Austin, TX, US   \n",
       "12                       Intel  2016      Santa Clara, CA, US   \n",
       "13  Hewlett Packard Enterprise  2016        Palo Alto, CA, US   \n",
       "\n",
       "    Market cap ($B)  Revenue ($B)  \n",
       "0            815.39         215.6  \n",
       "1            478.00         135.9  \n",
       "2            311.00         173.9  \n",
       "3             66.00         135.1  \n",
       "4            676.00          90.2  \n",
       "5            561.00          85.3  \n",
       "6             32.00          84.5  \n",
       "7            145.00          79.9  \n",
       "8               NaN          78.5  \n",
       "9             51.00          70.1  \n",
       "10            33.00          67.7  \n",
       "11            14.00          64.8  \n",
       "12           163.00          59.3  \n",
       "13            30.00          50.1  "
      ]
     },
     "execution_count": 7,
     "metadata": {},
     "output_type": "execute_result"
    }
   ],
   "source": [
    "tech_firms = pd.read_json('data/tech_firms.json')\n",
    "# Shows the first 5 rows\n",
    "tech_firms"
   ]
  },
  {
   "cell_type": "markdown",
   "metadata": {},
   "source": [
    "How many companies are in this data frame?"
   ]
  },
  {
   "cell_type": "code",
   "execution_count": 8,
   "metadata": {},
   "outputs": [
    {
     "data": {
      "text/plain": [
       "14"
      ]
     },
     "execution_count": 8,
     "metadata": {},
     "output_type": "execute_result"
    }
   ],
   "source": [
    "len(tech_firms)"
   ]
  },
  {
   "cell_type": "markdown",
   "metadata": {},
   "source": [
    "Set the index of the Data Frame to be the `\"Company\"` column."
   ]
  },
  {
   "cell_type": "code",
   "execution_count": 9,
   "metadata": {
    "collapsed": true
   },
   "outputs": [],
   "source": [
    "tech_firms = tech_firms.set_index('Company')"
   ]
  },
  {
   "cell_type": "markdown",
   "metadata": {},
   "source": [
    "The financial year (`\"FY\"`) is the same for each company and isn't really necessary, drop this column from the table."
   ]
  },
  {
   "cell_type": "code",
   "execution_count": 10,
   "metadata": {
    "collapsed": true
   },
   "outputs": [],
   "source": [
    "tech_firms = tech_firms.drop('FY', axis=1)"
   ]
  },
  {
   "cell_type": "markdown",
   "metadata": {},
   "source": [
    "Huawei's Market Cap is officially a secret, but is estimated to be around $7.18B, fill in the market capitalisation for `Huawei` with this value:"
   ]
  },
  {
   "cell_type": "code",
   "execution_count": 11,
   "metadata": {
    "collapsed": true
   },
   "outputs": [],
   "source": [
    "tech_firms.loc['Huawei', 'Market cap ($B)'] = 7.1"
   ]
  },
  {
   "cell_type": "markdown",
   "metadata": {},
   "source": [
    "The employee number figures are given below in the variable employees. \n",
    "\n",
    "Add a new column named 'Employees' to your Data Frame."
   ]
  },
  {
   "cell_type": "code",
   "execution_count": 12,
   "metadata": {},
   "outputs": [
    {
     "data": {
      "text/html": [
       "<div>\n",
       "<style>\n",
       "    .dataframe thead tr:only-child th {\n",
       "        text-align: right;\n",
       "    }\n",
       "\n",
       "    .dataframe thead th {\n",
       "        text-align: left;\n",
       "    }\n",
       "\n",
       "    .dataframe tbody tr th {\n",
       "        vertical-align: top;\n",
       "    }\n",
       "</style>\n",
       "<table border=\"1\" class=\"dataframe\">\n",
       "  <thead>\n",
       "    <tr style=\"text-align: right;\">\n",
       "      <th></th>\n",
       "      <th>Headquarters</th>\n",
       "      <th>Market cap ($B)</th>\n",
       "      <th>Revenue ($B)</th>\n",
       "      <th>Employees</th>\n",
       "    </tr>\n",
       "    <tr>\n",
       "      <th>Company</th>\n",
       "      <th></th>\n",
       "      <th></th>\n",
       "      <th></th>\n",
       "      <th></th>\n",
       "    </tr>\n",
       "  </thead>\n",
       "  <tbody>\n",
       "    <tr>\n",
       "      <th>Apple Inc.</th>\n",
       "      <td>Cupertino, CA, US</td>\n",
       "      <td>815.39</td>\n",
       "      <td>215.6</td>\n",
       "      <td>116000</td>\n",
       "    </tr>\n",
       "    <tr>\n",
       "      <th>Amazon.com</th>\n",
       "      <td>Seattle, WA, US</td>\n",
       "      <td>478.00</td>\n",
       "      <td>135.9</td>\n",
       "      <td>341400</td>\n",
       "    </tr>\n",
       "    <tr>\n",
       "      <th>Samsung Electronics</th>\n",
       "      <td>Suwon, South Korea</td>\n",
       "      <td>311.00</td>\n",
       "      <td>173.9</td>\n",
       "      <td>325000</td>\n",
       "    </tr>\n",
       "    <tr>\n",
       "      <th>Foxconn</th>\n",
       "      <td>New Taipei City, Taiwan</td>\n",
       "      <td>66.00</td>\n",
       "      <td>135.1</td>\n",
       "      <td>726772</td>\n",
       "    </tr>\n",
       "    <tr>\n",
       "      <th>Alphabet Inc.</th>\n",
       "      <td>Mountain View, CA, US</td>\n",
       "      <td>676.00</td>\n",
       "      <td>90.2</td>\n",
       "      <td>72053</td>\n",
       "    </tr>\n",
       "  </tbody>\n",
       "</table>\n",
       "</div>"
      ],
      "text/plain": [
       "                                Headquarters  Market cap ($B)  Revenue ($B)  \\\n",
       "Company                                                                       \n",
       "Apple Inc.                 Cupertino, CA, US           815.39         215.6   \n",
       "Amazon.com                   Seattle, WA, US           478.00         135.9   \n",
       "Samsung Electronics       Suwon, South Korea           311.00         173.9   \n",
       "Foxconn              New Taipei City, Taiwan            66.00         135.1   \n",
       "Alphabet Inc.          Mountain View, CA, US           676.00          90.2   \n",
       "\n",
       "                     Employees  \n",
       "Company                         \n",
       "Apple Inc.              116000  \n",
       "Amazon.com              341400  \n",
       "Samsung Electronics     325000  \n",
       "Foxconn                 726772  \n",
       "Alphabet Inc.            72053  "
      ]
     },
     "execution_count": 12,
     "metadata": {},
     "output_type": "execute_result"
    }
   ],
   "source": [
    "employees = [116000, 341400, 325000, 726772, 72053, 114000, 303887,\n",
    "             414400, 180000, 128400, 257533, 138000, 106000, 195000]\n",
    "\n",
    "tech_firms['Employees'] = employees\n",
    "\n",
    "tech_firms.head()"
   ]
  },
  {
   "cell_type": "markdown",
   "metadata": {},
   "source": [
    "What is Microsoft's revenue per employee?"
   ]
  },
  {
   "cell_type": "code",
   "execution_count": 13,
   "metadata": {},
   "outputs": [
    {
     "data": {
      "text/plain": [
       "748245.61403508775"
      ]
     },
     "execution_count": 13,
     "metadata": {},
     "output_type": "execute_result"
    }
   ],
   "source": [
    "billion = 10 ** 9\n",
    "tech_firms.loc['Microsoft', 'Revenue ($B)'] * billion / tech_firms.loc['Microsoft', 'Employees']"
   ]
  },
  {
   "cell_type": "markdown",
   "metadata": {},
   "source": [
    "Select all the companies with a `\"Headquarters\"` in either `\"Tokyo, Japan\"` or `\"Osaka, Japan\"`. (Don't set this to a variable.)"
   ]
  },
  {
   "cell_type": "code",
   "execution_count": 14,
   "metadata": {},
   "outputs": [
    {
     "data": {
      "text/html": [
       "<div>\n",
       "<style>\n",
       "    .dataframe thead tr:only-child th {\n",
       "        text-align: right;\n",
       "    }\n",
       "\n",
       "    .dataframe thead th {\n",
       "        text-align: left;\n",
       "    }\n",
       "\n",
       "    .dataframe tbody tr th {\n",
       "        vertical-align: top;\n",
       "    }\n",
       "</style>\n",
       "<table border=\"1\" class=\"dataframe\">\n",
       "  <thead>\n",
       "    <tr style=\"text-align: right;\">\n",
       "      <th></th>\n",
       "      <th>Headquarters</th>\n",
       "      <th>Market cap ($B)</th>\n",
       "      <th>Revenue ($B)</th>\n",
       "      <th>Employees</th>\n",
       "    </tr>\n",
       "    <tr>\n",
       "      <th>Company</th>\n",
       "      <th></th>\n",
       "      <th></th>\n",
       "      <th></th>\n",
       "      <th></th>\n",
       "    </tr>\n",
       "  </thead>\n",
       "  <tbody>\n",
       "    <tr>\n",
       "      <th>Hitachi</th>\n",
       "      <td>Tokyo, Japan</td>\n",
       "      <td>32.0</td>\n",
       "      <td>84.5</td>\n",
       "      <td>303887</td>\n",
       "    </tr>\n",
       "    <tr>\n",
       "      <th>Sony</th>\n",
       "      <td>Tokyo, Japan</td>\n",
       "      <td>51.0</td>\n",
       "      <td>70.1</td>\n",
       "      <td>128400</td>\n",
       "    </tr>\n",
       "    <tr>\n",
       "      <th>Panasonic</th>\n",
       "      <td>Osaka, Japan</td>\n",
       "      <td>33.0</td>\n",
       "      <td>67.7</td>\n",
       "      <td>257533</td>\n",
       "    </tr>\n",
       "  </tbody>\n",
       "</table>\n",
       "</div>"
      ],
      "text/plain": [
       "           Headquarters  Market cap ($B)  Revenue ($B)  Employees\n",
       "Company                                                          \n",
       "Hitachi    Tokyo, Japan             32.0          84.5     303887\n",
       "Sony       Tokyo, Japan             51.0          70.1     128400\n",
       "Panasonic  Osaka, Japan             33.0          67.7     257533"
      ]
     },
     "execution_count": 14,
     "metadata": {},
     "output_type": "execute_result"
    }
   ],
   "source": [
    "tech_firms[(tech_firms['Headquarters'] == \"Tokyo, Japan\") | (tech_firms['Headquarters'] == \"Osaka, Japan\")]"
   ]
  },
  {
   "cell_type": "markdown",
   "metadata": {},
   "source": [
    "Select all the companies with more than 200,000 employees that have a market capitalisation of over $100 billion. (Don't set this to a variable.)"
   ]
  },
  {
   "cell_type": "code",
   "execution_count": 15,
   "metadata": {},
   "outputs": [
    {
     "data": {
      "text/html": [
       "<div>\n",
       "<style>\n",
       "    .dataframe thead tr:only-child th {\n",
       "        text-align: right;\n",
       "    }\n",
       "\n",
       "    .dataframe thead th {\n",
       "        text-align: left;\n",
       "    }\n",
       "\n",
       "    .dataframe tbody tr th {\n",
       "        vertical-align: top;\n",
       "    }\n",
       "</style>\n",
       "<table border=\"1\" class=\"dataframe\">\n",
       "  <thead>\n",
       "    <tr style=\"text-align: right;\">\n",
       "      <th></th>\n",
       "      <th>Headquarters</th>\n",
       "      <th>Market cap ($B)</th>\n",
       "      <th>Revenue ($B)</th>\n",
       "      <th>Employees</th>\n",
       "    </tr>\n",
       "    <tr>\n",
       "      <th>Company</th>\n",
       "      <th></th>\n",
       "      <th></th>\n",
       "      <th></th>\n",
       "      <th></th>\n",
       "    </tr>\n",
       "  </thead>\n",
       "  <tbody>\n",
       "    <tr>\n",
       "      <th>Amazon.com</th>\n",
       "      <td>Seattle, WA, US</td>\n",
       "      <td>478.0</td>\n",
       "      <td>135.9</td>\n",
       "      <td>341400</td>\n",
       "    </tr>\n",
       "    <tr>\n",
       "      <th>Samsung Electronics</th>\n",
       "      <td>Suwon, South Korea</td>\n",
       "      <td>311.0</td>\n",
       "      <td>173.9</td>\n",
       "      <td>325000</td>\n",
       "    </tr>\n",
       "    <tr>\n",
       "      <th>IBM</th>\n",
       "      <td>Armonk, NY, US</td>\n",
       "      <td>145.0</td>\n",
       "      <td>79.9</td>\n",
       "      <td>414400</td>\n",
       "    </tr>\n",
       "  </tbody>\n",
       "</table>\n",
       "</div>"
      ],
      "text/plain": [
       "                           Headquarters  Market cap ($B)  Revenue ($B)  \\\n",
       "Company                                                                  \n",
       "Amazon.com              Seattle, WA, US            478.0         135.9   \n",
       "Samsung Electronics  Suwon, South Korea            311.0         173.9   \n",
       "IBM                      Armonk, NY, US            145.0          79.9   \n",
       "\n",
       "                     Employees  \n",
       "Company                         \n",
       "Amazon.com              341400  \n",
       "Samsung Electronics     325000  \n",
       "IBM                     414400  "
      ]
     },
     "execution_count": 15,
     "metadata": {},
     "output_type": "execute_result"
    }
   ],
   "source": [
    "tech_firms[(tech_firms['Employees'] > 200000) & (tech_firms['Market cap ($B)'] > 100)]"
   ]
  },
  {
   "cell_type": "markdown",
   "metadata": {},
   "source": [
    "Sort the data frame by alphabetical order of the company."
   ]
  },
  {
   "cell_type": "code",
   "execution_count": 16,
   "metadata": {},
   "outputs": [
    {
     "data": {
      "text/html": [
       "<div>\n",
       "<style>\n",
       "    .dataframe thead tr:only-child th {\n",
       "        text-align: right;\n",
       "    }\n",
       "\n",
       "    .dataframe thead th {\n",
       "        text-align: left;\n",
       "    }\n",
       "\n",
       "    .dataframe tbody tr th {\n",
       "        vertical-align: top;\n",
       "    }\n",
       "</style>\n",
       "<table border=\"1\" class=\"dataframe\">\n",
       "  <thead>\n",
       "    <tr style=\"text-align: right;\">\n",
       "      <th></th>\n",
       "      <th>Headquarters</th>\n",
       "      <th>Market cap ($B)</th>\n",
       "      <th>Revenue ($B)</th>\n",
       "      <th>Employees</th>\n",
       "    </tr>\n",
       "    <tr>\n",
       "      <th>Company</th>\n",
       "      <th></th>\n",
       "      <th></th>\n",
       "      <th></th>\n",
       "      <th></th>\n",
       "    </tr>\n",
       "  </thead>\n",
       "  <tbody>\n",
       "    <tr>\n",
       "      <th>Alphabet Inc.</th>\n",
       "      <td>Mountain View, CA, US</td>\n",
       "      <td>676.00</td>\n",
       "      <td>90.2</td>\n",
       "      <td>72053</td>\n",
       "    </tr>\n",
       "    <tr>\n",
       "      <th>Amazon.com</th>\n",
       "      <td>Seattle, WA, US</td>\n",
       "      <td>478.00</td>\n",
       "      <td>135.9</td>\n",
       "      <td>341400</td>\n",
       "    </tr>\n",
       "    <tr>\n",
       "      <th>Apple Inc.</th>\n",
       "      <td>Cupertino, CA, US</td>\n",
       "      <td>815.39</td>\n",
       "      <td>215.6</td>\n",
       "      <td>116000</td>\n",
       "    </tr>\n",
       "    <tr>\n",
       "      <th>Dell Technologies</th>\n",
       "      <td>Austin, TX, US</td>\n",
       "      <td>14.00</td>\n",
       "      <td>64.8</td>\n",
       "      <td>138000</td>\n",
       "    </tr>\n",
       "    <tr>\n",
       "      <th>Foxconn</th>\n",
       "      <td>New Taipei City, Taiwan</td>\n",
       "      <td>66.00</td>\n",
       "      <td>135.1</td>\n",
       "      <td>726772</td>\n",
       "    </tr>\n",
       "    <tr>\n",
       "      <th>Hewlett Packard Enterprise</th>\n",
       "      <td>Palo Alto, CA, US</td>\n",
       "      <td>30.00</td>\n",
       "      <td>50.1</td>\n",
       "      <td>195000</td>\n",
       "    </tr>\n",
       "    <tr>\n",
       "      <th>Hitachi</th>\n",
       "      <td>Tokyo, Japan</td>\n",
       "      <td>32.00</td>\n",
       "      <td>84.5</td>\n",
       "      <td>303887</td>\n",
       "    </tr>\n",
       "    <tr>\n",
       "      <th>Huawei</th>\n",
       "      <td>Shenzhen, China</td>\n",
       "      <td>7.10</td>\n",
       "      <td>78.5</td>\n",
       "      <td>180000</td>\n",
       "    </tr>\n",
       "    <tr>\n",
       "      <th>IBM</th>\n",
       "      <td>Armonk, NY, US</td>\n",
       "      <td>145.00</td>\n",
       "      <td>79.9</td>\n",
       "      <td>414400</td>\n",
       "    </tr>\n",
       "    <tr>\n",
       "      <th>Intel</th>\n",
       "      <td>Santa Clara, CA, US</td>\n",
       "      <td>163.00</td>\n",
       "      <td>59.3</td>\n",
       "      <td>106000</td>\n",
       "    </tr>\n",
       "    <tr>\n",
       "      <th>Microsoft</th>\n",
       "      <td>Redmond, WA, US</td>\n",
       "      <td>561.00</td>\n",
       "      <td>85.3</td>\n",
       "      <td>114000</td>\n",
       "    </tr>\n",
       "    <tr>\n",
       "      <th>Panasonic</th>\n",
       "      <td>Osaka, Japan</td>\n",
       "      <td>33.00</td>\n",
       "      <td>67.7</td>\n",
       "      <td>257533</td>\n",
       "    </tr>\n",
       "    <tr>\n",
       "      <th>Samsung Electronics</th>\n",
       "      <td>Suwon, South Korea</td>\n",
       "      <td>311.00</td>\n",
       "      <td>173.9</td>\n",
       "      <td>325000</td>\n",
       "    </tr>\n",
       "    <tr>\n",
       "      <th>Sony</th>\n",
       "      <td>Tokyo, Japan</td>\n",
       "      <td>51.00</td>\n",
       "      <td>70.1</td>\n",
       "      <td>128400</td>\n",
       "    </tr>\n",
       "  </tbody>\n",
       "</table>\n",
       "</div>"
      ],
      "text/plain": [
       "                                       Headquarters  Market cap ($B)  \\\n",
       "Company                                                                \n",
       "Alphabet Inc.                 Mountain View, CA, US           676.00   \n",
       "Amazon.com                          Seattle, WA, US           478.00   \n",
       "Apple Inc.                        Cupertino, CA, US           815.39   \n",
       "Dell Technologies                    Austin, TX, US            14.00   \n",
       "Foxconn                     New Taipei City, Taiwan            66.00   \n",
       "Hewlett Packard Enterprise        Palo Alto, CA, US            30.00   \n",
       "Hitachi                                Tokyo, Japan            32.00   \n",
       "Huawei                              Shenzhen, China             7.10   \n",
       "IBM                                  Armonk, NY, US           145.00   \n",
       "Intel                           Santa Clara, CA, US           163.00   \n",
       "Microsoft                           Redmond, WA, US           561.00   \n",
       "Panasonic                              Osaka, Japan            33.00   \n",
       "Samsung Electronics              Suwon, South Korea           311.00   \n",
       "Sony                                   Tokyo, Japan            51.00   \n",
       "\n",
       "                            Revenue ($B)  Employees  \n",
       "Company                                              \n",
       "Alphabet Inc.                       90.2      72053  \n",
       "Amazon.com                         135.9     341400  \n",
       "Apple Inc.                         215.6     116000  \n",
       "Dell Technologies                   64.8     138000  \n",
       "Foxconn                            135.1     726772  \n",
       "Hewlett Packard Enterprise          50.1     195000  \n",
       "Hitachi                             84.5     303887  \n",
       "Huawei                              78.5     180000  \n",
       "IBM                                 79.9     414400  \n",
       "Intel                               59.3     106000  \n",
       "Microsoft                           85.3     114000  \n",
       "Panasonic                           67.7     257533  \n",
       "Samsung Electronics                173.9     325000  \n",
       "Sony                                70.1     128400  "
      ]
     },
     "execution_count": 16,
     "metadata": {},
     "output_type": "execute_result"
    }
   ],
   "source": [
    "tech_firms = tech_firms.sort_index()\n",
    "\n",
    "tech_firms"
   ]
  },
  {
   "cell_type": "markdown",
   "metadata": {},
   "source": [
    "What is the minimum market capitalisation of the companies with a revenue more than $75 billion?"
   ]
  },
  {
   "cell_type": "code",
   "execution_count": 17,
   "metadata": {},
   "outputs": [
    {
     "data": {
      "text/plain": [
       "7100000000.0"
      ]
     },
     "execution_count": 17,
     "metadata": {},
     "output_type": "execute_result"
    }
   ],
   "source": [
    "np.min(tech_firms[tech_firms['Revenue ($B)'] > 75]['Market cap ($B)']) * billion"
   ]
  },
  {
   "cell_type": "markdown",
   "metadata": {},
   "source": [
    "What is the mean revenue of all the companies?"
   ]
  },
  {
   "cell_type": "code",
   "execution_count": 18,
   "metadata": {},
   "outputs": [
    {
     "data": {
      "text/plain": [
       "99350000000.000015"
      ]
     },
     "execution_count": 18,
     "metadata": {},
     "output_type": "execute_result"
    }
   ],
   "source": [
    "np.mean(tech_firms['Revenue ($B)']) * billion"
   ]
  },
  {
   "cell_type": "markdown",
   "metadata": {},
   "source": [
    "What is the total market capitalisation of all the companies?"
   ]
  },
  {
   "cell_type": "code",
   "execution_count": 19,
   "metadata": {},
   "outputs": [
    {
     "data": {
      "text/plain": [
       "3382490000000.0"
      ]
     },
     "execution_count": 19,
     "metadata": {},
     "output_type": "execute_result"
    }
   ],
   "source": [
    "np.sum(tech_firms['Market cap ($B)']) * billion"
   ]
  }
 ],
 "metadata": {
  "kernelspec": {
   "display_name": "Python 3",
   "language": "python",
   "name": "python3"
  },
  "language_info": {
   "codemirror_mode": {
    "name": "ipython",
    "version": 3
   },
   "file_extension": ".py",
   "mimetype": "text/x-python",
   "name": "python",
   "nbconvert_exporter": "python",
   "pygments_lexer": "ipython3",
   "version": "3.6.1"
  }
 },
 "nbformat": 4,
 "nbformat_minor": 2
}
